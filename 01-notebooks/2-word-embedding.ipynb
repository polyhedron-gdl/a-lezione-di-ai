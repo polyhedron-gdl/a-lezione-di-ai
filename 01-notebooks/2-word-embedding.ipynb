{
 "cells": [
  {
   "cell_type": "markdown",
   "id": "38a1488d",
   "metadata": {},
   "source": [
    "# Spazi Vettoriali e Parole"
   ]
  },
  {
   "cell_type": "markdown",
   "id": "3ff3bbad",
   "metadata": {},
   "source": [
    "## Che cos'è un Vettore"
   ]
  },
  {
   "cell_type": "markdown",
   "id": "4d811612",
   "metadata": {},
   "source": [
    "Immaginiamo di trovarci su un'isola immaginaria, come mostrano le immagini allegate. Su quest’isola ci sono varie attrazioni turistiche: un faro, un vulcano, una palma, una spiaggia, un castello. Sono luoghi ben precisi, visibili e facilmente riconoscibili. Ora proviamo a fare un piccolo sforzo mentale: vogliamo **descrivere la posizione** di ciascuna attrazione in un modo chiaro, condivisibile e, soprattutto, **calcolabile**."
   ]
  },
  {
   "cell_type": "markdown",
   "id": "bb2f7653",
   "metadata": {},
   "source": [
    "<img src=\"./pictures/vettori-1.png\" alt=\"Descrizione dell'immagine\" width=\"400\" height=\"200\" />"
   ]
  },
  {
   "cell_type": "markdown",
   "id": "84efd66a",
   "metadata": {},
   "source": [
    "### Dalle immagini alle coordinate\n",
    "\n",
    "Nel primo disegno, notiamo che l'isola è attraversata da due linee perpendicolari: una orizzontale (asse X, Est-Ovest) e una verticale (asse Y, Nord-Sud). Questo sistema di assi divide l’isola in quattro quadranti, e permette di assegnare a ogni luogo una **coppia di numeri**: le sue **coordinate**.\n",
    "\n",
    "Ad esempio:\n",
    "\n",
    "* Il **Faro** si trova a sinistra e un po’ in alto, in posizione (−3, 2)\n",
    "* La **Spiaggia** è sulla destra e un po’ in basso, in (4, −1)\n",
    "* Il **Castello** è a destra e in basso, in (3, −2)\n"
   ]
  },
  {
   "cell_type": "markdown",
   "id": "55bed22e",
   "metadata": {},
   "source": [
    "<img src=\"./pictures/vettori-2.png\" alt=\"Descrizione dell'immagine\" width=\"400\" height=\"200\" />"
   ]
  },
  {
   "cell_type": "markdown",
   "id": "c7dd0d5f",
   "metadata": {},
   "source": [
    "### Dalle coordinate al concetto di vettore\n",
    "\n",
    "Finora abbiamo parlato di “punti” su una mappa. Ma se ora immaginiamo di voler **muoverci** da un punto all’altro — ad esempio dal faro al vulcano — abbiamo bisogno di qualcosa che non dica solo **dove siamo**, ma anche **come spostarci**.\n",
    "\n",
    "Qui entra in gioco il **vettore**.\n",
    "\n",
    "Un **vettore** è una **freccia che unisce due punti**, indicando:\n",
    "\n",
    "1. **direzione** (verso dove andare)\n",
    "2. **verso** (da dove a dove)\n",
    "3. **lunghezza** (quanto spostarsi)\n",
    "\n",
    "Ad esempio, il vettore che va dal Faro al Vulcano dice: “spostati di 7 unità verso Est (da −4 a 3) e di 1 unità verso Nord (da 2 a 3)”. Questo lo possiamo scrivere come il vettore **(7, 1)**.\n",
    "\n",
    "\n",
    "\n",
    "**Il salto concettuale: spazio vettoriale**\n",
    "\n",
    "Quando iniziamo a lavorare con vettori, ci accorgiamo che hanno delle proprietà molto interessanti:\n",
    "\n",
    "* Possiamo **sommarli** (fare un tragitto in due tappe)\n",
    "* Possiamo **scalarli** (fare lo stesso tragitto ma due volte più lungo)\n",
    "* Possiamo **confrontare** vettori che hanno la stessa direzione, verso e lunghezza, anche se partono da punti diversi\n",
    "\n",
    "Tutto questo avviene in quello che in matematica si chiama **spazio vettoriale**: un insieme di vettori su cui è possibile fare queste operazioni in modo coerente.\n",
    "\n",
    "Nel nostro caso, lo spazio è il piano delle coordinate (X, Y), dove ogni vettore è rappresentato da una coppia di numeri. È come un linguaggio universale per descrivere spostamenti e posizioni.\n",
    "\n",
    "\n",
    "**In sintesi**\n",
    "\n",
    "* Ogni attrazione turistica dell’isola ha una **posizione**, data da una **coppia di coordinate** (x, y)\n",
    "* Ogni **spostamento** da un punto a un altro può essere rappresentato come un **vettore**\n",
    "* I vettori hanno direzione, verso e lunghezza\n",
    "* Insieme, i vettori formano uno **spazio vettoriale**, una struttura matematica che ci permette di analizzare e combinare movimenti e relazioni spaziali"
   ]
  },
  {
   "cell_type": "markdown",
   "id": "9bdf82bb",
   "metadata": {},
   "source": [
    "### Un primo passo verso l'astrazione: misurare caratteristiche non spaziali\n",
    "\n",
    "Abbiamo compreso facilmente che un vettore nello spazio tridimensionale è rappresentato da tre numeri (le coordinate cartesiane x, y, z). Ad esempio:\n",
    "\n",
    "* La posizione di una città può essere identificata da tre coordinate geografiche.\n",
    "* Un punto in una stanza può essere identificato da tre coordinate (lunghezza, larghezza, altezza).\n",
    "\n",
    "In questo caso le coordinate rappresentano letteralmente una posizione nello spazio fisico, quello a cui siamo abituati.\n",
    "\n",
    "Adesso facciamo un piccolo passo verso l’astrazione, usando sempre dei vettori con coordinate numeriche, ma stavolta non riferite a posizioni nello spazio. Per esempio, immaginiamo di voler rappresentare delle persone attraverso alcune caratteristiche misurabili numericamente:\n",
    "\n",
    "> **Persona → (età, peso, altezza)**\n",
    "\n",
    "In questo modo, una persona può essere vista come un \"punto\" in uno spazio astratto definito da queste tre dimensioni: età, peso e altezza. Ad esempio:\n",
    "\n",
    "* Mario: (30 anni, 75 kg, 180 cm)\n",
    "* Lucia: (28 anni, 62 kg, 165 cm)\n",
    "\n",
    "***In questo \"spazio delle persone\", due individui con caratteristiche simili (ad esempio età simile, altezza simile) saranno due \"punti\" vicini tra loro***.\n",
    "\n",
    "Notiamo che, anche se parliamo ancora di numeri semplici, qui abbiamo fatto un primo passo verso l’astrazione: non siamo più nello spazio fisico, ma in uno spazio di **caratteristiche numeriche**.\n",
    "\n",
    "\n",
    "### Un ulteriore passo verso l’astrazione: includere caratteristiche non numeriche (qualitative)\n",
    "\n",
    "Ora facciamo un altro piccolo passo avanti: aggiungiamo caratteristiche non immediatamente numeriche ma che possiamo rappresentare numericamente.\n",
    "\n",
    "Immaginiamo ad esempio di voler rappresentare dei film tramite vettori numerici, usando alcune caratteristiche come:\n",
    "\n",
    "* Quanto è comico (da 0 a 10)\n",
    "* Quanto è drammatico (da 0 a 10)\n",
    "* Quanto è romantico (da 0 a 10)\n",
    "\n",
    "Ogni film potrebbe essere descritto da un vettore di tre numeri che rappresentano intensità di caratteristiche qualitative:\n",
    "\n",
    "* Film A (molto comico, poco drammatico, medio romantico): `(8, 2, 5)`\n",
    "* Film B (poco comico, molto drammatico, molto romantico): `(1, 9, 8)`\n",
    "\n",
    "In questo spazio astratto, due film simili si troveranno \"vicini\" tra loro, proprio come due città vicine in una mappa, anche se lo spazio non ha più nulla a che vedere con posizioni fisiche.\n",
    "\n",
    "### Il salto finale: rappresentare concetti astratti come le parole\n",
    "\n",
    "Finalmente, siamo pronti per il salto finale, quello più astratto di tutti:\n",
    "\n",
    "> E se provassimo a rappresentare **il significato delle parole** con numeri?\n",
    "\n",
    "L'idea del word embedding nasce proprio qui: rappresentare una parola come una lista di numeri (un vettore), ciascuno dei quali esprime quanto la parola è associata a concetti o contesti particolari.\n",
    "\n",
    "Ad esempio, per le parole \"gatto\", \"cane\" e \"automobile\", un modello intelligente potrebbe assegnare coordinate numeriche in modo che:\n",
    "\n",
    "* `\"gatto\" = (8, 9, 1, ...)`\n",
    "* `\"cane\" = (7.5, 9.2, 1.5, ...)`\n",
    "* `\"automobile\" = (0.5, 1, 9.5, ...)`\n",
    "\n",
    "Anche se queste coordinate non sono più interpretabili facilmente una ad una (sono prodotte automaticamente dai modelli di AI), si mantengono due proprietà importanti:\n",
    "\n",
    "* Parole con significati simili hanno vettori vicini nello spazio astratto.\n",
    "* Parole con significati molto diversi hanno vettori lontani.\n",
    "\n",
    "Quindi, come nello spazio ordinario:\n",
    "\n",
    "* Vicinanza geografica → città vicine.\n",
    "* Vicinanza astratta → significati vicini."
   ]
  },
  {
   "cell_type": "markdown",
   "id": "f7c7bf94",
   "metadata": {},
   "source": [
    "### Riassunto del percorso fatto:\n",
    "\n",
    "| Livello                | Esempio                 | Componenti del vettore                                                |\n",
    "| :---------------------- | :----------------------- | :--------------------------------------------------------------------- |\n",
    "| 1️⃣ Ordinario          | Posizione geografica    | Coordinate spaziali (x,y,z)                                           |\n",
    "| 2️⃣ Prima astrazione   | Persone                 | Caratteristiche numeriche (età, peso, altezza)                        |\n",
    "| 3️⃣ Seconda astrazione | Film                    | Caratteristiche qualitative numeriche (comico, romantico, drammatico) |\n",
    "| 4️⃣ Totale astrazione  | Parole (Word embedding) | Coordinate semantiche automatiche                                     |"
   ]
  },
  {
   "cell_type": "markdown",
   "id": "966cc4b1",
   "metadata": {},
   "source": [
    "## Il modello Bag of Words"
   ]
  },
  {
   "cell_type": "markdown",
   "id": "cdd83dfc",
   "metadata": {},
   "source": [
    "Immaginiamo che la nostra macchina capisca solo un piccolo dizionario di poche parole. Per costruire i vettori che rappresentano le frasi date utilizzando il metodo *Bag of Words*, inizieremo creando un dizionario con questi termini. Nella *Bag of Words* ogni frase è trasformata in un vettore, lungo esattamente come il vocabolario, nel quale ad ogni elemento corrisponde una parola del dizionario.\n",
    "\n",
    "Il valore di ciascun elemento del vettore verrà calcolato contando la frequenza di ciascuna parola. Se una parola del dizionario non appare nella frase il suo conteggio sarà $0$. Se appare una o più volte, il valore sarà pari a $1$ o al numero totale di volte che la parola appare nella frase..."
   ]
  },
  {
   "cell_type": "code",
   "execution_count": 1,
   "id": "5863a0ce",
   "metadata": {},
   "outputs": [],
   "source": [
    "def costruisci_dizionario(frase):\n",
    "    import re\n",
    "    from collections import Counter\n",
    "\n",
    "    # Pulisce e divide in parole\n",
    "    parole = re.findall(r'\\b\\w+\\b', frase.lower())\n",
    "    conteggio = Counter(parole)\n",
    "\n",
    "    # Lista predefinita di parole da visualizzare\n",
    "    parole_uniche = ['amo', 'casa', 'il', 'ma', 'non', 'sole', 'stare', 'viaggiare', 'volare', 'vorrei']\n",
    "\n",
    "    # Larghezza fissa per ciascuna colonna\n",
    "    larghezza = max(len(w) for w in parole_uniche) + 2\n",
    "    n = len(parole_uniche)\n",
    "\n",
    "    # Funzioni per costruire la tabella\n",
    "    def linea_superiore():\n",
    "        return \"┌\" + \"┬\".join([\"─\" * larghezza] * n) + \"┐\"\n",
    "\n",
    "    def linea_centrale():\n",
    "        return \"├\" + \"┼\".join([\"─\" * larghezza] * n) + \"┤\"\n",
    "\n",
    "    def linea_inferiore():\n",
    "        return \"└\" + \"┴\".join([\"─\" * larghezza] * n) + \"┘\"\n",
    "\n",
    "    def riga_valori(valori):\n",
    "        return \"│\" + \"│\".join(f\"{valori[i]:^{larghezza}}\" for i in range(n)) + \"│\"\n",
    "\n",
    "    # Intestazione\n",
    "    dizionario_str = \"VETTORE\\n\"\n",
    "    dizionario_str += \"Indice:\\n\"\n",
    "    dizionario_str += \" \" + \" \".join(f\"{i+1:^{larghezza}}\" for i in range(n)) + \"\\n\\n\"\n",
    "\n",
    "    # Costruzione riga valori (parole)\n",
    "    dizionario_str += linea_superiore() + \"\\n\"\n",
    "    dizionario_str += riga_valori(parole_uniche) + \"\\n\"\n",
    "    dizionario_str += linea_centrale() + \"\\n\"\n",
    "\n",
    "    # Riga dei conteggi o spazi vuoti\n",
    "    if not parole:\n",
    "        frequenze = [\" \" for _ in parole_uniche]\n",
    "    else:\n",
    "        frequenze = [conteggio[w] for w in parole_uniche]\n",
    "\n",
    "    dizionario_str += riga_valori(frequenze) + \"\\n\"\n",
    "    dizionario_str += linea_inferiore()\n",
    "\n",
    "    return dizionario_str"
   ]
  },
  {
   "cell_type": "code",
   "execution_count": 2,
   "id": "086c1cd0",
   "metadata": {},
   "outputs": [
    {
     "name": "stdout",
     "output_type": "stream",
     "text": [
      "\n",
      "FRASE:   \n",
      "\n",
      "VETTORE\n",
      "Indice:\n",
      "      1           2           3           4           5           6           7           8           9          10     \n",
      "\n",
      "┌───────────┬───────────┬───────────┬───────────┬───────────┬───────────┬───────────┬───────────┬───────────┬───────────┐\n",
      "│    amo    │   casa    │    il     │    ma     │    non    │   sole    │   stare   │ viaggiare │  volare   │  vorrei   │\n",
      "├───────────┼───────────┼───────────┼───────────┼───────────┼───────────┼───────────┼───────────┼───────────┼───────────┤\n",
      "│           │           │           │           │           │           │           │           │           │           │\n",
      "└───────────┴───────────┴───────────┴───────────┴───────────┴───────────┴───────────┴───────────┴───────────┴───────────┘\n",
      "\n",
      "FRASE:  amo viaggiare ma non amo volare \n",
      "\n",
      "VETTORE\n",
      "Indice:\n",
      "      1           2           3           4           5           6           7           8           9          10     \n",
      "\n",
      "┌───────────┬───────────┬───────────┬───────────┬───────────┬───────────┬───────────┬───────────┬───────────┬───────────┐\n",
      "│    amo    │   casa    │    il     │    ma     │    non    │   sole    │   stare   │ viaggiare │  volare   │  vorrei   │\n",
      "├───────────┼───────────┼───────────┼───────────┼───────────┼───────────┼───────────┼───────────┼───────────┼───────────┤\n",
      "│     2     │     0     │     0     │     1     │     1     │     0     │     0     │     1     │     1     │     0     │\n",
      "└───────────┴───────────┴───────────┴───────────┴───────────┴───────────┴───────────┴───────────┴───────────┴───────────┘\n",
      "\n",
      "FRASE:  vorrei stare a casa \n",
      "\n",
      "VETTORE\n",
      "Indice:\n",
      "      1           2           3           4           5           6           7           8           9          10     \n",
      "\n",
      "┌───────────┬───────────┬───────────┬───────────┬───────────┬───────────┬───────────┬───────────┬───────────┬───────────┐\n",
      "│    amo    │   casa    │    il     │    ma     │    non    │   sole    │   stare   │ viaggiare │  volare   │  vorrei   │\n",
      "├───────────┼───────────┼───────────┼───────────┼───────────┼───────────┼───────────┼───────────┼───────────┼───────────┤\n",
      "│     0     │     1     │     0     │     0     │     0     │     0     │     1     │     0     │     0     │     1     │\n",
      "└───────────┴───────────┴───────────┴───────────┴───────────┴───────────┴───────────┴───────────┴───────────┴───────────┘\n"
     ]
    }
   ],
   "source": [
    "# ESEMPIO DI UTILIZZO\n",
    "frase = \"\"\n",
    "print('\\nFRASE: ', frase, '\\n')\n",
    "print(costruisci_dizionario(frase))\n",
    "\n",
    "frase = \"amo viaggiare ma non amo volare\"\n",
    "print('\\nFRASE: ', frase, '\\n')\n",
    "print(costruisci_dizionario(frase))\n",
    "\n",
    "frase = \"vorrei stare a casa\"\n",
    "print('\\nFRASE: ', frase, '\\n')\n",
    "print(costruisci_dizionario(frase))"
   ]
  },
  {
   "cell_type": "markdown",
   "id": "62a6550a",
   "metadata": {},
   "source": [
    "Sembra funzionare, ogni frase ha il suo vettore. Ma quando proviamo frasi più complesse come le seguenti"
   ]
  },
  {
   "cell_type": "code",
   "execution_count": 3,
   "id": "1e6f5416",
   "metadata": {},
   "outputs": [
    {
     "name": "stdout",
     "output_type": "stream",
     "text": [
      "\n",
      "FRASE:  amo viaggiare, vorrei non stare a casa \n",
      "\n",
      "VETTORE\n",
      "Indice:\n",
      "      1           2           3           4           5           6           7           8           9          10     \n",
      "\n",
      "┌───────────┬───────────┬───────────┬───────────┬───────────┬───────────┬───────────┬───────────┬───────────┬───────────┐\n",
      "│    amo    │   casa    │    il     │    ma     │    non    │   sole    │   stare   │ viaggiare │  volare   │  vorrei   │\n",
      "├───────────┼───────────┼───────────┼───────────┼───────────┼───────────┼───────────┼───────────┼───────────┼───────────┤\n",
      "│     1     │     1     │     0     │     0     │     1     │     0     │     1     │     1     │     0     │     1     │\n",
      "└───────────┴───────────┴───────────┴───────────┴───────────┴───────────┴───────────┴───────────┴───────────┴───────────┘\n",
      "\n",
      "FRASE:  non amo viaggiare, vorrei stare a casa \n",
      "\n",
      "VETTORE\n",
      "Indice:\n",
      "      1           2           3           4           5           6           7           8           9          10     \n",
      "\n",
      "┌───────────┬───────────┬───────────┬───────────┬───────────┬───────────┬───────────┬───────────┬───────────┬───────────┐\n",
      "│    amo    │   casa    │    il     │    ma     │    non    │   sole    │   stare   │ viaggiare │  volare   │  vorrei   │\n",
      "├───────────┼───────────┼───────────┼───────────┼───────────┼───────────┼───────────┼───────────┼───────────┼───────────┤\n",
      "│     1     │     1     │     0     │     0     │     1     │     0     │     1     │     1     │     0     │     1     │\n",
      "└───────────┴───────────┴───────────┴───────────┴───────────┴───────────┴───────────┴───────────┴───────────┴───────────┘\n"
     ]
    }
   ],
   "source": [
    "frase = \"amo viaggiare, vorrei non stare a casa\"\n",
    "print('\\nFRASE: ', frase, '\\n')\n",
    "print(costruisci_dizionario(frase))\n",
    "\n",
    "frase = \"non amo viaggiare, vorrei stare a casa\"\n",
    "print('\\nFRASE: ', frase, '\\n')\n",
    "print(costruisci_dizionario(frase))"
   ]
  },
  {
   "cell_type": "markdown",
   "id": "594e591f",
   "metadata": {},
   "source": [
    "ci accorgiamo che entrambe le frasi hanno la stessa rappresentazione vettoriale. Questo significa che, secondo questo modello, le frasi avranno il medesimo significato! Tuttavia le due frasi hanno significati opposti e questo dimostra chiaramente uno dei principali limiti di questo metodo nell'analisi del linguaggio naturale."
   ]
  },
  {
   "cell_type": "markdown",
   "id": "e7243f74",
   "metadata": {},
   "source": [
    "---"
   ]
  },
  {
   "cell_type": "markdown",
   "id": "850e8ba9",
   "metadata": {},
   "source": [
    "## Apprendere il Significato dal Contesto"
   ]
  },
  {
   "cell_type": "markdown",
   "id": "3a9120df",
   "metadata": {},
   "source": [
    "Coscienti di questi limiti i ricercatori hanno sviluppato modelli che partono dall'assunto che le parole che appaiono frequentemente vicine le une alle altre hanno significati più strettamente collegati. Quindi l'ipotesi è che analizzando le parole all'interno di una certa finestra di contesto attorno ad una parola target il modello possa apprendere rappresentazioni più precise. "
   ]
  },
  {
   "cell_type": "markdown",
   "id": "5095a357",
   "metadata": {},
   "source": [
    "---"
   ]
  },
  {
   "cell_type": "markdown",
   "id": "e52f4688",
   "metadata": {},
   "source": [
    "### Cos'è un word embedding?\n",
    "\n",
    "Un **word embedding** è un modo per rappresentare una parola come una **sequenza di numeri** (un vettore), così che i computer possano lavorare con le parole in modo simile a come fanno con i numeri.\n",
    "\n",
    "Ma non sono numeri qualsiasi. A differenza del modello BoW, ogni numero nel vettore **\"porta con sé un significato\"**, perché è stato appreso analizzando milioni di frasi e testi. In altre parole, i vettori **catturano il significato** delle parole basandosi su come queste vengono usate nel linguaggio.\n",
    "\n",
    "**Cosa vuol dire “dimensione” in un word embedding?**\n",
    "\n",
    "Immagina che ogni parola venga trasformata in un vettore con, ad esempio, **300 numeri**. Ogni numero è una **dimensione** dell'embedding.\n",
    "\n",
    "Ora: queste **dimensioni non sono etichette esplicite**, ma rappresentano **sfumature di significato** che l'algoritmo ha imparato da solo. Alcune di queste dimensioni possono (in modo implicito) rappresentare:\n",
    "\n",
    "* il concetto di **maschile vs femminile**\n",
    "* il grado di **astrazione** di una parola\n",
    "* la sua **carica emotiva** (positiva/negativa)\n",
    "* il legame con **luoghi** o **tempi**\n",
    "* la **categoria grammaticale** (sostantivo, verbo...)\n",
    "\n",
    "**Cosa si intende per \"dimensione semantica\"?**\n",
    "\n",
    "Una **dimensione semantica** è quindi **una direzione nello spazio dei significati**, lungo la quale possiamo cogliere un cambiamento semantico specifico.\n",
    "\n",
    "Un esempio molto noto:\n",
    "\n",
    "* Se prendiamo i vettori delle parole `re` (king), `regina` (queen), `uomo` (man) e `donna` (woman), il famoso esempio di word embedding è:\n",
    "\n",
    "  ```\n",
    "  re − uomo + donna ≈ regina\n",
    "  ```\n",
    "\n",
    "In questo caso, la **differenza tra \"re\" e \"uomo\"** può essere interpretata come una **dimensione semantica di regalità**, e la **differenza tra \"uomo\" e \"donna\"** come una **dimensione semantica di genere**.\n",
    "\n",
    "**Un'analogia visiva**\n",
    "\n",
    "Immagina uno spazio tridimensionale:\n",
    "\n",
    "* L’asse X potrebbe rappresentare **il grado di positività** della parola\n",
    "* L’asse Y il **campo semantico** (es. \"cibo\", \"emozione\", \"luogo\")\n",
    "* L’asse Z il **livello di concretezza** (oggetti tangibili vs concetti astratti)\n",
    "\n",
    "Una parola come **\"cioccolato\"** potrebbe avere coordinate (8, 2, 9), mentre **\"libertà\"** potrebbe stare a (5, 8, 1).\n",
    "\n",
    "In un vero word embedding ci sono **molte più dimensioni** (50, 100, 300...), ma il concetto è lo stesso: ogni direzione rappresenta **una possibile variazione di significato**.\n",
    "\n",
    "**Riassumendo**\n",
    "\n",
    "> Una **dimensione semantica** in un word embedding è una direzione nello spazio matematico che riflette **una caratteristica latente del significato** delle parole, appresa dai dati.\n",
    "\n",
    "Non sappiamo sempre **cosa** rappresenta esattamente ogni dimensione, ma possiamo studiarle osservando come le parole si posizionano e si muovono nello spazio."
   ]
  },
  {
   "cell_type": "markdown",
   "id": "9b660919",
   "metadata": {},
   "source": [
    "---"
   ]
  },
  {
   "cell_type": "markdown",
   "id": "b8dc6496",
   "metadata": {},
   "source": [
    "Il seguente script crea una **rappresentazione tridimensionale (3D)** di un piccolo **word embedding**, cioè una mappa spaziale in cui ogni parola è rappresentata da un punto nello spazio, in base a **tre “dimensioni semantiche”:**\n",
    "\n",
    "1. **Vivente** (asse X)\n",
    "2. **Dimensione fisica** (asse Y)\n",
    "3. **Tecnologia** (asse Z)\n",
    "\n",
    "**Cosa fa il codice, passo per passo**\n",
    "\n",
    "1. **Definizione dei dati**\n",
    "\n",
    "```python\n",
    "parole = {\n",
    "    \"gatto\"      : (1, 0.25, 0),\n",
    "    \"cane\"       : (1, 0.5, 0),\n",
    "    \"elefante\"   : (1, 1, 0),\n",
    "    \"drone\"      : (0, 0.5, 1),\n",
    "    \"automobile\" : (0, 1, 1),\n",
    "    \"camion\"     : (0, 1.2, 1),\n",
    "    \"pietra\"     : (0, 0, 0),\n",
    "}\n",
    "```\n",
    "\n",
    "Qui si definisce un **mini dizionario di parole** in cui ad ogni parola viene associata una **tripla di numeri**, come se fosse un punto in uno spazio 3D.\n",
    "\n",
    "* `gatto`, `cane`, `elefante` hanno X = 1 → sono **esseri viventi**\n",
    "* `drone`, `automobile`, `camion` hanno Z = 1 → sono **tecnologici**\n",
    "* `elefante` ha Y = 1 → è **grande**, mentre `pietra` ha tutto a 0 → non è vivente, non tecnologica, piccola\n",
    "\n",
    "> 👉 Questo è un esempio didattico: in un vero word embedding queste coordinate verrebbero apprese da un algoritmo. Qui invece sono scelte a mano per illustrare il concetto.\n",
    "\n",
    "2. **Separazione delle coordinate**\n",
    "\n",
    "```python\n",
    "x = [v[0] for v in parole.values()]\n",
    "y = [v[1] for v in parole.values()]\n",
    "z = [v[2] for v in parole.values()]\n",
    "labels = list(parole.keys())\n",
    "```\n",
    "\n",
    "Qui si preparano tre liste (x, y, z) che raccolgono le **coordinate di tutte le parole**, separate per asse.\n",
    "\n",
    "3. **Disegno degli assi**\n",
    "\n",
    "```python\n",
    "assi = [\n",
    "    go.Scatter3d(...),  # asse X (Vivente)\n",
    "    go.Scatter3d(...),  # asse Y (Dimensione)\n",
    "    go.Scatter3d(...)   # asse Z (Tecnologia)\n",
    "]\n",
    "```\n",
    "\n",
    "Si disegnano tre **assi cartesiani** in nero nello spazio 3D, così da mostrare il contesto spaziale delle parole.\n",
    "\n",
    "4. **Disegno dei punti (parole)**\n",
    "\n",
    "```python\n",
    "punti = go.Scatter3d(\n",
    "    x=x, y=y, z=z,\n",
    "    mode='markers+text',\n",
    "    text=labels,\n",
    "    ...\n",
    ")\n",
    "```\n",
    "\n",
    "Ogni parola viene visualizzata come:\n",
    "\n",
    "* un **punto azzurro**\n",
    "* con una **etichetta testuale** (il nome della parola)\n",
    "* posizionata secondo le coordinate definite sopra\n",
    "\n",
    "5. **Creazione e visualizzazione della scena**\n",
    "\n",
    "```python\n",
    "fig = go.Figure(data=assi + [punti])\n",
    "fig.update_layout(...)\n",
    "fig.show()\n",
    "```\n",
    "\n",
    "Infine si:\n",
    "\n",
    "* combinano gli assi + i punti in un’unica figura\n",
    "* si etichettano gli assi (`Vivente`, `Dimensione`, `Tecnologia`)\n",
    "* si mostra la scena interattiva in 3D\n",
    "\n",
    "\n",
    "**Cosa rappresenta questa visualizzazione?**\n",
    "\n",
    "* Le **parole sono punti** in uno spazio dove la distanza e la posizione **riflettono caratteristiche semantiche**.\n",
    "* Se due parole sono vicine, significa che **hanno significati simili** lungo le dimensioni scelte.\n",
    "* Se sono lontane, rappresentano **concetti diversi**.\n",
    "\n",
    "---\n",
    "**Esempi interpretativi**\n",
    "\n",
    "* `gatto` e `cane` sono vicini → entrambi viventi, taglia simile\n",
    "* `camion` e `automobile` sono vicini → non viventi, grandi, tecnologici\n",
    "* `pietra` è isolata → non è vivente, non è tecnologica, è piccola\n",
    "* `drone` è vicino alle auto → tecnologico, ma più piccolo"
   ]
  },
  {
   "cell_type": "code",
   "execution_count": 11,
   "id": "a9f464fb",
   "metadata": {},
   "outputs": [
    {
     "data": {
      "application/vnd.plotly.v1+json": {
       "config": {
        "plotlyServerURL": "https://plot.ly"
       },
       "data": [
        {
         "line": {
          "color": "black",
          "width": 4
         },
         "mode": "lines",
         "showlegend": false,
         "type": "scatter3d",
         "x": [
          0,
          1.2
         ],
         "y": [
          0,
          0
         ],
         "z": [
          0,
          0
         ]
        },
        {
         "line": {
          "color": "black",
          "width": 4
         },
         "mode": "lines",
         "showlegend": false,
         "type": "scatter3d",
         "x": [
          0,
          0
         ],
         "y": [
          0,
          1.2
         ],
         "z": [
          0,
          0
         ]
        },
        {
         "line": {
          "color": "black",
          "width": 4
         },
         "mode": "lines",
         "showlegend": false,
         "type": "scatter3d",
         "x": [
          0,
          0
         ],
         "y": [
          0,
          0
         ],
         "z": [
          0,
          1.2
         ]
        },
        {
         "marker": {
          "color": "skyblue",
          "line": {
           "color": "darkblue",
           "width": 1
          },
          "size": 3
         },
         "mode": "markers+text",
         "text": [
          "gatto",
          "cane",
          "elefante",
          "drone",
          "automobile",
          "camion",
          "pietra"
         ],
         "textposition": "top center",
         "type": "scatter3d",
         "x": [
          1,
          1,
          1,
          0,
          0,
          0,
          0
         ],
         "y": [
          0.25,
          0.5,
          1,
          0.5,
          1,
          1.2,
          0.1
         ],
         "z": [
          0,
          0,
          0,
          1,
          1,
          1,
          0
         ]
        }
       ],
       "layout": {
        "height": 500,
        "margin": {
         "b": 0,
         "l": 0,
         "r": 0,
         "t": 40
        },
        "scene": {
         "xaxis": {
          "showspikes": false,
          "title": {
           "text": "Vivente"
          }
         },
         "yaxis": {
          "showspikes": false,
          "title": {
           "text": "Grandezza"
          }
         },
         "zaxis": {
          "showspikes": false,
          "title": {
           "text": "Tecnologia"
          }
         }
        },
        "template": {
         "data": {
          "bar": [
           {
            "error_x": {
             "color": "#2a3f5f"
            },
            "error_y": {
             "color": "#2a3f5f"
            },
            "marker": {
             "line": {
              "color": "#E5ECF6",
              "width": 0.5
             },
             "pattern": {
              "fillmode": "overlay",
              "size": 10,
              "solidity": 0.2
             }
            },
            "type": "bar"
           }
          ],
          "barpolar": [
           {
            "marker": {
             "line": {
              "color": "#E5ECF6",
              "width": 0.5
             },
             "pattern": {
              "fillmode": "overlay",
              "size": 10,
              "solidity": 0.2
             }
            },
            "type": "barpolar"
           }
          ],
          "carpet": [
           {
            "aaxis": {
             "endlinecolor": "#2a3f5f",
             "gridcolor": "white",
             "linecolor": "white",
             "minorgridcolor": "white",
             "startlinecolor": "#2a3f5f"
            },
            "baxis": {
             "endlinecolor": "#2a3f5f",
             "gridcolor": "white",
             "linecolor": "white",
             "minorgridcolor": "white",
             "startlinecolor": "#2a3f5f"
            },
            "type": "carpet"
           }
          ],
          "choropleth": [
           {
            "colorbar": {
             "outlinewidth": 0,
             "ticks": ""
            },
            "type": "choropleth"
           }
          ],
          "contour": [
           {
            "colorbar": {
             "outlinewidth": 0,
             "ticks": ""
            },
            "colorscale": [
             [
              0,
              "#0d0887"
             ],
             [
              0.1111111111111111,
              "#46039f"
             ],
             [
              0.2222222222222222,
              "#7201a8"
             ],
             [
              0.3333333333333333,
              "#9c179e"
             ],
             [
              0.4444444444444444,
              "#bd3786"
             ],
             [
              0.5555555555555556,
              "#d8576b"
             ],
             [
              0.6666666666666666,
              "#ed7953"
             ],
             [
              0.7777777777777778,
              "#fb9f3a"
             ],
             [
              0.8888888888888888,
              "#fdca26"
             ],
             [
              1,
              "#f0f921"
             ]
            ],
            "type": "contour"
           }
          ],
          "contourcarpet": [
           {
            "colorbar": {
             "outlinewidth": 0,
             "ticks": ""
            },
            "type": "contourcarpet"
           }
          ],
          "heatmap": [
           {
            "colorbar": {
             "outlinewidth": 0,
             "ticks": ""
            },
            "colorscale": [
             [
              0,
              "#0d0887"
             ],
             [
              0.1111111111111111,
              "#46039f"
             ],
             [
              0.2222222222222222,
              "#7201a8"
             ],
             [
              0.3333333333333333,
              "#9c179e"
             ],
             [
              0.4444444444444444,
              "#bd3786"
             ],
             [
              0.5555555555555556,
              "#d8576b"
             ],
             [
              0.6666666666666666,
              "#ed7953"
             ],
             [
              0.7777777777777778,
              "#fb9f3a"
             ],
             [
              0.8888888888888888,
              "#fdca26"
             ],
             [
              1,
              "#f0f921"
             ]
            ],
            "type": "heatmap"
           }
          ],
          "heatmapgl": [
           {
            "colorbar": {
             "outlinewidth": 0,
             "ticks": ""
            },
            "colorscale": [
             [
              0,
              "#0d0887"
             ],
             [
              0.1111111111111111,
              "#46039f"
             ],
             [
              0.2222222222222222,
              "#7201a8"
             ],
             [
              0.3333333333333333,
              "#9c179e"
             ],
             [
              0.4444444444444444,
              "#bd3786"
             ],
             [
              0.5555555555555556,
              "#d8576b"
             ],
             [
              0.6666666666666666,
              "#ed7953"
             ],
             [
              0.7777777777777778,
              "#fb9f3a"
             ],
             [
              0.8888888888888888,
              "#fdca26"
             ],
             [
              1,
              "#f0f921"
             ]
            ],
            "type": "heatmapgl"
           }
          ],
          "histogram": [
           {
            "marker": {
             "pattern": {
              "fillmode": "overlay",
              "size": 10,
              "solidity": 0.2
             }
            },
            "type": "histogram"
           }
          ],
          "histogram2d": [
           {
            "colorbar": {
             "outlinewidth": 0,
             "ticks": ""
            },
            "colorscale": [
             [
              0,
              "#0d0887"
             ],
             [
              0.1111111111111111,
              "#46039f"
             ],
             [
              0.2222222222222222,
              "#7201a8"
             ],
             [
              0.3333333333333333,
              "#9c179e"
             ],
             [
              0.4444444444444444,
              "#bd3786"
             ],
             [
              0.5555555555555556,
              "#d8576b"
             ],
             [
              0.6666666666666666,
              "#ed7953"
             ],
             [
              0.7777777777777778,
              "#fb9f3a"
             ],
             [
              0.8888888888888888,
              "#fdca26"
             ],
             [
              1,
              "#f0f921"
             ]
            ],
            "type": "histogram2d"
           }
          ],
          "histogram2dcontour": [
           {
            "colorbar": {
             "outlinewidth": 0,
             "ticks": ""
            },
            "colorscale": [
             [
              0,
              "#0d0887"
             ],
             [
              0.1111111111111111,
              "#46039f"
             ],
             [
              0.2222222222222222,
              "#7201a8"
             ],
             [
              0.3333333333333333,
              "#9c179e"
             ],
             [
              0.4444444444444444,
              "#bd3786"
             ],
             [
              0.5555555555555556,
              "#d8576b"
             ],
             [
              0.6666666666666666,
              "#ed7953"
             ],
             [
              0.7777777777777778,
              "#fb9f3a"
             ],
             [
              0.8888888888888888,
              "#fdca26"
             ],
             [
              1,
              "#f0f921"
             ]
            ],
            "type": "histogram2dcontour"
           }
          ],
          "mesh3d": [
           {
            "colorbar": {
             "outlinewidth": 0,
             "ticks": ""
            },
            "type": "mesh3d"
           }
          ],
          "parcoords": [
           {
            "line": {
             "colorbar": {
              "outlinewidth": 0,
              "ticks": ""
             }
            },
            "type": "parcoords"
           }
          ],
          "pie": [
           {
            "automargin": true,
            "type": "pie"
           }
          ],
          "scatter": [
           {
            "fillpattern": {
             "fillmode": "overlay",
             "size": 10,
             "solidity": 0.2
            },
            "type": "scatter"
           }
          ],
          "scatter3d": [
           {
            "line": {
             "colorbar": {
              "outlinewidth": 0,
              "ticks": ""
             }
            },
            "marker": {
             "colorbar": {
              "outlinewidth": 0,
              "ticks": ""
             }
            },
            "type": "scatter3d"
           }
          ],
          "scattercarpet": [
           {
            "marker": {
             "colorbar": {
              "outlinewidth": 0,
              "ticks": ""
             }
            },
            "type": "scattercarpet"
           }
          ],
          "scattergeo": [
           {
            "marker": {
             "colorbar": {
              "outlinewidth": 0,
              "ticks": ""
             }
            },
            "type": "scattergeo"
           }
          ],
          "scattergl": [
           {
            "marker": {
             "colorbar": {
              "outlinewidth": 0,
              "ticks": ""
             }
            },
            "type": "scattergl"
           }
          ],
          "scattermapbox": [
           {
            "marker": {
             "colorbar": {
              "outlinewidth": 0,
              "ticks": ""
             }
            },
            "type": "scattermapbox"
           }
          ],
          "scatterpolar": [
           {
            "marker": {
             "colorbar": {
              "outlinewidth": 0,
              "ticks": ""
             }
            },
            "type": "scatterpolar"
           }
          ],
          "scatterpolargl": [
           {
            "marker": {
             "colorbar": {
              "outlinewidth": 0,
              "ticks": ""
             }
            },
            "type": "scatterpolargl"
           }
          ],
          "scatterternary": [
           {
            "marker": {
             "colorbar": {
              "outlinewidth": 0,
              "ticks": ""
             }
            },
            "type": "scatterternary"
           }
          ],
          "surface": [
           {
            "colorbar": {
             "outlinewidth": 0,
             "ticks": ""
            },
            "colorscale": [
             [
              0,
              "#0d0887"
             ],
             [
              0.1111111111111111,
              "#46039f"
             ],
             [
              0.2222222222222222,
              "#7201a8"
             ],
             [
              0.3333333333333333,
              "#9c179e"
             ],
             [
              0.4444444444444444,
              "#bd3786"
             ],
             [
              0.5555555555555556,
              "#d8576b"
             ],
             [
              0.6666666666666666,
              "#ed7953"
             ],
             [
              0.7777777777777778,
              "#fb9f3a"
             ],
             [
              0.8888888888888888,
              "#fdca26"
             ],
             [
              1,
              "#f0f921"
             ]
            ],
            "type": "surface"
           }
          ],
          "table": [
           {
            "cells": {
             "fill": {
              "color": "#EBF0F8"
             },
             "line": {
              "color": "white"
             }
            },
            "header": {
             "fill": {
              "color": "#C8D4E3"
             },
             "line": {
              "color": "white"
             }
            },
            "type": "table"
           }
          ]
         },
         "layout": {
          "annotationdefaults": {
           "arrowcolor": "#2a3f5f",
           "arrowhead": 0,
           "arrowwidth": 1
          },
          "autotypenumbers": "strict",
          "coloraxis": {
           "colorbar": {
            "outlinewidth": 0,
            "ticks": ""
           }
          },
          "colorscale": {
           "diverging": [
            [
             0,
             "#8e0152"
            ],
            [
             0.1,
             "#c51b7d"
            ],
            [
             0.2,
             "#de77ae"
            ],
            [
             0.3,
             "#f1b6da"
            ],
            [
             0.4,
             "#fde0ef"
            ],
            [
             0.5,
             "#f7f7f7"
            ],
            [
             0.6,
             "#e6f5d0"
            ],
            [
             0.7,
             "#b8e186"
            ],
            [
             0.8,
             "#7fbc41"
            ],
            [
             0.9,
             "#4d9221"
            ],
            [
             1,
             "#276419"
            ]
           ],
           "sequential": [
            [
             0,
             "#0d0887"
            ],
            [
             0.1111111111111111,
             "#46039f"
            ],
            [
             0.2222222222222222,
             "#7201a8"
            ],
            [
             0.3333333333333333,
             "#9c179e"
            ],
            [
             0.4444444444444444,
             "#bd3786"
            ],
            [
             0.5555555555555556,
             "#d8576b"
            ],
            [
             0.6666666666666666,
             "#ed7953"
            ],
            [
             0.7777777777777778,
             "#fb9f3a"
            ],
            [
             0.8888888888888888,
             "#fdca26"
            ],
            [
             1,
             "#f0f921"
            ]
           ],
           "sequentialminus": [
            [
             0,
             "#0d0887"
            ],
            [
             0.1111111111111111,
             "#46039f"
            ],
            [
             0.2222222222222222,
             "#7201a8"
            ],
            [
             0.3333333333333333,
             "#9c179e"
            ],
            [
             0.4444444444444444,
             "#bd3786"
            ],
            [
             0.5555555555555556,
             "#d8576b"
            ],
            [
             0.6666666666666666,
             "#ed7953"
            ],
            [
             0.7777777777777778,
             "#fb9f3a"
            ],
            [
             0.8888888888888888,
             "#fdca26"
            ],
            [
             1,
             "#f0f921"
            ]
           ]
          },
          "colorway": [
           "#636efa",
           "#EF553B",
           "#00cc96",
           "#ab63fa",
           "#FFA15A",
           "#19d3f3",
           "#FF6692",
           "#B6E880",
           "#FF97FF",
           "#FECB52"
          ],
          "font": {
           "color": "#2a3f5f"
          },
          "geo": {
           "bgcolor": "white",
           "lakecolor": "white",
           "landcolor": "#E5ECF6",
           "showlakes": true,
           "showland": true,
           "subunitcolor": "white"
          },
          "hoverlabel": {
           "align": "left"
          },
          "hovermode": "closest",
          "mapbox": {
           "style": "light"
          },
          "paper_bgcolor": "white",
          "plot_bgcolor": "#E5ECF6",
          "polar": {
           "angularaxis": {
            "gridcolor": "white",
            "linecolor": "white",
            "ticks": ""
           },
           "bgcolor": "#E5ECF6",
           "radialaxis": {
            "gridcolor": "white",
            "linecolor": "white",
            "ticks": ""
           }
          },
          "scene": {
           "xaxis": {
            "backgroundcolor": "#E5ECF6",
            "gridcolor": "white",
            "gridwidth": 2,
            "linecolor": "white",
            "showbackground": true,
            "ticks": "",
            "zerolinecolor": "white"
           },
           "yaxis": {
            "backgroundcolor": "#E5ECF6",
            "gridcolor": "white",
            "gridwidth": 2,
            "linecolor": "white",
            "showbackground": true,
            "ticks": "",
            "zerolinecolor": "white"
           },
           "zaxis": {
            "backgroundcolor": "#E5ECF6",
            "gridcolor": "white",
            "gridwidth": 2,
            "linecolor": "white",
            "showbackground": true,
            "ticks": "",
            "zerolinecolor": "white"
           }
          },
          "shapedefaults": {
           "line": {
            "color": "#2a3f5f"
           }
          },
          "ternary": {
           "aaxis": {
            "gridcolor": "white",
            "linecolor": "white",
            "ticks": ""
           },
           "baxis": {
            "gridcolor": "white",
            "linecolor": "white",
            "ticks": ""
           },
           "bgcolor": "#E5ECF6",
           "caxis": {
            "gridcolor": "white",
            "linecolor": "white",
            "ticks": ""
           }
          },
          "title": {
           "x": 0.05
          },
          "xaxis": {
           "automargin": true,
           "gridcolor": "white",
           "linecolor": "white",
           "ticks": "",
           "title": {
            "standoff": 15
           },
           "zerolinecolor": "white",
           "zerolinewidth": 2
          },
          "yaxis": {
           "automargin": true,
           "gridcolor": "white",
           "linecolor": "white",
           "ticks": "",
           "title": {
            "standoff": 15
           },
           "zerolinecolor": "white",
           "zerolinewidth": 2
          }
         }
        },
        "title": {
         "text": "Word Embedding 3D (Vivente, Grandezza, Tecnologia)"
        },
        "width": 600
       }
      },
      "text/html": [
       "<div>                            <div id=\"390bbec8-41ba-4fb0-a5cb-50ec08b97b63\" class=\"plotly-graph-div\" style=\"height:500px; width:600px;\"></div>            <script type=\"text/javascript\">                require([\"plotly\"], function(Plotly) {                    window.PLOTLYENV=window.PLOTLYENV || {};                                    if (document.getElementById(\"390bbec8-41ba-4fb0-a5cb-50ec08b97b63\")) {                    Plotly.newPlot(                        \"390bbec8-41ba-4fb0-a5cb-50ec08b97b63\",                        [{\"line\":{\"color\":\"black\",\"width\":4},\"mode\":\"lines\",\"showlegend\":false,\"x\":[0,1.2],\"y\":[0,0],\"z\":[0,0],\"type\":\"scatter3d\"},{\"line\":{\"color\":\"black\",\"width\":4},\"mode\":\"lines\",\"showlegend\":false,\"x\":[0,0],\"y\":[0,1.2],\"z\":[0,0],\"type\":\"scatter3d\"},{\"line\":{\"color\":\"black\",\"width\":4},\"mode\":\"lines\",\"showlegend\":false,\"x\":[0,0],\"y\":[0,0],\"z\":[0,1.2],\"type\":\"scatter3d\"},{\"marker\":{\"color\":\"skyblue\",\"line\":{\"color\":\"darkblue\",\"width\":1},\"size\":3},\"mode\":\"markers+text\",\"text\":[\"gatto\",\"cane\",\"elefante\",\"drone\",\"automobile\",\"camion\",\"pietra\"],\"textposition\":\"top center\",\"x\":[1,1,1,0,0,0,0],\"y\":[0.25,0.5,1,0.5,1,1.2,0.1],\"z\":[0,0,0,1,1,1,0],\"type\":\"scatter3d\"}],                        {\"template\":{\"data\":{\"histogram2dcontour\":[{\"type\":\"histogram2dcontour\",\"colorbar\":{\"outlinewidth\":0,\"ticks\":\"\"},\"colorscale\":[[0.0,\"#0d0887\"],[0.1111111111111111,\"#46039f\"],[0.2222222222222222,\"#7201a8\"],[0.3333333333333333,\"#9c179e\"],[0.4444444444444444,\"#bd3786\"],[0.5555555555555556,\"#d8576b\"],[0.6666666666666666,\"#ed7953\"],[0.7777777777777778,\"#fb9f3a\"],[0.8888888888888888,\"#fdca26\"],[1.0,\"#f0f921\"]]}],\"choropleth\":[{\"type\":\"choropleth\",\"colorbar\":{\"outlinewidth\":0,\"ticks\":\"\"}}],\"histogram2d\":[{\"type\":\"histogram2d\",\"colorbar\":{\"outlinewidth\":0,\"ticks\":\"\"},\"colorscale\":[[0.0,\"#0d0887\"],[0.1111111111111111,\"#46039f\"],[0.2222222222222222,\"#7201a8\"],[0.3333333333333333,\"#9c179e\"],[0.4444444444444444,\"#bd3786\"],[0.5555555555555556,\"#d8576b\"],[0.6666666666666666,\"#ed7953\"],[0.7777777777777778,\"#fb9f3a\"],[0.8888888888888888,\"#fdca26\"],[1.0,\"#f0f921\"]]}],\"heatmap\":[{\"type\":\"heatmap\",\"colorbar\":{\"outlinewidth\":0,\"ticks\":\"\"},\"colorscale\":[[0.0,\"#0d0887\"],[0.1111111111111111,\"#46039f\"],[0.2222222222222222,\"#7201a8\"],[0.3333333333333333,\"#9c179e\"],[0.4444444444444444,\"#bd3786\"],[0.5555555555555556,\"#d8576b\"],[0.6666666666666666,\"#ed7953\"],[0.7777777777777778,\"#fb9f3a\"],[0.8888888888888888,\"#fdca26\"],[1.0,\"#f0f921\"]]}],\"heatmapgl\":[{\"type\":\"heatmapgl\",\"colorbar\":{\"outlinewidth\":0,\"ticks\":\"\"},\"colorscale\":[[0.0,\"#0d0887\"],[0.1111111111111111,\"#46039f\"],[0.2222222222222222,\"#7201a8\"],[0.3333333333333333,\"#9c179e\"],[0.4444444444444444,\"#bd3786\"],[0.5555555555555556,\"#d8576b\"],[0.6666666666666666,\"#ed7953\"],[0.7777777777777778,\"#fb9f3a\"],[0.8888888888888888,\"#fdca26\"],[1.0,\"#f0f921\"]]}],\"contourcarpet\":[{\"type\":\"contourcarpet\",\"colorbar\":{\"outlinewidth\":0,\"ticks\":\"\"}}],\"contour\":[{\"type\":\"contour\",\"colorbar\":{\"outlinewidth\":0,\"ticks\":\"\"},\"colorscale\":[[0.0,\"#0d0887\"],[0.1111111111111111,\"#46039f\"],[0.2222222222222222,\"#7201a8\"],[0.3333333333333333,\"#9c179e\"],[0.4444444444444444,\"#bd3786\"],[0.5555555555555556,\"#d8576b\"],[0.6666666666666666,\"#ed7953\"],[0.7777777777777778,\"#fb9f3a\"],[0.8888888888888888,\"#fdca26\"],[1.0,\"#f0f921\"]]}],\"surface\":[{\"type\":\"surface\",\"colorbar\":{\"outlinewidth\":0,\"ticks\":\"\"},\"colorscale\":[[0.0,\"#0d0887\"],[0.1111111111111111,\"#46039f\"],[0.2222222222222222,\"#7201a8\"],[0.3333333333333333,\"#9c179e\"],[0.4444444444444444,\"#bd3786\"],[0.5555555555555556,\"#d8576b\"],[0.6666666666666666,\"#ed7953\"],[0.7777777777777778,\"#fb9f3a\"],[0.8888888888888888,\"#fdca26\"],[1.0,\"#f0f921\"]]}],\"mesh3d\":[{\"type\":\"mesh3d\",\"colorbar\":{\"outlinewidth\":0,\"ticks\":\"\"}}],\"scatter\":[{\"fillpattern\":{\"fillmode\":\"overlay\",\"size\":10,\"solidity\":0.2},\"type\":\"scatter\"}],\"parcoords\":[{\"type\":\"parcoords\",\"line\":{\"colorbar\":{\"outlinewidth\":0,\"ticks\":\"\"}}}],\"scatterpolargl\":[{\"type\":\"scatterpolargl\",\"marker\":{\"colorbar\":{\"outlinewidth\":0,\"ticks\":\"\"}}}],\"bar\":[{\"error_x\":{\"color\":\"#2a3f5f\"},\"error_y\":{\"color\":\"#2a3f5f\"},\"marker\":{\"line\":{\"color\":\"#E5ECF6\",\"width\":0.5},\"pattern\":{\"fillmode\":\"overlay\",\"size\":10,\"solidity\":0.2}},\"type\":\"bar\"}],\"scattergeo\":[{\"type\":\"scattergeo\",\"marker\":{\"colorbar\":{\"outlinewidth\":0,\"ticks\":\"\"}}}],\"scatterpolar\":[{\"type\":\"scatterpolar\",\"marker\":{\"colorbar\":{\"outlinewidth\":0,\"ticks\":\"\"}}}],\"histogram\":[{\"marker\":{\"pattern\":{\"fillmode\":\"overlay\",\"size\":10,\"solidity\":0.2}},\"type\":\"histogram\"}],\"scattergl\":[{\"type\":\"scattergl\",\"marker\":{\"colorbar\":{\"outlinewidth\":0,\"ticks\":\"\"}}}],\"scatter3d\":[{\"type\":\"scatter3d\",\"line\":{\"colorbar\":{\"outlinewidth\":0,\"ticks\":\"\"}},\"marker\":{\"colorbar\":{\"outlinewidth\":0,\"ticks\":\"\"}}}],\"scattermapbox\":[{\"type\":\"scattermapbox\",\"marker\":{\"colorbar\":{\"outlinewidth\":0,\"ticks\":\"\"}}}],\"scatterternary\":[{\"type\":\"scatterternary\",\"marker\":{\"colorbar\":{\"outlinewidth\":0,\"ticks\":\"\"}}}],\"scattercarpet\":[{\"type\":\"scattercarpet\",\"marker\":{\"colorbar\":{\"outlinewidth\":0,\"ticks\":\"\"}}}],\"carpet\":[{\"aaxis\":{\"endlinecolor\":\"#2a3f5f\",\"gridcolor\":\"white\",\"linecolor\":\"white\",\"minorgridcolor\":\"white\",\"startlinecolor\":\"#2a3f5f\"},\"baxis\":{\"endlinecolor\":\"#2a3f5f\",\"gridcolor\":\"white\",\"linecolor\":\"white\",\"minorgridcolor\":\"white\",\"startlinecolor\":\"#2a3f5f\"},\"type\":\"carpet\"}],\"table\":[{\"cells\":{\"fill\":{\"color\":\"#EBF0F8\"},\"line\":{\"color\":\"white\"}},\"header\":{\"fill\":{\"color\":\"#C8D4E3\"},\"line\":{\"color\":\"white\"}},\"type\":\"table\"}],\"barpolar\":[{\"marker\":{\"line\":{\"color\":\"#E5ECF6\",\"width\":0.5},\"pattern\":{\"fillmode\":\"overlay\",\"size\":10,\"solidity\":0.2}},\"type\":\"barpolar\"}],\"pie\":[{\"automargin\":true,\"type\":\"pie\"}]},\"layout\":{\"autotypenumbers\":\"strict\",\"colorway\":[\"#636efa\",\"#EF553B\",\"#00cc96\",\"#ab63fa\",\"#FFA15A\",\"#19d3f3\",\"#FF6692\",\"#B6E880\",\"#FF97FF\",\"#FECB52\"],\"font\":{\"color\":\"#2a3f5f\"},\"hovermode\":\"closest\",\"hoverlabel\":{\"align\":\"left\"},\"paper_bgcolor\":\"white\",\"plot_bgcolor\":\"#E5ECF6\",\"polar\":{\"bgcolor\":\"#E5ECF6\",\"angularaxis\":{\"gridcolor\":\"white\",\"linecolor\":\"white\",\"ticks\":\"\"},\"radialaxis\":{\"gridcolor\":\"white\",\"linecolor\":\"white\",\"ticks\":\"\"}},\"ternary\":{\"bgcolor\":\"#E5ECF6\",\"aaxis\":{\"gridcolor\":\"white\",\"linecolor\":\"white\",\"ticks\":\"\"},\"baxis\":{\"gridcolor\":\"white\",\"linecolor\":\"white\",\"ticks\":\"\"},\"caxis\":{\"gridcolor\":\"white\",\"linecolor\":\"white\",\"ticks\":\"\"}},\"coloraxis\":{\"colorbar\":{\"outlinewidth\":0,\"ticks\":\"\"}},\"colorscale\":{\"sequential\":[[0.0,\"#0d0887\"],[0.1111111111111111,\"#46039f\"],[0.2222222222222222,\"#7201a8\"],[0.3333333333333333,\"#9c179e\"],[0.4444444444444444,\"#bd3786\"],[0.5555555555555556,\"#d8576b\"],[0.6666666666666666,\"#ed7953\"],[0.7777777777777778,\"#fb9f3a\"],[0.8888888888888888,\"#fdca26\"],[1.0,\"#f0f921\"]],\"sequentialminus\":[[0.0,\"#0d0887\"],[0.1111111111111111,\"#46039f\"],[0.2222222222222222,\"#7201a8\"],[0.3333333333333333,\"#9c179e\"],[0.4444444444444444,\"#bd3786\"],[0.5555555555555556,\"#d8576b\"],[0.6666666666666666,\"#ed7953\"],[0.7777777777777778,\"#fb9f3a\"],[0.8888888888888888,\"#fdca26\"],[1.0,\"#f0f921\"]],\"diverging\":[[0,\"#8e0152\"],[0.1,\"#c51b7d\"],[0.2,\"#de77ae\"],[0.3,\"#f1b6da\"],[0.4,\"#fde0ef\"],[0.5,\"#f7f7f7\"],[0.6,\"#e6f5d0\"],[0.7,\"#b8e186\"],[0.8,\"#7fbc41\"],[0.9,\"#4d9221\"],[1,\"#276419\"]]},\"xaxis\":{\"gridcolor\":\"white\",\"linecolor\":\"white\",\"ticks\":\"\",\"title\":{\"standoff\":15},\"zerolinecolor\":\"white\",\"automargin\":true,\"zerolinewidth\":2},\"yaxis\":{\"gridcolor\":\"white\",\"linecolor\":\"white\",\"ticks\":\"\",\"title\":{\"standoff\":15},\"zerolinecolor\":\"white\",\"automargin\":true,\"zerolinewidth\":2},\"scene\":{\"xaxis\":{\"backgroundcolor\":\"#E5ECF6\",\"gridcolor\":\"white\",\"linecolor\":\"white\",\"showbackground\":true,\"ticks\":\"\",\"zerolinecolor\":\"white\",\"gridwidth\":2},\"yaxis\":{\"backgroundcolor\":\"#E5ECF6\",\"gridcolor\":\"white\",\"linecolor\":\"white\",\"showbackground\":true,\"ticks\":\"\",\"zerolinecolor\":\"white\",\"gridwidth\":2},\"zaxis\":{\"backgroundcolor\":\"#E5ECF6\",\"gridcolor\":\"white\",\"linecolor\":\"white\",\"showbackground\":true,\"ticks\":\"\",\"zerolinecolor\":\"white\",\"gridwidth\":2}},\"shapedefaults\":{\"line\":{\"color\":\"#2a3f5f\"}},\"annotationdefaults\":{\"arrowcolor\":\"#2a3f5f\",\"arrowhead\":0,\"arrowwidth\":1},\"geo\":{\"bgcolor\":\"white\",\"landcolor\":\"#E5ECF6\",\"subunitcolor\":\"white\",\"showland\":true,\"showlakes\":true,\"lakecolor\":\"white\"},\"title\":{\"x\":0.05},\"mapbox\":{\"style\":\"light\"}}},\"scene\":{\"xaxis\":{\"title\":{\"text\":\"Vivente\"},\"showspikes\":false},\"yaxis\":{\"title\":{\"text\":\"Grandezza\"},\"showspikes\":false},\"zaxis\":{\"title\":{\"text\":\"Tecnologia\"},\"showspikes\":false}},\"margin\":{\"l\":0,\"r\":0,\"b\":0,\"t\":40},\"title\":{\"text\":\"Word Embedding 3D (Vivente, Grandezza, Tecnologia)\"},\"width\":600,\"height\":500},                        {\"responsive\": true}                    ).then(function(){\n",
       "                            \n",
       "var gd = document.getElementById('390bbec8-41ba-4fb0-a5cb-50ec08b97b63');\n",
       "var x = new MutationObserver(function (mutations, observer) {{\n",
       "        var display = window.getComputedStyle(gd).display;\n",
       "        if (!display || display === 'none') {{\n",
       "            console.log([gd, 'removed!']);\n",
       "            Plotly.purge(gd);\n",
       "            observer.disconnect();\n",
       "        }}\n",
       "}});\n",
       "\n",
       "// Listen for the removal of the full notebook cells\n",
       "var notebookContainer = gd.closest('#notebook-container');\n",
       "if (notebookContainer) {{\n",
       "    x.observe(notebookContainer, {childList: true});\n",
       "}}\n",
       "\n",
       "// Listen for the clearing of the current output cell\n",
       "var outputEl = gd.closest('.output');\n",
       "if (outputEl) {{\n",
       "    x.observe(outputEl, {childList: true});\n",
       "}}\n",
       "\n",
       "                        })                };                });            </script>        </div>"
      ]
     },
     "metadata": {},
     "output_type": "display_data"
    }
   ],
   "source": [
    "import plotly.graph_objects as go\n",
    "\n",
    "# Definizione delle parole e delle coordinate semantiche\n",
    "parole = {\n",
    "    \"gatto\": (1, 0.25, 0),\n",
    "    \"cane\": (1, 0.5, 0),\n",
    "    \"elefante\": (1, 1, 0),\n",
    "    \"drone\": (0, 0.5, 1),\n",
    "    \"automobile\": (0, 1, 1),\n",
    "    \"camion\": (0, 1.2, 1),\n",
    "    \"pietra\": (0, 0.1, 0),\n",
    "}\n",
    "\n",
    "# Coordinate separate\n",
    "x = [v[0] for v in parole.values()]\n",
    "y = [v[1] for v in parole.values()]\n",
    "z = [v[2] for v in parole.values()]\n",
    "labels = list(parole.keys())\n",
    "\n",
    "# Tracciamento assi manuali in nero\n",
    "assi = [\n",
    "    go.Scatter3d(x=[0, 1.2], y=[0, 0], z=[0, 0], mode='lines', line=dict(color='black', width=4), showlegend=False),\n",
    "    go.Scatter3d(x=[0, 0], y=[0, 1.2], z=[0, 0], mode='lines', line=dict(color='black', width=4), showlegend=False),\n",
    "    go.Scatter3d(x=[0, 0], y=[0, 0], z=[0, 1.2], mode='lines', line=dict(color='black', width=4), showlegend=False)\n",
    "]\n",
    "\n",
    "# Punti e testi\n",
    "punti = go.Scatter3d(\n",
    "    x=x, y=y, z=z,\n",
    "    mode='markers+text',\n",
    "    text=labels,\n",
    "    textposition='top center',\n",
    "    marker=dict(size=3, color='skyblue', line=dict(width=1, color='darkblue'))\n",
    ")\n",
    "\n",
    "# Composizione della figura\n",
    "fig = go.Figure(data=assi + [punti])\n",
    "\n",
    "# Specifica le dimensioni della finestra di output\n",
    "fig.update_layout(\n",
    "    title='Word Embedding 3D (Vivente, Grandezza, Tecnologia)',\n",
    "    width=600,   # larghezza in pixel\n",
    "    height=500,  # altezza in pixel\n",
    "    scene=dict(\n",
    "        xaxis_title='Vivente',\n",
    "        yaxis_title='Grandezza',\n",
    "        zaxis_title='Tecnologia',\n",
    "        xaxis=dict(showspikes=False),\n",
    "        yaxis=dict(showspikes=False),\n",
    "        zaxis=dict(showspikes=False)\n",
    "    ),\n",
    "    margin=dict(l=0, r=0, b=0, t=40)\n",
    ")\n",
    "\n",
    "fig.show()\n"
   ]
  },
  {
   "cell_type": "code",
   "execution_count": 8,
   "id": "b517c0a0",
   "metadata": {},
   "outputs": [
    {
     "name": "stdout",
     "output_type": "stream",
     "text": [
      "🎨 Visualizzazione Word Embeddings 3D migliorata\n",
      "📊 Caratteristiche:\n",
      "   • Font ottimizzati e leggibili\n",
      "   • Colori semantici per categorie\n",
      "   • Griglia di riferimento\n",
      "   • Hover informativi\n",
      "   • Layout bilanciato\n",
      "   • Interattività migliorata\n"
     ]
    },
    {
     "data": {
      "application/vnd.plotly.v1+json": {
       "config": {
        "plotlyServerURL": "https://plot.ly"
       },
       "data": [
        {
         "hoverinfo": "skip",
         "line": {
          "color": "#E74C3C",
          "width": 6
         },
         "mode": "lines",
         "name": "Asse X - Vivente",
         "showlegend": false,
         "type": "scatter3d",
         "x": [
          0,
          1.3
         ],
         "y": [
          0,
          0
         ],
         "z": [
          0,
          0
         ]
        },
        {
         "hoverinfo": "skip",
         "line": {
          "color": "#2ECC71",
          "width": 6
         },
         "mode": "lines",
         "name": "Asse Y - Dimensione",
         "showlegend": false,
         "type": "scatter3d",
         "x": [
          0,
          0
         ],
         "y": [
          0,
          1.3
         ],
         "z": [
          0,
          0
         ]
        },
        {
         "hoverinfo": "skip",
         "line": {
          "color": "#3498DB",
          "width": 6
         },
         "mode": "lines",
         "name": "Asse Z - Tecnologia",
         "showlegend": false,
         "type": "scatter3d",
         "x": [
          0,
          0
         ],
         "y": [
          0,
          0
         ],
         "z": [
          0,
          1.3
         ]
        },
        {
         "hoverinfo": "skip",
         "mode": "text",
         "showlegend": false,
         "text": [
          "Vivente"
         ],
         "textfont": {
          "color": "#E74C3C",
          "family": "Arial Black",
          "size": 16
         },
         "type": "scatter3d",
         "x": [
          1.4
         ],
         "y": [
          0
         ],
         "z": [
          0
         ]
        },
        {
         "hoverinfo": "skip",
         "mode": "text",
         "showlegend": false,
         "text": [
          "Dimensione"
         ],
         "textfont": {
          "color": "#2ECC71",
          "family": "Arial Black",
          "size": 16
         },
         "type": "scatter3d",
         "x": [
          0
         ],
         "y": [
          1.4
         ],
         "z": [
          0
         ]
        },
        {
         "hoverinfo": "skip",
         "mode": "text",
         "showlegend": false,
         "text": [
          "Tecnologia"
         ],
         "textfont": {
          "color": "#3498DB",
          "family": "Arial Black",
          "size": 16
         },
         "type": "scatter3d",
         "x": [
          0
         ],
         "y": [
          0
         ],
         "z": [
          1.4
         ]
        },
        {
         "hovertemplate": "<b>%{text}</b><br>Vivente: %{x}<br>Dimensione: %{y}<br>Tecnologia: %{z}<br><extra></extra>",
         "marker": {
          "color": [
           "#FF6B6B",
           "#FF8E53",
           "#FF9F43",
           "#5F27CD",
           "#3742FA",
           "#2F3542",
           "#A4B0BE"
          ],
          "line": {
           "color": "#2C3E50",
           "width": 2
          },
          "opacity": 0.9,
          "size": 12,
          "symbol": "circle"
         },
         "mode": "markers+text",
         "name": "Parole",
         "text": [
          "gatto",
          "cane",
          "elefante",
          "drone",
          "automobile",
          "camion",
          "pietra"
         ],
         "textfont": {
          "color": "#2C3E50",
          "family": "Arial Bold",
          "size": 14
         },
         "textposition": "top center",
         "type": "scatter3d",
         "x": [
          1,
          1,
          1,
          0,
          0,
          0,
          0
         ],
         "y": [
          0.25,
          0.5,
          1,
          0.5,
          1,
          1.2,
          0
         ],
         "z": [
          0,
          0,
          0,
          1,
          1,
          1,
          0
         ]
        },
        {
         "hoverinfo": "skip",
         "line": {
          "color": "#BDC3C7",
          "width": 1
         },
         "mode": "lines",
         "opacity": 0.3,
         "showlegend": false,
         "type": "scatter3d",
         "x": [
          0,
          1.2
         ],
         "y": [
          0,
          0
         ],
         "z": [
          0,
          0
         ]
        },
        {
         "hoverinfo": "skip",
         "line": {
          "color": "#BDC3C7",
          "width": 1
         },
         "mode": "lines",
         "opacity": 0.3,
         "showlegend": false,
         "type": "scatter3d",
         "x": [
          0,
          0
         ],
         "y": [
          0,
          1.2
         ],
         "z": [
          0,
          0
         ]
        },
        {
         "hoverinfo": "skip",
         "line": {
          "color": "#BDC3C7",
          "width": 1
         },
         "mode": "lines",
         "opacity": 0.3,
         "showlegend": false,
         "type": "scatter3d",
         "x": [
          0,
          1.2
         ],
         "y": [
          0.2,
          0.2
         ],
         "z": [
          0,
          0
         ]
        },
        {
         "hoverinfo": "skip",
         "line": {
          "color": "#BDC3C7",
          "width": 1
         },
         "mode": "lines",
         "opacity": 0.3,
         "showlegend": false,
         "type": "scatter3d",
         "x": [
          0.2,
          0.2
         ],
         "y": [
          0,
          1.2
         ],
         "z": [
          0,
          0
         ]
        },
        {
         "hoverinfo": "skip",
         "line": {
          "color": "#BDC3C7",
          "width": 1
         },
         "mode": "lines",
         "opacity": 0.3,
         "showlegend": false,
         "type": "scatter3d",
         "x": [
          0,
          1.2
         ],
         "y": [
          0.4,
          0.4
         ],
         "z": [
          0,
          0
         ]
        },
        {
         "hoverinfo": "skip",
         "line": {
          "color": "#BDC3C7",
          "width": 1
         },
         "mode": "lines",
         "opacity": 0.3,
         "showlegend": false,
         "type": "scatter3d",
         "x": [
          0.4,
          0.4
         ],
         "y": [
          0,
          1.2
         ],
         "z": [
          0,
          0
         ]
        },
        {
         "hoverinfo": "skip",
         "line": {
          "color": "#BDC3C7",
          "width": 1
         },
         "mode": "lines",
         "opacity": 0.3,
         "showlegend": false,
         "type": "scatter3d",
         "x": [
          0,
          1.2
         ],
         "y": [
          0.6000000000000001,
          0.6000000000000001
         ],
         "z": [
          0,
          0
         ]
        },
        {
         "hoverinfo": "skip",
         "line": {
          "color": "#BDC3C7",
          "width": 1
         },
         "mode": "lines",
         "opacity": 0.3,
         "showlegend": false,
         "type": "scatter3d",
         "x": [
          0.6000000000000001,
          0.6000000000000001
         ],
         "y": [
          0,
          1.2
         ],
         "z": [
          0,
          0
         ]
        },
        {
         "hoverinfo": "skip",
         "line": {
          "color": "#BDC3C7",
          "width": 1
         },
         "mode": "lines",
         "opacity": 0.3,
         "showlegend": false,
         "type": "scatter3d",
         "x": [
          0,
          1.2
         ],
         "y": [
          0.8,
          0.8
         ],
         "z": [
          0,
          0
         ]
        },
        {
         "hoverinfo": "skip",
         "line": {
          "color": "#BDC3C7",
          "width": 1
         },
         "mode": "lines",
         "opacity": 0.3,
         "showlegend": false,
         "type": "scatter3d",
         "x": [
          0.8,
          0.8
         ],
         "y": [
          0,
          1.2
         ],
         "z": [
          0,
          0
         ]
        },
        {
         "hoverinfo": "skip",
         "line": {
          "color": "#BDC3C7",
          "width": 1
         },
         "mode": "lines",
         "opacity": 0.3,
         "showlegend": false,
         "type": "scatter3d",
         "x": [
          0,
          1.2
         ],
         "y": [
          1,
          1
         ],
         "z": [
          0,
          0
         ]
        },
        {
         "hoverinfo": "skip",
         "line": {
          "color": "#BDC3C7",
          "width": 1
         },
         "mode": "lines",
         "opacity": 0.3,
         "showlegend": false,
         "type": "scatter3d",
         "x": [
          1,
          1
         ],
         "y": [
          0,
          1.2
         ],
         "z": [
          0,
          0
         ]
        },
        {
         "hoverinfo": "skip",
         "line": {
          "color": "#BDC3C7",
          "width": 1
         },
         "mode": "lines",
         "opacity": 0.3,
         "showlegend": false,
         "type": "scatter3d",
         "x": [
          0,
          1.2
         ],
         "y": [
          1.2000000000000002,
          1.2000000000000002
         ],
         "z": [
          0,
          0
         ]
        },
        {
         "hoverinfo": "skip",
         "line": {
          "color": "#BDC3C7",
          "width": 1
         },
         "mode": "lines",
         "opacity": 0.3,
         "showlegend": false,
         "type": "scatter3d",
         "x": [
          1.2000000000000002,
          1.2000000000000002
         ],
         "y": [
          0,
          1.2
         ],
         "z": [
          0,
          0
         ]
        }
       ],
       "layout": {
        "annotations": [
         {
          "align": "left",
          "bgcolor": "rgba(255,255,255,0.8)",
          "bordercolor": "#BDC3C7",
          "borderwidth": 1,
          "font": {
           "color": "#2C3E50",
           "size": 11
          },
          "showarrow": false,
          "text": "<b>Legenda:</b><br>🔴 Animali viventi<br>🔵 Oggetti tecnologici<br>⚪ Oggetti inanimati",
          "x": 0.02,
          "xref": "paper",
          "y": 0.98,
          "yref": "paper"
         }
        ],
        "font": {
         "color": "#2C3E50",
         "family": "Arial",
         "size": 12
        },
        "height": 700,
        "hovermode": "closest",
        "margin": {
         "b": 20,
         "l": 20,
         "r": 20,
         "t": 80
        },
        "paper_bgcolor": "white",
        "plot_bgcolor": "white",
        "scene": {
         "aspectmode": "cube",
         "bgcolor": "#F8F9FA",
         "camera": {
          "center": {
           "x": 0,
           "y": 0,
           "z": 0
          },
          "eye": {
           "x": 1.8,
           "y": 1.8,
           "z": 1.5
          },
          "up": {
           "x": 0,
           "y": 0,
           "z": 1
          }
         },
         "dragmode": "turntable",
         "xaxis": {
          "range": [
           0,
           1.5
          ],
          "showgrid": false,
          "showline": false,
          "showspikes": false,
          "showticklabels": true,
          "tickfont": {
           "color": "#34495E",
           "size": 12
          },
          "title": {
           "font": {
            "color": "#E74C3C",
            "size": 14
           },
           "text": ""
          },
          "zeroline": false
         },
         "yaxis": {
          "range": [
           0,
           1.5
          ],
          "showgrid": false,
          "showline": false,
          "showspikes": false,
          "showticklabels": true,
          "tickfont": {
           "color": "#34495E",
           "size": 12
          },
          "title": {
           "font": {
            "color": "#2ECC71",
            "size": 14
           },
           "text": ""
          },
          "zeroline": false
         },
         "zaxis": {
          "range": [
           0,
           1.5
          ],
          "showgrid": false,
          "showline": false,
          "showspikes": false,
          "showticklabels": true,
          "tickfont": {
           "color": "#34495E",
           "size": 12
          },
          "title": {
           "font": {
            "color": "#3498DB",
            "size": 14
           },
           "text": ""
          },
          "zeroline": false
         }
        },
        "template": {
         "data": {
          "bar": [
           {
            "error_x": {
             "color": "#2a3f5f"
            },
            "error_y": {
             "color": "#2a3f5f"
            },
            "marker": {
             "line": {
              "color": "#E5ECF6",
              "width": 0.5
             },
             "pattern": {
              "fillmode": "overlay",
              "size": 10,
              "solidity": 0.2
             }
            },
            "type": "bar"
           }
          ],
          "barpolar": [
           {
            "marker": {
             "line": {
              "color": "#E5ECF6",
              "width": 0.5
             },
             "pattern": {
              "fillmode": "overlay",
              "size": 10,
              "solidity": 0.2
             }
            },
            "type": "barpolar"
           }
          ],
          "carpet": [
           {
            "aaxis": {
             "endlinecolor": "#2a3f5f",
             "gridcolor": "white",
             "linecolor": "white",
             "minorgridcolor": "white",
             "startlinecolor": "#2a3f5f"
            },
            "baxis": {
             "endlinecolor": "#2a3f5f",
             "gridcolor": "white",
             "linecolor": "white",
             "minorgridcolor": "white",
             "startlinecolor": "#2a3f5f"
            },
            "type": "carpet"
           }
          ],
          "choropleth": [
           {
            "colorbar": {
             "outlinewidth": 0,
             "ticks": ""
            },
            "type": "choropleth"
           }
          ],
          "contour": [
           {
            "colorbar": {
             "outlinewidth": 0,
             "ticks": ""
            },
            "colorscale": [
             [
              0,
              "#0d0887"
             ],
             [
              0.1111111111111111,
              "#46039f"
             ],
             [
              0.2222222222222222,
              "#7201a8"
             ],
             [
              0.3333333333333333,
              "#9c179e"
             ],
             [
              0.4444444444444444,
              "#bd3786"
             ],
             [
              0.5555555555555556,
              "#d8576b"
             ],
             [
              0.6666666666666666,
              "#ed7953"
             ],
             [
              0.7777777777777778,
              "#fb9f3a"
             ],
             [
              0.8888888888888888,
              "#fdca26"
             ],
             [
              1,
              "#f0f921"
             ]
            ],
            "type": "contour"
           }
          ],
          "contourcarpet": [
           {
            "colorbar": {
             "outlinewidth": 0,
             "ticks": ""
            },
            "type": "contourcarpet"
           }
          ],
          "heatmap": [
           {
            "colorbar": {
             "outlinewidth": 0,
             "ticks": ""
            },
            "colorscale": [
             [
              0,
              "#0d0887"
             ],
             [
              0.1111111111111111,
              "#46039f"
             ],
             [
              0.2222222222222222,
              "#7201a8"
             ],
             [
              0.3333333333333333,
              "#9c179e"
             ],
             [
              0.4444444444444444,
              "#bd3786"
             ],
             [
              0.5555555555555556,
              "#d8576b"
             ],
             [
              0.6666666666666666,
              "#ed7953"
             ],
             [
              0.7777777777777778,
              "#fb9f3a"
             ],
             [
              0.8888888888888888,
              "#fdca26"
             ],
             [
              1,
              "#f0f921"
             ]
            ],
            "type": "heatmap"
           }
          ],
          "heatmapgl": [
           {
            "colorbar": {
             "outlinewidth": 0,
             "ticks": ""
            },
            "colorscale": [
             [
              0,
              "#0d0887"
             ],
             [
              0.1111111111111111,
              "#46039f"
             ],
             [
              0.2222222222222222,
              "#7201a8"
             ],
             [
              0.3333333333333333,
              "#9c179e"
             ],
             [
              0.4444444444444444,
              "#bd3786"
             ],
             [
              0.5555555555555556,
              "#d8576b"
             ],
             [
              0.6666666666666666,
              "#ed7953"
             ],
             [
              0.7777777777777778,
              "#fb9f3a"
             ],
             [
              0.8888888888888888,
              "#fdca26"
             ],
             [
              1,
              "#f0f921"
             ]
            ],
            "type": "heatmapgl"
           }
          ],
          "histogram": [
           {
            "marker": {
             "pattern": {
              "fillmode": "overlay",
              "size": 10,
              "solidity": 0.2
             }
            },
            "type": "histogram"
           }
          ],
          "histogram2d": [
           {
            "colorbar": {
             "outlinewidth": 0,
             "ticks": ""
            },
            "colorscale": [
             [
              0,
              "#0d0887"
             ],
             [
              0.1111111111111111,
              "#46039f"
             ],
             [
              0.2222222222222222,
              "#7201a8"
             ],
             [
              0.3333333333333333,
              "#9c179e"
             ],
             [
              0.4444444444444444,
              "#bd3786"
             ],
             [
              0.5555555555555556,
              "#d8576b"
             ],
             [
              0.6666666666666666,
              "#ed7953"
             ],
             [
              0.7777777777777778,
              "#fb9f3a"
             ],
             [
              0.8888888888888888,
              "#fdca26"
             ],
             [
              1,
              "#f0f921"
             ]
            ],
            "type": "histogram2d"
           }
          ],
          "histogram2dcontour": [
           {
            "colorbar": {
             "outlinewidth": 0,
             "ticks": ""
            },
            "colorscale": [
             [
              0,
              "#0d0887"
             ],
             [
              0.1111111111111111,
              "#46039f"
             ],
             [
              0.2222222222222222,
              "#7201a8"
             ],
             [
              0.3333333333333333,
              "#9c179e"
             ],
             [
              0.4444444444444444,
              "#bd3786"
             ],
             [
              0.5555555555555556,
              "#d8576b"
             ],
             [
              0.6666666666666666,
              "#ed7953"
             ],
             [
              0.7777777777777778,
              "#fb9f3a"
             ],
             [
              0.8888888888888888,
              "#fdca26"
             ],
             [
              1,
              "#f0f921"
             ]
            ],
            "type": "histogram2dcontour"
           }
          ],
          "mesh3d": [
           {
            "colorbar": {
             "outlinewidth": 0,
             "ticks": ""
            },
            "type": "mesh3d"
           }
          ],
          "parcoords": [
           {
            "line": {
             "colorbar": {
              "outlinewidth": 0,
              "ticks": ""
             }
            },
            "type": "parcoords"
           }
          ],
          "pie": [
           {
            "automargin": true,
            "type": "pie"
           }
          ],
          "scatter": [
           {
            "fillpattern": {
             "fillmode": "overlay",
             "size": 10,
             "solidity": 0.2
            },
            "type": "scatter"
           }
          ],
          "scatter3d": [
           {
            "line": {
             "colorbar": {
              "outlinewidth": 0,
              "ticks": ""
             }
            },
            "marker": {
             "colorbar": {
              "outlinewidth": 0,
              "ticks": ""
             }
            },
            "type": "scatter3d"
           }
          ],
          "scattercarpet": [
           {
            "marker": {
             "colorbar": {
              "outlinewidth": 0,
              "ticks": ""
             }
            },
            "type": "scattercarpet"
           }
          ],
          "scattergeo": [
           {
            "marker": {
             "colorbar": {
              "outlinewidth": 0,
              "ticks": ""
             }
            },
            "type": "scattergeo"
           }
          ],
          "scattergl": [
           {
            "marker": {
             "colorbar": {
              "outlinewidth": 0,
              "ticks": ""
             }
            },
            "type": "scattergl"
           }
          ],
          "scattermapbox": [
           {
            "marker": {
             "colorbar": {
              "outlinewidth": 0,
              "ticks": ""
             }
            },
            "type": "scattermapbox"
           }
          ],
          "scatterpolar": [
           {
            "marker": {
             "colorbar": {
              "outlinewidth": 0,
              "ticks": ""
             }
            },
            "type": "scatterpolar"
           }
          ],
          "scatterpolargl": [
           {
            "marker": {
             "colorbar": {
              "outlinewidth": 0,
              "ticks": ""
             }
            },
            "type": "scatterpolargl"
           }
          ],
          "scatterternary": [
           {
            "marker": {
             "colorbar": {
              "outlinewidth": 0,
              "ticks": ""
             }
            },
            "type": "scatterternary"
           }
          ],
          "surface": [
           {
            "colorbar": {
             "outlinewidth": 0,
             "ticks": ""
            },
            "colorscale": [
             [
              0,
              "#0d0887"
             ],
             [
              0.1111111111111111,
              "#46039f"
             ],
             [
              0.2222222222222222,
              "#7201a8"
             ],
             [
              0.3333333333333333,
              "#9c179e"
             ],
             [
              0.4444444444444444,
              "#bd3786"
             ],
             [
              0.5555555555555556,
              "#d8576b"
             ],
             [
              0.6666666666666666,
              "#ed7953"
             ],
             [
              0.7777777777777778,
              "#fb9f3a"
             ],
             [
              0.8888888888888888,
              "#fdca26"
             ],
             [
              1,
              "#f0f921"
             ]
            ],
            "type": "surface"
           }
          ],
          "table": [
           {
            "cells": {
             "fill": {
              "color": "#EBF0F8"
             },
             "line": {
              "color": "white"
             }
            },
            "header": {
             "fill": {
              "color": "#C8D4E3"
             },
             "line": {
              "color": "white"
             }
            },
            "type": "table"
           }
          ]
         },
         "layout": {
          "annotationdefaults": {
           "arrowcolor": "#2a3f5f",
           "arrowhead": 0,
           "arrowwidth": 1
          },
          "autotypenumbers": "strict",
          "coloraxis": {
           "colorbar": {
            "outlinewidth": 0,
            "ticks": ""
           }
          },
          "colorscale": {
           "diverging": [
            [
             0,
             "#8e0152"
            ],
            [
             0.1,
             "#c51b7d"
            ],
            [
             0.2,
             "#de77ae"
            ],
            [
             0.3,
             "#f1b6da"
            ],
            [
             0.4,
             "#fde0ef"
            ],
            [
             0.5,
             "#f7f7f7"
            ],
            [
             0.6,
             "#e6f5d0"
            ],
            [
             0.7,
             "#b8e186"
            ],
            [
             0.8,
             "#7fbc41"
            ],
            [
             0.9,
             "#4d9221"
            ],
            [
             1,
             "#276419"
            ]
           ],
           "sequential": [
            [
             0,
             "#0d0887"
            ],
            [
             0.1111111111111111,
             "#46039f"
            ],
            [
             0.2222222222222222,
             "#7201a8"
            ],
            [
             0.3333333333333333,
             "#9c179e"
            ],
            [
             0.4444444444444444,
             "#bd3786"
            ],
            [
             0.5555555555555556,
             "#d8576b"
            ],
            [
             0.6666666666666666,
             "#ed7953"
            ],
            [
             0.7777777777777778,
             "#fb9f3a"
            ],
            [
             0.8888888888888888,
             "#fdca26"
            ],
            [
             1,
             "#f0f921"
            ]
           ],
           "sequentialminus": [
            [
             0,
             "#0d0887"
            ],
            [
             0.1111111111111111,
             "#46039f"
            ],
            [
             0.2222222222222222,
             "#7201a8"
            ],
            [
             0.3333333333333333,
             "#9c179e"
            ],
            [
             0.4444444444444444,
             "#bd3786"
            ],
            [
             0.5555555555555556,
             "#d8576b"
            ],
            [
             0.6666666666666666,
             "#ed7953"
            ],
            [
             0.7777777777777778,
             "#fb9f3a"
            ],
            [
             0.8888888888888888,
             "#fdca26"
            ],
            [
             1,
             "#f0f921"
            ]
           ]
          },
          "colorway": [
           "#636efa",
           "#EF553B",
           "#00cc96",
           "#ab63fa",
           "#FFA15A",
           "#19d3f3",
           "#FF6692",
           "#B6E880",
           "#FF97FF",
           "#FECB52"
          ],
          "font": {
           "color": "#2a3f5f"
          },
          "geo": {
           "bgcolor": "white",
           "lakecolor": "white",
           "landcolor": "#E5ECF6",
           "showlakes": true,
           "showland": true,
           "subunitcolor": "white"
          },
          "hoverlabel": {
           "align": "left"
          },
          "hovermode": "closest",
          "mapbox": {
           "style": "light"
          },
          "paper_bgcolor": "white",
          "plot_bgcolor": "#E5ECF6",
          "polar": {
           "angularaxis": {
            "gridcolor": "white",
            "linecolor": "white",
            "ticks": ""
           },
           "bgcolor": "#E5ECF6",
           "radialaxis": {
            "gridcolor": "white",
            "linecolor": "white",
            "ticks": ""
           }
          },
          "scene": {
           "xaxis": {
            "backgroundcolor": "#E5ECF6",
            "gridcolor": "white",
            "gridwidth": 2,
            "linecolor": "white",
            "showbackground": true,
            "ticks": "",
            "zerolinecolor": "white"
           },
           "yaxis": {
            "backgroundcolor": "#E5ECF6",
            "gridcolor": "white",
            "gridwidth": 2,
            "linecolor": "white",
            "showbackground": true,
            "ticks": "",
            "zerolinecolor": "white"
           },
           "zaxis": {
            "backgroundcolor": "#E5ECF6",
            "gridcolor": "white",
            "gridwidth": 2,
            "linecolor": "white",
            "showbackground": true,
            "ticks": "",
            "zerolinecolor": "white"
           }
          },
          "shapedefaults": {
           "line": {
            "color": "#2a3f5f"
           }
          },
          "ternary": {
           "aaxis": {
            "gridcolor": "white",
            "linecolor": "white",
            "ticks": ""
           },
           "baxis": {
            "gridcolor": "white",
            "linecolor": "white",
            "ticks": ""
           },
           "bgcolor": "#E5ECF6",
           "caxis": {
            "gridcolor": "white",
            "linecolor": "white",
            "ticks": ""
           }
          },
          "title": {
           "x": 0.05
          },
          "xaxis": {
           "automargin": true,
           "gridcolor": "white",
           "linecolor": "white",
           "ticks": "",
           "title": {
            "standoff": 15
           },
           "zerolinecolor": "white",
           "zerolinewidth": 2
          },
          "yaxis": {
           "automargin": true,
           "gridcolor": "white",
           "linecolor": "white",
           "ticks": "",
           "title": {
            "standoff": 15
           },
           "zerolinecolor": "white",
           "zerolinewidth": 2
          }
         }
        },
        "title": {
         "font": {
          "color": "#2C3E50",
          "family": "Arial",
          "size": 20
         },
         "text": "<b>Word Embeddings 3D</b><br><sub>Rappresentazione Semantica nello Spazio Vettoriale</sub>",
         "x": 0.5
        },
        "width": 900
       }
      },
      "text/html": [
       "<div>                            <div id=\"673f268d-6937-4546-a2f7-ff7c19cbe136\" class=\"plotly-graph-div\" style=\"height:700px; width:900px;\"></div>            <script type=\"text/javascript\">                require([\"plotly\"], function(Plotly) {                    window.PLOTLYENV=window.PLOTLYENV || {};                                    if (document.getElementById(\"673f268d-6937-4546-a2f7-ff7c19cbe136\")) {                    Plotly.newPlot(                        \"673f268d-6937-4546-a2f7-ff7c19cbe136\",                        [{\"hoverinfo\":\"skip\",\"line\":{\"color\":\"#E74C3C\",\"width\":6},\"mode\":\"lines\",\"name\":\"Asse X - Vivente\",\"showlegend\":false,\"x\":[0,1.3],\"y\":[0,0],\"z\":[0,0],\"type\":\"scatter3d\"},{\"hoverinfo\":\"skip\",\"line\":{\"color\":\"#2ECC71\",\"width\":6},\"mode\":\"lines\",\"name\":\"Asse Y - Dimensione\",\"showlegend\":false,\"x\":[0,0],\"y\":[0,1.3],\"z\":[0,0],\"type\":\"scatter3d\"},{\"hoverinfo\":\"skip\",\"line\":{\"color\":\"#3498DB\",\"width\":6},\"mode\":\"lines\",\"name\":\"Asse Z - Tecnologia\",\"showlegend\":false,\"x\":[0,0],\"y\":[0,0],\"z\":[0,1.3],\"type\":\"scatter3d\"},{\"hoverinfo\":\"skip\",\"mode\":\"text\",\"showlegend\":false,\"text\":[\"Vivente\"],\"textfont\":{\"color\":\"#E74C3C\",\"family\":\"Arial Black\",\"size\":16},\"x\":[1.4],\"y\":[0],\"z\":[0],\"type\":\"scatter3d\"},{\"hoverinfo\":\"skip\",\"mode\":\"text\",\"showlegend\":false,\"text\":[\"Dimensione\"],\"textfont\":{\"color\":\"#2ECC71\",\"family\":\"Arial Black\",\"size\":16},\"x\":[0],\"y\":[1.4],\"z\":[0],\"type\":\"scatter3d\"},{\"hoverinfo\":\"skip\",\"mode\":\"text\",\"showlegend\":false,\"text\":[\"Tecnologia\"],\"textfont\":{\"color\":\"#3498DB\",\"family\":\"Arial Black\",\"size\":16},\"x\":[0],\"y\":[0],\"z\":[1.4],\"type\":\"scatter3d\"},{\"hovertemplate\":\"\\u003cb\\u003e%{text}\\u003c\\u002fb\\u003e\\u003cbr\\u003eVivente: %{x}\\u003cbr\\u003eDimensione: %{y}\\u003cbr\\u003eTecnologia: %{z}\\u003cbr\\u003e\\u003cextra\\u003e\\u003c\\u002fextra\\u003e\",\"marker\":{\"color\":[\"#FF6B6B\",\"#FF8E53\",\"#FF9F43\",\"#5F27CD\",\"#3742FA\",\"#2F3542\",\"#A4B0BE\"],\"line\":{\"color\":\"#2C3E50\",\"width\":2},\"opacity\":0.9,\"size\":12,\"symbol\":\"circle\"},\"mode\":\"markers+text\",\"name\":\"Parole\",\"text\":[\"gatto\",\"cane\",\"elefante\",\"drone\",\"automobile\",\"camion\",\"pietra\"],\"textfont\":{\"color\":\"#2C3E50\",\"family\":\"Arial Bold\",\"size\":14},\"textposition\":\"top center\",\"x\":[1,1,1,0,0,0,0],\"y\":[0.25,0.5,1,0.5,1,1.2,0],\"z\":[0,0,0,1,1,1,0],\"type\":\"scatter3d\"},{\"hoverinfo\":\"skip\",\"line\":{\"color\":\"#BDC3C7\",\"width\":1},\"mode\":\"lines\",\"opacity\":0.3,\"showlegend\":false,\"x\":[0,1.2],\"y\":[0.0,0.0],\"z\":[0,0],\"type\":\"scatter3d\"},{\"hoverinfo\":\"skip\",\"line\":{\"color\":\"#BDC3C7\",\"width\":1},\"mode\":\"lines\",\"opacity\":0.3,\"showlegend\":false,\"x\":[0.0,0.0],\"y\":[0,1.2],\"z\":[0,0],\"type\":\"scatter3d\"},{\"hoverinfo\":\"skip\",\"line\":{\"color\":\"#BDC3C7\",\"width\":1},\"mode\":\"lines\",\"opacity\":0.3,\"showlegend\":false,\"x\":[0,1.2],\"y\":[0.2,0.2],\"z\":[0,0],\"type\":\"scatter3d\"},{\"hoverinfo\":\"skip\",\"line\":{\"color\":\"#BDC3C7\",\"width\":1},\"mode\":\"lines\",\"opacity\":0.3,\"showlegend\":false,\"x\":[0.2,0.2],\"y\":[0,1.2],\"z\":[0,0],\"type\":\"scatter3d\"},{\"hoverinfo\":\"skip\",\"line\":{\"color\":\"#BDC3C7\",\"width\":1},\"mode\":\"lines\",\"opacity\":0.3,\"showlegend\":false,\"x\":[0,1.2],\"y\":[0.4,0.4],\"z\":[0,0],\"type\":\"scatter3d\"},{\"hoverinfo\":\"skip\",\"line\":{\"color\":\"#BDC3C7\",\"width\":1},\"mode\":\"lines\",\"opacity\":0.3,\"showlegend\":false,\"x\":[0.4,0.4],\"y\":[0,1.2],\"z\":[0,0],\"type\":\"scatter3d\"},{\"hoverinfo\":\"skip\",\"line\":{\"color\":\"#BDC3C7\",\"width\":1},\"mode\":\"lines\",\"opacity\":0.3,\"showlegend\":false,\"x\":[0,1.2],\"y\":[0.6000000000000001,0.6000000000000001],\"z\":[0,0],\"type\":\"scatter3d\"},{\"hoverinfo\":\"skip\",\"line\":{\"color\":\"#BDC3C7\",\"width\":1},\"mode\":\"lines\",\"opacity\":0.3,\"showlegend\":false,\"x\":[0.6000000000000001,0.6000000000000001],\"y\":[0,1.2],\"z\":[0,0],\"type\":\"scatter3d\"},{\"hoverinfo\":\"skip\",\"line\":{\"color\":\"#BDC3C7\",\"width\":1},\"mode\":\"lines\",\"opacity\":0.3,\"showlegend\":false,\"x\":[0,1.2],\"y\":[0.8,0.8],\"z\":[0,0],\"type\":\"scatter3d\"},{\"hoverinfo\":\"skip\",\"line\":{\"color\":\"#BDC3C7\",\"width\":1},\"mode\":\"lines\",\"opacity\":0.3,\"showlegend\":false,\"x\":[0.8,0.8],\"y\":[0,1.2],\"z\":[0,0],\"type\":\"scatter3d\"},{\"hoverinfo\":\"skip\",\"line\":{\"color\":\"#BDC3C7\",\"width\":1},\"mode\":\"lines\",\"opacity\":0.3,\"showlegend\":false,\"x\":[0,1.2],\"y\":[1.0,1.0],\"z\":[0,0],\"type\":\"scatter3d\"},{\"hoverinfo\":\"skip\",\"line\":{\"color\":\"#BDC3C7\",\"width\":1},\"mode\":\"lines\",\"opacity\":0.3,\"showlegend\":false,\"x\":[1.0,1.0],\"y\":[0,1.2],\"z\":[0,0],\"type\":\"scatter3d\"},{\"hoverinfo\":\"skip\",\"line\":{\"color\":\"#BDC3C7\",\"width\":1},\"mode\":\"lines\",\"opacity\":0.3,\"showlegend\":false,\"x\":[0,1.2],\"y\":[1.2000000000000002,1.2000000000000002],\"z\":[0,0],\"type\":\"scatter3d\"},{\"hoverinfo\":\"skip\",\"line\":{\"color\":\"#BDC3C7\",\"width\":1},\"mode\":\"lines\",\"opacity\":0.3,\"showlegend\":false,\"x\":[1.2000000000000002,1.2000000000000002],\"y\":[0,1.2],\"z\":[0,0],\"type\":\"scatter3d\"}],                        {\"template\":{\"data\":{\"histogram2dcontour\":[{\"type\":\"histogram2dcontour\",\"colorbar\":{\"outlinewidth\":0,\"ticks\":\"\"},\"colorscale\":[[0.0,\"#0d0887\"],[0.1111111111111111,\"#46039f\"],[0.2222222222222222,\"#7201a8\"],[0.3333333333333333,\"#9c179e\"],[0.4444444444444444,\"#bd3786\"],[0.5555555555555556,\"#d8576b\"],[0.6666666666666666,\"#ed7953\"],[0.7777777777777778,\"#fb9f3a\"],[0.8888888888888888,\"#fdca26\"],[1.0,\"#f0f921\"]]}],\"choropleth\":[{\"type\":\"choropleth\",\"colorbar\":{\"outlinewidth\":0,\"ticks\":\"\"}}],\"histogram2d\":[{\"type\":\"histogram2d\",\"colorbar\":{\"outlinewidth\":0,\"ticks\":\"\"},\"colorscale\":[[0.0,\"#0d0887\"],[0.1111111111111111,\"#46039f\"],[0.2222222222222222,\"#7201a8\"],[0.3333333333333333,\"#9c179e\"],[0.4444444444444444,\"#bd3786\"],[0.5555555555555556,\"#d8576b\"],[0.6666666666666666,\"#ed7953\"],[0.7777777777777778,\"#fb9f3a\"],[0.8888888888888888,\"#fdca26\"],[1.0,\"#f0f921\"]]}],\"heatmap\":[{\"type\":\"heatmap\",\"colorbar\":{\"outlinewidth\":0,\"ticks\":\"\"},\"colorscale\":[[0.0,\"#0d0887\"],[0.1111111111111111,\"#46039f\"],[0.2222222222222222,\"#7201a8\"],[0.3333333333333333,\"#9c179e\"],[0.4444444444444444,\"#bd3786\"],[0.5555555555555556,\"#d8576b\"],[0.6666666666666666,\"#ed7953\"],[0.7777777777777778,\"#fb9f3a\"],[0.8888888888888888,\"#fdca26\"],[1.0,\"#f0f921\"]]}],\"heatmapgl\":[{\"type\":\"heatmapgl\",\"colorbar\":{\"outlinewidth\":0,\"ticks\":\"\"},\"colorscale\":[[0.0,\"#0d0887\"],[0.1111111111111111,\"#46039f\"],[0.2222222222222222,\"#7201a8\"],[0.3333333333333333,\"#9c179e\"],[0.4444444444444444,\"#bd3786\"],[0.5555555555555556,\"#d8576b\"],[0.6666666666666666,\"#ed7953\"],[0.7777777777777778,\"#fb9f3a\"],[0.8888888888888888,\"#fdca26\"],[1.0,\"#f0f921\"]]}],\"contourcarpet\":[{\"type\":\"contourcarpet\",\"colorbar\":{\"outlinewidth\":0,\"ticks\":\"\"}}],\"contour\":[{\"type\":\"contour\",\"colorbar\":{\"outlinewidth\":0,\"ticks\":\"\"},\"colorscale\":[[0.0,\"#0d0887\"],[0.1111111111111111,\"#46039f\"],[0.2222222222222222,\"#7201a8\"],[0.3333333333333333,\"#9c179e\"],[0.4444444444444444,\"#bd3786\"],[0.5555555555555556,\"#d8576b\"],[0.6666666666666666,\"#ed7953\"],[0.7777777777777778,\"#fb9f3a\"],[0.8888888888888888,\"#fdca26\"],[1.0,\"#f0f921\"]]}],\"surface\":[{\"type\":\"surface\",\"colorbar\":{\"outlinewidth\":0,\"ticks\":\"\"},\"colorscale\":[[0.0,\"#0d0887\"],[0.1111111111111111,\"#46039f\"],[0.2222222222222222,\"#7201a8\"],[0.3333333333333333,\"#9c179e\"],[0.4444444444444444,\"#bd3786\"],[0.5555555555555556,\"#d8576b\"],[0.6666666666666666,\"#ed7953\"],[0.7777777777777778,\"#fb9f3a\"],[0.8888888888888888,\"#fdca26\"],[1.0,\"#f0f921\"]]}],\"mesh3d\":[{\"type\":\"mesh3d\",\"colorbar\":{\"outlinewidth\":0,\"ticks\":\"\"}}],\"scatter\":[{\"fillpattern\":{\"fillmode\":\"overlay\",\"size\":10,\"solidity\":0.2},\"type\":\"scatter\"}],\"parcoords\":[{\"type\":\"parcoords\",\"line\":{\"colorbar\":{\"outlinewidth\":0,\"ticks\":\"\"}}}],\"scatterpolargl\":[{\"type\":\"scatterpolargl\",\"marker\":{\"colorbar\":{\"outlinewidth\":0,\"ticks\":\"\"}}}],\"bar\":[{\"error_x\":{\"color\":\"#2a3f5f\"},\"error_y\":{\"color\":\"#2a3f5f\"},\"marker\":{\"line\":{\"color\":\"#E5ECF6\",\"width\":0.5},\"pattern\":{\"fillmode\":\"overlay\",\"size\":10,\"solidity\":0.2}},\"type\":\"bar\"}],\"scattergeo\":[{\"type\":\"scattergeo\",\"marker\":{\"colorbar\":{\"outlinewidth\":0,\"ticks\":\"\"}}}],\"scatterpolar\":[{\"type\":\"scatterpolar\",\"marker\":{\"colorbar\":{\"outlinewidth\":0,\"ticks\":\"\"}}}],\"histogram\":[{\"marker\":{\"pattern\":{\"fillmode\":\"overlay\",\"size\":10,\"solidity\":0.2}},\"type\":\"histogram\"}],\"scattergl\":[{\"type\":\"scattergl\",\"marker\":{\"colorbar\":{\"outlinewidth\":0,\"ticks\":\"\"}}}],\"scatter3d\":[{\"type\":\"scatter3d\",\"line\":{\"colorbar\":{\"outlinewidth\":0,\"ticks\":\"\"}},\"marker\":{\"colorbar\":{\"outlinewidth\":0,\"ticks\":\"\"}}}],\"scattermapbox\":[{\"type\":\"scattermapbox\",\"marker\":{\"colorbar\":{\"outlinewidth\":0,\"ticks\":\"\"}}}],\"scatterternary\":[{\"type\":\"scatterternary\",\"marker\":{\"colorbar\":{\"outlinewidth\":0,\"ticks\":\"\"}}}],\"scattercarpet\":[{\"type\":\"scattercarpet\",\"marker\":{\"colorbar\":{\"outlinewidth\":0,\"ticks\":\"\"}}}],\"carpet\":[{\"aaxis\":{\"endlinecolor\":\"#2a3f5f\",\"gridcolor\":\"white\",\"linecolor\":\"white\",\"minorgridcolor\":\"white\",\"startlinecolor\":\"#2a3f5f\"},\"baxis\":{\"endlinecolor\":\"#2a3f5f\",\"gridcolor\":\"white\",\"linecolor\":\"white\",\"minorgridcolor\":\"white\",\"startlinecolor\":\"#2a3f5f\"},\"type\":\"carpet\"}],\"table\":[{\"cells\":{\"fill\":{\"color\":\"#EBF0F8\"},\"line\":{\"color\":\"white\"}},\"header\":{\"fill\":{\"color\":\"#C8D4E3\"},\"line\":{\"color\":\"white\"}},\"type\":\"table\"}],\"barpolar\":[{\"marker\":{\"line\":{\"color\":\"#E5ECF6\",\"width\":0.5},\"pattern\":{\"fillmode\":\"overlay\",\"size\":10,\"solidity\":0.2}},\"type\":\"barpolar\"}],\"pie\":[{\"automargin\":true,\"type\":\"pie\"}]},\"layout\":{\"autotypenumbers\":\"strict\",\"colorway\":[\"#636efa\",\"#EF553B\",\"#00cc96\",\"#ab63fa\",\"#FFA15A\",\"#19d3f3\",\"#FF6692\",\"#B6E880\",\"#FF97FF\",\"#FECB52\"],\"font\":{\"color\":\"#2a3f5f\"},\"hovermode\":\"closest\",\"hoverlabel\":{\"align\":\"left\"},\"paper_bgcolor\":\"white\",\"plot_bgcolor\":\"#E5ECF6\",\"polar\":{\"bgcolor\":\"#E5ECF6\",\"angularaxis\":{\"gridcolor\":\"white\",\"linecolor\":\"white\",\"ticks\":\"\"},\"radialaxis\":{\"gridcolor\":\"white\",\"linecolor\":\"white\",\"ticks\":\"\"}},\"ternary\":{\"bgcolor\":\"#E5ECF6\",\"aaxis\":{\"gridcolor\":\"white\",\"linecolor\":\"white\",\"ticks\":\"\"},\"baxis\":{\"gridcolor\":\"white\",\"linecolor\":\"white\",\"ticks\":\"\"},\"caxis\":{\"gridcolor\":\"white\",\"linecolor\":\"white\",\"ticks\":\"\"}},\"coloraxis\":{\"colorbar\":{\"outlinewidth\":0,\"ticks\":\"\"}},\"colorscale\":{\"sequential\":[[0.0,\"#0d0887\"],[0.1111111111111111,\"#46039f\"],[0.2222222222222222,\"#7201a8\"],[0.3333333333333333,\"#9c179e\"],[0.4444444444444444,\"#bd3786\"],[0.5555555555555556,\"#d8576b\"],[0.6666666666666666,\"#ed7953\"],[0.7777777777777778,\"#fb9f3a\"],[0.8888888888888888,\"#fdca26\"],[1.0,\"#f0f921\"]],\"sequentialminus\":[[0.0,\"#0d0887\"],[0.1111111111111111,\"#46039f\"],[0.2222222222222222,\"#7201a8\"],[0.3333333333333333,\"#9c179e\"],[0.4444444444444444,\"#bd3786\"],[0.5555555555555556,\"#d8576b\"],[0.6666666666666666,\"#ed7953\"],[0.7777777777777778,\"#fb9f3a\"],[0.8888888888888888,\"#fdca26\"],[1.0,\"#f0f921\"]],\"diverging\":[[0,\"#8e0152\"],[0.1,\"#c51b7d\"],[0.2,\"#de77ae\"],[0.3,\"#f1b6da\"],[0.4,\"#fde0ef\"],[0.5,\"#f7f7f7\"],[0.6,\"#e6f5d0\"],[0.7,\"#b8e186\"],[0.8,\"#7fbc41\"],[0.9,\"#4d9221\"],[1,\"#276419\"]]},\"xaxis\":{\"gridcolor\":\"white\",\"linecolor\":\"white\",\"ticks\":\"\",\"title\":{\"standoff\":15},\"zerolinecolor\":\"white\",\"automargin\":true,\"zerolinewidth\":2},\"yaxis\":{\"gridcolor\":\"white\",\"linecolor\":\"white\",\"ticks\":\"\",\"title\":{\"standoff\":15},\"zerolinecolor\":\"white\",\"automargin\":true,\"zerolinewidth\":2},\"scene\":{\"xaxis\":{\"backgroundcolor\":\"#E5ECF6\",\"gridcolor\":\"white\",\"linecolor\":\"white\",\"showbackground\":true,\"ticks\":\"\",\"zerolinecolor\":\"white\",\"gridwidth\":2},\"yaxis\":{\"backgroundcolor\":\"#E5ECF6\",\"gridcolor\":\"white\",\"linecolor\":\"white\",\"showbackground\":true,\"ticks\":\"\",\"zerolinecolor\":\"white\",\"gridwidth\":2},\"zaxis\":{\"backgroundcolor\":\"#E5ECF6\",\"gridcolor\":\"white\",\"linecolor\":\"white\",\"showbackground\":true,\"ticks\":\"\",\"zerolinecolor\":\"white\",\"gridwidth\":2}},\"shapedefaults\":{\"line\":{\"color\":\"#2a3f5f\"}},\"annotationdefaults\":{\"arrowcolor\":\"#2a3f5f\",\"arrowhead\":0,\"arrowwidth\":1},\"geo\":{\"bgcolor\":\"white\",\"landcolor\":\"#E5ECF6\",\"subunitcolor\":\"white\",\"showland\":true,\"showlakes\":true,\"lakecolor\":\"white\"},\"title\":{\"x\":0.05},\"mapbox\":{\"style\":\"light\"}}},\"title\":{\"font\":{\"size\":20,\"color\":\"#2C3E50\",\"family\":\"Arial\"},\"text\":\"\\u003cb\\u003eWord Embeddings 3D\\u003c\\u002fb\\u003e\\u003cbr\\u003e\\u003csub\\u003eRappresentazione Semantica nello Spazio Vettoriale\\u003c\\u002fsub\\u003e\",\"x\":0.5},\"scene\":{\"xaxis\":{\"title\":{\"font\":{\"size\":14,\"color\":\"#E74C3C\"},\"text\":\"\"},\"tickfont\":{\"size\":12,\"color\":\"#34495E\"},\"showspikes\":false,\"showgrid\":false,\"showline\":false,\"zeroline\":false,\"showticklabels\":true,\"range\":[0,1.5]},\"yaxis\":{\"title\":{\"font\":{\"size\":14,\"color\":\"#2ECC71\"},\"text\":\"\"},\"tickfont\":{\"size\":12,\"color\":\"#34495E\"},\"showspikes\":false,\"showgrid\":false,\"showline\":false,\"zeroline\":false,\"showticklabels\":true,\"range\":[0,1.5]},\"zaxis\":{\"title\":{\"font\":{\"size\":14,\"color\":\"#3498DB\"},\"text\":\"\"},\"tickfont\":{\"size\":12,\"color\":\"#34495E\"},\"showspikes\":false,\"showgrid\":false,\"showline\":false,\"zeroline\":false,\"showticklabels\":true,\"range\":[0,1.5]},\"camera\":{\"eye\":{\"x\":1.8,\"y\":1.8,\"z\":1.5},\"center\":{\"x\":0,\"y\":0,\"z\":0},\"up\":{\"x\":0,\"y\":0,\"z\":1}},\"bgcolor\":\"#F8F9FA\",\"aspectmode\":\"cube\",\"dragmode\":\"turntable\"},\"margin\":{\"l\":20,\"r\":20,\"b\":20,\"t\":80},\"font\":{\"family\":\"Arial\",\"size\":12,\"color\":\"#2C3E50\"},\"width\":900,\"height\":700,\"paper_bgcolor\":\"white\",\"plot_bgcolor\":\"white\",\"annotations\":[{\"align\":\"left\",\"bgcolor\":\"rgba(255,255,255,0.8)\",\"bordercolor\":\"#BDC3C7\",\"borderwidth\":1,\"font\":{\"color\":\"#2C3E50\",\"size\":11},\"showarrow\":false,\"text\":\"\\u003cb\\u003eLegenda:\\u003c\\u002fb\\u003e\\u003cbr\\u003e🔴 Animali viventi\\u003cbr\\u003e🔵 Oggetti tecnologici\\u003cbr\\u003e⚪ Oggetti inanimati\",\"x\":0.02,\"xref\":\"paper\",\"y\":0.98,\"yref\":\"paper\"}],\"hovermode\":\"closest\"},                        {\"responsive\": true}                    ).then(function(){\n",
       "                            \n",
       "var gd = document.getElementById('673f268d-6937-4546-a2f7-ff7c19cbe136');\n",
       "var x = new MutationObserver(function (mutations, observer) {{\n",
       "        var display = window.getComputedStyle(gd).display;\n",
       "        if (!display || display === 'none') {{\n",
       "            console.log([gd, 'removed!']);\n",
       "            Plotly.purge(gd);\n",
       "            observer.disconnect();\n",
       "        }}\n",
       "}});\n",
       "\n",
       "// Listen for the removal of the full notebook cells\n",
       "var notebookContainer = gd.closest('#notebook-container');\n",
       "if (notebookContainer) {{\n",
       "    x.observe(notebookContainer, {childList: true});\n",
       "}}\n",
       "\n",
       "// Listen for the clearing of the current output cell\n",
       "var outputEl = gd.closest('.output');\n",
       "if (outputEl) {{\n",
       "    x.observe(outputEl, {childList: true});\n",
       "}}\n",
       "\n",
       "                        })                };                });            </script>        </div>"
      ]
     },
     "metadata": {},
     "output_type": "display_data"
    }
   ],
   "source": [
    "import plotly.graph_objects as go\n",
    "import numpy as np\n",
    "\n",
    "# Definizione delle parole e delle coordinate semantiche con colori semantici\n",
    "parole_data = {\n",
    "    \"gatto\": {\"coords\": (1, 0.25, 0), \"color\": \"#FF6B6B\", \"category\": \"Animale\"},\n",
    "    \"cane\": {\"coords\": (1, 0.5, 0), \"color\": \"#FF8E53\", \"category\": \"Animale\"},\n",
    "    \"elefante\": {\"coords\": (1, 1, 0), \"color\": \"#FF9F43\", \"category\": \"Animale\"},\n",
    "    \"drone\": {\"coords\": (0, 0.5, 1), \"color\": \"#5F27CD\", \"category\": \"Tecnologia\"},\n",
    "    \"automobile\": {\"coords\": (0, 1, 1), \"color\": \"#3742FA\", \"category\": \"Tecnologia\"},\n",
    "    \"camion\": {\"coords\": (0, 1.2, 1), \"color\": \"#2F3542\", \"category\": \"Tecnologia\"},\n",
    "    \"pietra\": {\"coords\": (0, 0, 0), \"color\": \"#A4B0BE\", \"category\": \"Oggetto\"},\n",
    "}\n",
    "\n",
    "# Estrazione coordinate e metadati\n",
    "x = [data[\"coords\"][0] for data in parole_data.values()]\n",
    "y = [data[\"coords\"][1] for data in parole_data.values()]\n",
    "z = [data[\"coords\"][2] for data in parole_data.values()]\n",
    "labels = list(parole_data.keys())\n",
    "colors = [data[\"color\"] for data in parole_data.values()]\n",
    "categories = [data[\"category\"] for data in parole_data.values()]\n",
    "\n",
    "# Creazione assi con stile migliorato\n",
    "def create_axis_line(start, end, name, color='#2C3E50'):\n",
    "    \"\"\"Crea una linea per gli assi con freccia\"\"\"\n",
    "    return go.Scatter3d(\n",
    "        x=[start[0], end[0]], \n",
    "        y=[start[1], end[1]], \n",
    "        z=[start[2], end[2]],\n",
    "        mode='lines',\n",
    "        line=dict(color=color, width=6),\n",
    "        name=name,\n",
    "        showlegend=False,\n",
    "        hoverinfo='skip'\n",
    "    )\n",
    "\n",
    "# Creazione frecce per gli assi\n",
    "assi = [\n",
    "    create_axis_line([0, 0, 0], [1.3, 0, 0], 'Asse X - Vivente', '#E74C3C'),\n",
    "    create_axis_line([0, 0, 0], [0, 1.3, 0], 'Asse Y - Dimensione', '#2ECC71'),\n",
    "    create_axis_line([0, 0, 0], [0, 0, 1.3], 'Asse Z - Tecnologia', '#3498DB')\n",
    "]\n",
    "\n",
    "# Aggiunta etichette degli assi con posizionamento migliorato\n",
    "axis_labels = [\n",
    "    go.Scatter3d(x=[1.4], y=[0], z=[0], mode='text', text=['Vivente'], \n",
    "                textfont=dict(size=16, color='#E74C3C', family=\"Arial Black\"), \n",
    "                showlegend=False, hoverinfo='skip'),\n",
    "    go.Scatter3d(x=[0], y=[1.4], z=[0], mode='text', text=['Dimensione'], \n",
    "                textfont=dict(size=16, color='#2ECC71', family=\"Arial Black\"), \n",
    "                showlegend=False, hoverinfo='skip'),\n",
    "    go.Scatter3d(x=[0], y=[0], z=[1.4], mode='text', text=['Tecnologia'], \n",
    "                textfont=dict(size=16, color='#3498DB', family=\"Arial Black\"), \n",
    "                showlegend=False, hoverinfo='skip')\n",
    "]\n",
    "\n",
    "# Punti principali con stile migliorato\n",
    "punti_principali = go.Scatter3d(\n",
    "    x=x, y=y, z=z,\n",
    "    mode='markers+text',\n",
    "    text=labels,\n",
    "    textposition='top center',\n",
    "    textfont=dict(\n",
    "        size=14,\n",
    "        color='#2C3E50',\n",
    "        family=\"Arial Bold\"\n",
    "    ),\n",
    "    marker=dict(\n",
    "        size=12,\n",
    "        color=colors,\n",
    "        line=dict(width=2, color='#2C3E50'),\n",
    "        opacity=0.9,\n",
    "        symbol='circle'\n",
    "    ),\n",
    "    name='Parole',\n",
    "    hovertemplate='<b>%{text}</b><br>' +\n",
    "                  'Vivente: %{x}<br>' +\n",
    "                  'Dimensione: %{y}<br>' +\n",
    "                  'Tecnologia: %{z}<br>' +\n",
    "                  '<extra></extra>'\n",
    ")\n",
    "\n",
    "# Aggiunta griglia di riferimento sottile\n",
    "def create_grid_lines():\n",
    "    \"\"\"Crea linee di griglia per facilitare la lettura\"\"\"\n",
    "    grid_lines = []\n",
    "    \n",
    "    # Griglia sul piano XY (z=0)\n",
    "    for i in np.arange(0, 1.3, 0.2):\n",
    "        # Linee parallele all'asse X\n",
    "        grid_lines.append(go.Scatter3d(\n",
    "            x=[0, 1.2], y=[i, i], z=[0, 0],\n",
    "            mode='lines', line=dict(color='#BDC3C7', width=1),\n",
    "            showlegend=False, hoverinfo='skip', opacity=0.3\n",
    "        ))\n",
    "        # Linee parallele all'asse Y\n",
    "        grid_lines.append(go.Scatter3d(\n",
    "            x=[i, i], y=[0, 1.2], z=[0, 0],\n",
    "            mode='lines', line=dict(color='#BDC3C7', width=1),\n",
    "            showlegend=False, hoverinfo='skip', opacity=0.3\n",
    "        ))\n",
    "    \n",
    "    return grid_lines\n",
    "\n",
    "# Composizione della figura\n",
    "fig = go.Figure(data=assi + axis_labels + [punti_principali] + create_grid_lines())\n",
    "\n",
    "# Layout con impostazioni avanzate\n",
    "fig.update_layout(\n",
    "    title=dict(\n",
    "        text='<b>Word Embeddings 3D</b><br><sub>Rappresentazione Semantica nello Spazio Vettoriale</sub>',\n",
    "        x=0.5,\n",
    "        font=dict(size=20, color='#2C3E50', family=\"Arial\")\n",
    "    ),\n",
    "    width=900,   # Aumentata larghezza\n",
    "    height=700,  # Aumentata altezza per bilanciare\n",
    "    scene=dict(\n",
    "        # Impostazioni assi migliorate\n",
    "        xaxis=dict(\n",
    "            title=dict(text='', font=dict(size=14, color='#E74C3C')),\n",
    "            showspikes=False,\n",
    "            showgrid=False,\n",
    "            showline=False,\n",
    "            zeroline=False,\n",
    "            showticklabels=True,\n",
    "            tickfont=dict(size=12, color='#34495E'),\n",
    "            range=[0, 1.5]\n",
    "        ),\n",
    "        yaxis=dict(\n",
    "            title=dict(text='', font=dict(size=14, color='#2ECC71')),\n",
    "            showspikes=False,\n",
    "            showgrid=False,\n",
    "            showline=False,\n",
    "            zeroline=False,\n",
    "            showticklabels=True,\n",
    "            tickfont=dict(size=12, color='#34495E'),\n",
    "            range=[0, 1.5]\n",
    "        ),\n",
    "        zaxis=dict(\n",
    "            title=dict(text='', font=dict(size=14, color='#3498DB')),\n",
    "            showspikes=False,\n",
    "            showgrid=False,\n",
    "            showline=False,\n",
    "            zeroline=False,\n",
    "            showticklabels=True,\n",
    "            tickfont=dict(size=12, color='#34495E'),\n",
    "            range=[0, 1.5]\n",
    "        ),\n",
    "        # Impostazioni camera per vista ottimale\n",
    "        camera=dict(\n",
    "            eye=dict(x=1.8, y=1.8, z=1.5),\n",
    "            center=dict(x=0, y=0, z=0),\n",
    "            up=dict(x=0, y=0, z=1)\n",
    "        ),\n",
    "        # Sfondo e illuminazione\n",
    "        bgcolor='#F8F9FA',\n",
    "        aspectmode='cube'  # Mantiene proporzioni uguali\n",
    "    ),\n",
    "    # Margini ottimizzati\n",
    "    margin=dict(l=20, r=20, b=20, t=80),\n",
    "    # Sfondo generale\n",
    "    paper_bgcolor='white',\n",
    "    plot_bgcolor='white',\n",
    "    # Font globale\n",
    "    font=dict(family=\"Arial\", size=12, color='#2C3E50')\n",
    ")\n",
    "\n",
    "# Aggiunta annotazioni esplicative\n",
    "fig.add_annotation(\n",
    "    x=0.02, y=0.98,\n",
    "    xref=\"paper\", yref=\"paper\",\n",
    "    text=\"<b>Legenda:</b><br>\" +\n",
    "         \"🔴 Animali viventi<br>\" +\n",
    "         \"🔵 Oggetti tecnologici<br>\" +\n",
    "         \"⚪ Oggetti inanimati\",\n",
    "    showarrow=False,\n",
    "    font=dict(size=11, color='#2C3E50'),\n",
    "    bgcolor='rgba(255,255,255,0.8)',\n",
    "    bordercolor='#BDC3C7',\n",
    "    borderwidth=1,\n",
    "    align=\"left\"\n",
    ")\n",
    "\n",
    "# Impostazioni interattività\n",
    "fig.update_layout(\n",
    "    scene=dict(\n",
    "        dragmode='turntable',  # Rotazione fluida\n",
    "    ),\n",
    "    hovermode='closest'\n",
    ")\n",
    "\n",
    "print(\"🎨 Visualizzazione Word Embeddings 3D migliorata\")\n",
    "print(\"📊 Caratteristiche:\")\n",
    "print(\"   • Font ottimizzati e leggibili\")\n",
    "print(\"   • Colori semantici per categorie\")\n",
    "print(\"   • Griglia di riferimento\")\n",
    "print(\"   • Hover informativi\")\n",
    "print(\"   • Layout bilanciato\")\n",
    "print(\"   • Interattività migliorata\")\n",
    "\n",
    "fig.show()\n",
    "\n",
    "# Opzione per salvare ad alta risoluzione\n",
    "# fig.write_html(\"word_embeddings_3d.html\")\n",
    "# fig.write_image(\"word_embeddings_3d.png\", width=1200, height=900, scale=2)"
   ]
  },
  {
   "cell_type": "markdown",
   "id": "c36cf42c",
   "metadata": {},
   "source": [
    "**Un altro esempio di dimensioni semantiche**"
   ]
  },
  {
   "cell_type": "code",
   "execution_count": 12,
   "id": "c1fca491",
   "metadata": {},
   "outputs": [
    {
     "data": {
      "application/vnd.plotly.v1+json": {
       "config": {
        "plotlyServerURL": "https://plot.ly"
       },
       "data": [
        {
         "line": {
          "color": "black",
          "width": 4
         },
         "mode": "lines",
         "showlegend": false,
         "type": "scatter3d",
         "x": [
          0,
          1.2
         ],
         "y": [
          0,
          0
         ],
         "z": [
          0,
          0
         ]
        },
        {
         "line": {
          "color": "black",
          "width": 4
         },
         "mode": "lines",
         "showlegend": false,
         "type": "scatter3d",
         "x": [
          0,
          0
         ],
         "y": [
          0,
          1.2
         ],
         "z": [
          0,
          0
         ]
        },
        {
         "line": {
          "color": "black",
          "width": 4
         },
         "mode": "lines",
         "showlegend": false,
         "type": "scatter3d",
         "x": [
          0,
          0
         ],
         "y": [
          0,
          0
         ],
         "z": [
          -1.2,
          1.2
         ]
        },
        {
         "marker": {
          "color": "lightcoral",
          "line": {
           "color": "darkred",
           "width": 1
          },
          "size": 6
         },
         "mode": "markers+text",
         "text": [
          "amore",
          "macchina",
          "libertà",
          "scuola",
          "sogno",
          "pane",
          "nostalgia"
         ],
         "textposition": "top center",
         "type": "scatter3d",
         "x": [
          1,
          0,
          1,
          0.5,
          1,
          0,
          1
         ],
         "y": [
          1,
          0,
          1,
          0.3,
          0.8,
          0,
          0.9
         ],
         "z": [
          0.5,
          0,
          1,
          0.6,
          1,
          0,
          -1
         ]
        }
       ],
       "layout": {
        "margin": {
         "b": 0,
         "l": 0,
         "r": 0,
         "t": 50
        },
        "scene": {
         "xaxis": {
          "showspikes": false,
          "title": {
           "text": "Astrattezza"
          }
         },
         "yaxis": {
          "showspikes": false,
          "title": {
           "text": "Emotività"
          }
         },
         "zaxis": {
          "showspikes": false,
          "title": {
           "text": "Temporalità"
          }
         }
        },
        "template": {
         "data": {
          "bar": [
           {
            "error_x": {
             "color": "#2a3f5f"
            },
            "error_y": {
             "color": "#2a3f5f"
            },
            "marker": {
             "line": {
              "color": "#E5ECF6",
              "width": 0.5
             },
             "pattern": {
              "fillmode": "overlay",
              "size": 10,
              "solidity": 0.2
             }
            },
            "type": "bar"
           }
          ],
          "barpolar": [
           {
            "marker": {
             "line": {
              "color": "#E5ECF6",
              "width": 0.5
             },
             "pattern": {
              "fillmode": "overlay",
              "size": 10,
              "solidity": 0.2
             }
            },
            "type": "barpolar"
           }
          ],
          "carpet": [
           {
            "aaxis": {
             "endlinecolor": "#2a3f5f",
             "gridcolor": "white",
             "linecolor": "white",
             "minorgridcolor": "white",
             "startlinecolor": "#2a3f5f"
            },
            "baxis": {
             "endlinecolor": "#2a3f5f",
             "gridcolor": "white",
             "linecolor": "white",
             "minorgridcolor": "white",
             "startlinecolor": "#2a3f5f"
            },
            "type": "carpet"
           }
          ],
          "choropleth": [
           {
            "colorbar": {
             "outlinewidth": 0,
             "ticks": ""
            },
            "type": "choropleth"
           }
          ],
          "contour": [
           {
            "colorbar": {
             "outlinewidth": 0,
             "ticks": ""
            },
            "colorscale": [
             [
              0,
              "#0d0887"
             ],
             [
              0.1111111111111111,
              "#46039f"
             ],
             [
              0.2222222222222222,
              "#7201a8"
             ],
             [
              0.3333333333333333,
              "#9c179e"
             ],
             [
              0.4444444444444444,
              "#bd3786"
             ],
             [
              0.5555555555555556,
              "#d8576b"
             ],
             [
              0.6666666666666666,
              "#ed7953"
             ],
             [
              0.7777777777777778,
              "#fb9f3a"
             ],
             [
              0.8888888888888888,
              "#fdca26"
             ],
             [
              1,
              "#f0f921"
             ]
            ],
            "type": "contour"
           }
          ],
          "contourcarpet": [
           {
            "colorbar": {
             "outlinewidth": 0,
             "ticks": ""
            },
            "type": "contourcarpet"
           }
          ],
          "heatmap": [
           {
            "colorbar": {
             "outlinewidth": 0,
             "ticks": ""
            },
            "colorscale": [
             [
              0,
              "#0d0887"
             ],
             [
              0.1111111111111111,
              "#46039f"
             ],
             [
              0.2222222222222222,
              "#7201a8"
             ],
             [
              0.3333333333333333,
              "#9c179e"
             ],
             [
              0.4444444444444444,
              "#bd3786"
             ],
             [
              0.5555555555555556,
              "#d8576b"
             ],
             [
              0.6666666666666666,
              "#ed7953"
             ],
             [
              0.7777777777777778,
              "#fb9f3a"
             ],
             [
              0.8888888888888888,
              "#fdca26"
             ],
             [
              1,
              "#f0f921"
             ]
            ],
            "type": "heatmap"
           }
          ],
          "heatmapgl": [
           {
            "colorbar": {
             "outlinewidth": 0,
             "ticks": ""
            },
            "colorscale": [
             [
              0,
              "#0d0887"
             ],
             [
              0.1111111111111111,
              "#46039f"
             ],
             [
              0.2222222222222222,
              "#7201a8"
             ],
             [
              0.3333333333333333,
              "#9c179e"
             ],
             [
              0.4444444444444444,
              "#bd3786"
             ],
             [
              0.5555555555555556,
              "#d8576b"
             ],
             [
              0.6666666666666666,
              "#ed7953"
             ],
             [
              0.7777777777777778,
              "#fb9f3a"
             ],
             [
              0.8888888888888888,
              "#fdca26"
             ],
             [
              1,
              "#f0f921"
             ]
            ],
            "type": "heatmapgl"
           }
          ],
          "histogram": [
           {
            "marker": {
             "pattern": {
              "fillmode": "overlay",
              "size": 10,
              "solidity": 0.2
             }
            },
            "type": "histogram"
           }
          ],
          "histogram2d": [
           {
            "colorbar": {
             "outlinewidth": 0,
             "ticks": ""
            },
            "colorscale": [
             [
              0,
              "#0d0887"
             ],
             [
              0.1111111111111111,
              "#46039f"
             ],
             [
              0.2222222222222222,
              "#7201a8"
             ],
             [
              0.3333333333333333,
              "#9c179e"
             ],
             [
              0.4444444444444444,
              "#bd3786"
             ],
             [
              0.5555555555555556,
              "#d8576b"
             ],
             [
              0.6666666666666666,
              "#ed7953"
             ],
             [
              0.7777777777777778,
              "#fb9f3a"
             ],
             [
              0.8888888888888888,
              "#fdca26"
             ],
             [
              1,
              "#f0f921"
             ]
            ],
            "type": "histogram2d"
           }
          ],
          "histogram2dcontour": [
           {
            "colorbar": {
             "outlinewidth": 0,
             "ticks": ""
            },
            "colorscale": [
             [
              0,
              "#0d0887"
             ],
             [
              0.1111111111111111,
              "#46039f"
             ],
             [
              0.2222222222222222,
              "#7201a8"
             ],
             [
              0.3333333333333333,
              "#9c179e"
             ],
             [
              0.4444444444444444,
              "#bd3786"
             ],
             [
              0.5555555555555556,
              "#d8576b"
             ],
             [
              0.6666666666666666,
              "#ed7953"
             ],
             [
              0.7777777777777778,
              "#fb9f3a"
             ],
             [
              0.8888888888888888,
              "#fdca26"
             ],
             [
              1,
              "#f0f921"
             ]
            ],
            "type": "histogram2dcontour"
           }
          ],
          "mesh3d": [
           {
            "colorbar": {
             "outlinewidth": 0,
             "ticks": ""
            },
            "type": "mesh3d"
           }
          ],
          "parcoords": [
           {
            "line": {
             "colorbar": {
              "outlinewidth": 0,
              "ticks": ""
             }
            },
            "type": "parcoords"
           }
          ],
          "pie": [
           {
            "automargin": true,
            "type": "pie"
           }
          ],
          "scatter": [
           {
            "fillpattern": {
             "fillmode": "overlay",
             "size": 10,
             "solidity": 0.2
            },
            "type": "scatter"
           }
          ],
          "scatter3d": [
           {
            "line": {
             "colorbar": {
              "outlinewidth": 0,
              "ticks": ""
             }
            },
            "marker": {
             "colorbar": {
              "outlinewidth": 0,
              "ticks": ""
             }
            },
            "type": "scatter3d"
           }
          ],
          "scattercarpet": [
           {
            "marker": {
             "colorbar": {
              "outlinewidth": 0,
              "ticks": ""
             }
            },
            "type": "scattercarpet"
           }
          ],
          "scattergeo": [
           {
            "marker": {
             "colorbar": {
              "outlinewidth": 0,
              "ticks": ""
             }
            },
            "type": "scattergeo"
           }
          ],
          "scattergl": [
           {
            "marker": {
             "colorbar": {
              "outlinewidth": 0,
              "ticks": ""
             }
            },
            "type": "scattergl"
           }
          ],
          "scattermapbox": [
           {
            "marker": {
             "colorbar": {
              "outlinewidth": 0,
              "ticks": ""
             }
            },
            "type": "scattermapbox"
           }
          ],
          "scatterpolar": [
           {
            "marker": {
             "colorbar": {
              "outlinewidth": 0,
              "ticks": ""
             }
            },
            "type": "scatterpolar"
           }
          ],
          "scatterpolargl": [
           {
            "marker": {
             "colorbar": {
              "outlinewidth": 0,
              "ticks": ""
             }
            },
            "type": "scatterpolargl"
           }
          ],
          "scatterternary": [
           {
            "marker": {
             "colorbar": {
              "outlinewidth": 0,
              "ticks": ""
             }
            },
            "type": "scatterternary"
           }
          ],
          "surface": [
           {
            "colorbar": {
             "outlinewidth": 0,
             "ticks": ""
            },
            "colorscale": [
             [
              0,
              "#0d0887"
             ],
             [
              0.1111111111111111,
              "#46039f"
             ],
             [
              0.2222222222222222,
              "#7201a8"
             ],
             [
              0.3333333333333333,
              "#9c179e"
             ],
             [
              0.4444444444444444,
              "#bd3786"
             ],
             [
              0.5555555555555556,
              "#d8576b"
             ],
             [
              0.6666666666666666,
              "#ed7953"
             ],
             [
              0.7777777777777778,
              "#fb9f3a"
             ],
             [
              0.8888888888888888,
              "#fdca26"
             ],
             [
              1,
              "#f0f921"
             ]
            ],
            "type": "surface"
           }
          ],
          "table": [
           {
            "cells": {
             "fill": {
              "color": "#EBF0F8"
             },
             "line": {
              "color": "white"
             }
            },
            "header": {
             "fill": {
              "color": "#C8D4E3"
             },
             "line": {
              "color": "white"
             }
            },
            "type": "table"
           }
          ]
         },
         "layout": {
          "annotationdefaults": {
           "arrowcolor": "#2a3f5f",
           "arrowhead": 0,
           "arrowwidth": 1
          },
          "autotypenumbers": "strict",
          "coloraxis": {
           "colorbar": {
            "outlinewidth": 0,
            "ticks": ""
           }
          },
          "colorscale": {
           "diverging": [
            [
             0,
             "#8e0152"
            ],
            [
             0.1,
             "#c51b7d"
            ],
            [
             0.2,
             "#de77ae"
            ],
            [
             0.3,
             "#f1b6da"
            ],
            [
             0.4,
             "#fde0ef"
            ],
            [
             0.5,
             "#f7f7f7"
            ],
            [
             0.6,
             "#e6f5d0"
            ],
            [
             0.7,
             "#b8e186"
            ],
            [
             0.8,
             "#7fbc41"
            ],
            [
             0.9,
             "#4d9221"
            ],
            [
             1,
             "#276419"
            ]
           ],
           "sequential": [
            [
             0,
             "#0d0887"
            ],
            [
             0.1111111111111111,
             "#46039f"
            ],
            [
             0.2222222222222222,
             "#7201a8"
            ],
            [
             0.3333333333333333,
             "#9c179e"
            ],
            [
             0.4444444444444444,
             "#bd3786"
            ],
            [
             0.5555555555555556,
             "#d8576b"
            ],
            [
             0.6666666666666666,
             "#ed7953"
            ],
            [
             0.7777777777777778,
             "#fb9f3a"
            ],
            [
             0.8888888888888888,
             "#fdca26"
            ],
            [
             1,
             "#f0f921"
            ]
           ],
           "sequentialminus": [
            [
             0,
             "#0d0887"
            ],
            [
             0.1111111111111111,
             "#46039f"
            ],
            [
             0.2222222222222222,
             "#7201a8"
            ],
            [
             0.3333333333333333,
             "#9c179e"
            ],
            [
             0.4444444444444444,
             "#bd3786"
            ],
            [
             0.5555555555555556,
             "#d8576b"
            ],
            [
             0.6666666666666666,
             "#ed7953"
            ],
            [
             0.7777777777777778,
             "#fb9f3a"
            ],
            [
             0.8888888888888888,
             "#fdca26"
            ],
            [
             1,
             "#f0f921"
            ]
           ]
          },
          "colorway": [
           "#636efa",
           "#EF553B",
           "#00cc96",
           "#ab63fa",
           "#FFA15A",
           "#19d3f3",
           "#FF6692",
           "#B6E880",
           "#FF97FF",
           "#FECB52"
          ],
          "font": {
           "color": "#2a3f5f"
          },
          "geo": {
           "bgcolor": "white",
           "lakecolor": "white",
           "landcolor": "#E5ECF6",
           "showlakes": true,
           "showland": true,
           "subunitcolor": "white"
          },
          "hoverlabel": {
           "align": "left"
          },
          "hovermode": "closest",
          "mapbox": {
           "style": "light"
          },
          "paper_bgcolor": "white",
          "plot_bgcolor": "#E5ECF6",
          "polar": {
           "angularaxis": {
            "gridcolor": "white",
            "linecolor": "white",
            "ticks": ""
           },
           "bgcolor": "#E5ECF6",
           "radialaxis": {
            "gridcolor": "white",
            "linecolor": "white",
            "ticks": ""
           }
          },
          "scene": {
           "xaxis": {
            "backgroundcolor": "#E5ECF6",
            "gridcolor": "white",
            "gridwidth": 2,
            "linecolor": "white",
            "showbackground": true,
            "ticks": "",
            "zerolinecolor": "white"
           },
           "yaxis": {
            "backgroundcolor": "#E5ECF6",
            "gridcolor": "white",
            "gridwidth": 2,
            "linecolor": "white",
            "showbackground": true,
            "ticks": "",
            "zerolinecolor": "white"
           },
           "zaxis": {
            "backgroundcolor": "#E5ECF6",
            "gridcolor": "white",
            "gridwidth": 2,
            "linecolor": "white",
            "showbackground": true,
            "ticks": "",
            "zerolinecolor": "white"
           }
          },
          "shapedefaults": {
           "line": {
            "color": "#2a3f5f"
           }
          },
          "ternary": {
           "aaxis": {
            "gridcolor": "white",
            "linecolor": "white",
            "ticks": ""
           },
           "baxis": {
            "gridcolor": "white",
            "linecolor": "white",
            "ticks": ""
           },
           "bgcolor": "#E5ECF6",
           "caxis": {
            "gridcolor": "white",
            "linecolor": "white",
            "ticks": ""
           }
          },
          "title": {
           "x": 0.05
          },
          "xaxis": {
           "automargin": true,
           "gridcolor": "white",
           "linecolor": "white",
           "ticks": "",
           "title": {
            "standoff": 15
           },
           "zerolinecolor": "white",
           "zerolinewidth": 2
          },
          "yaxis": {
           "automargin": true,
           "gridcolor": "white",
           "linecolor": "white",
           "ticks": "",
           "title": {
            "standoff": 15
           },
           "zerolinecolor": "white",
           "zerolinewidth": 2
          }
         }
        },
        "title": {
         "text": "Word Embedding 3D: Astrattezza, Emotività, Temporalità (con Passato)"
        }
       }
      },
      "text/html": [
       "<div>                            <div id=\"17ad17f7-e6ce-431e-babe-f60bf52d5a58\" class=\"plotly-graph-div\" style=\"height:525px; width:100%;\"></div>            <script type=\"text/javascript\">                require([\"plotly\"], function(Plotly) {                    window.PLOTLYENV=window.PLOTLYENV || {};                                    if (document.getElementById(\"17ad17f7-e6ce-431e-babe-f60bf52d5a58\")) {                    Plotly.newPlot(                        \"17ad17f7-e6ce-431e-babe-f60bf52d5a58\",                        [{\"line\":{\"color\":\"black\",\"width\":4},\"mode\":\"lines\",\"showlegend\":false,\"x\":[0,1.2],\"y\":[0,0],\"z\":[0,0],\"type\":\"scatter3d\"},{\"line\":{\"color\":\"black\",\"width\":4},\"mode\":\"lines\",\"showlegend\":false,\"x\":[0,0],\"y\":[0,1.2],\"z\":[0,0],\"type\":\"scatter3d\"},{\"line\":{\"color\":\"black\",\"width\":4},\"mode\":\"lines\",\"showlegend\":false,\"x\":[0,0],\"y\":[0,0],\"z\":[-1.2,1.2],\"type\":\"scatter3d\"},{\"marker\":{\"color\":\"lightcoral\",\"line\":{\"color\":\"darkred\",\"width\":1},\"size\":6},\"mode\":\"markers+text\",\"text\":[\"amore\",\"macchina\",\"libertà\",\"scuola\",\"sogno\",\"pane\",\"nostalgia\"],\"textposition\":\"top center\",\"x\":[1,0,1,0.5,1,0,1],\"y\":[1,0,1,0.3,0.8,0,0.9],\"z\":[0.5,0,1,0.6,1,0,-1],\"type\":\"scatter3d\"}],                        {\"template\":{\"data\":{\"histogram2dcontour\":[{\"type\":\"histogram2dcontour\",\"colorbar\":{\"outlinewidth\":0,\"ticks\":\"\"},\"colorscale\":[[0.0,\"#0d0887\"],[0.1111111111111111,\"#46039f\"],[0.2222222222222222,\"#7201a8\"],[0.3333333333333333,\"#9c179e\"],[0.4444444444444444,\"#bd3786\"],[0.5555555555555556,\"#d8576b\"],[0.6666666666666666,\"#ed7953\"],[0.7777777777777778,\"#fb9f3a\"],[0.8888888888888888,\"#fdca26\"],[1.0,\"#f0f921\"]]}],\"choropleth\":[{\"type\":\"choropleth\",\"colorbar\":{\"outlinewidth\":0,\"ticks\":\"\"}}],\"histogram2d\":[{\"type\":\"histogram2d\",\"colorbar\":{\"outlinewidth\":0,\"ticks\":\"\"},\"colorscale\":[[0.0,\"#0d0887\"],[0.1111111111111111,\"#46039f\"],[0.2222222222222222,\"#7201a8\"],[0.3333333333333333,\"#9c179e\"],[0.4444444444444444,\"#bd3786\"],[0.5555555555555556,\"#d8576b\"],[0.6666666666666666,\"#ed7953\"],[0.7777777777777778,\"#fb9f3a\"],[0.8888888888888888,\"#fdca26\"],[1.0,\"#f0f921\"]]}],\"heatmap\":[{\"type\":\"heatmap\",\"colorbar\":{\"outlinewidth\":0,\"ticks\":\"\"},\"colorscale\":[[0.0,\"#0d0887\"],[0.1111111111111111,\"#46039f\"],[0.2222222222222222,\"#7201a8\"],[0.3333333333333333,\"#9c179e\"],[0.4444444444444444,\"#bd3786\"],[0.5555555555555556,\"#d8576b\"],[0.6666666666666666,\"#ed7953\"],[0.7777777777777778,\"#fb9f3a\"],[0.8888888888888888,\"#fdca26\"],[1.0,\"#f0f921\"]]}],\"heatmapgl\":[{\"type\":\"heatmapgl\",\"colorbar\":{\"outlinewidth\":0,\"ticks\":\"\"},\"colorscale\":[[0.0,\"#0d0887\"],[0.1111111111111111,\"#46039f\"],[0.2222222222222222,\"#7201a8\"],[0.3333333333333333,\"#9c179e\"],[0.4444444444444444,\"#bd3786\"],[0.5555555555555556,\"#d8576b\"],[0.6666666666666666,\"#ed7953\"],[0.7777777777777778,\"#fb9f3a\"],[0.8888888888888888,\"#fdca26\"],[1.0,\"#f0f921\"]]}],\"contourcarpet\":[{\"type\":\"contourcarpet\",\"colorbar\":{\"outlinewidth\":0,\"ticks\":\"\"}}],\"contour\":[{\"type\":\"contour\",\"colorbar\":{\"outlinewidth\":0,\"ticks\":\"\"},\"colorscale\":[[0.0,\"#0d0887\"],[0.1111111111111111,\"#46039f\"],[0.2222222222222222,\"#7201a8\"],[0.3333333333333333,\"#9c179e\"],[0.4444444444444444,\"#bd3786\"],[0.5555555555555556,\"#d8576b\"],[0.6666666666666666,\"#ed7953\"],[0.7777777777777778,\"#fb9f3a\"],[0.8888888888888888,\"#fdca26\"],[1.0,\"#f0f921\"]]}],\"surface\":[{\"type\":\"surface\",\"colorbar\":{\"outlinewidth\":0,\"ticks\":\"\"},\"colorscale\":[[0.0,\"#0d0887\"],[0.1111111111111111,\"#46039f\"],[0.2222222222222222,\"#7201a8\"],[0.3333333333333333,\"#9c179e\"],[0.4444444444444444,\"#bd3786\"],[0.5555555555555556,\"#d8576b\"],[0.6666666666666666,\"#ed7953\"],[0.7777777777777778,\"#fb9f3a\"],[0.8888888888888888,\"#fdca26\"],[1.0,\"#f0f921\"]]}],\"mesh3d\":[{\"type\":\"mesh3d\",\"colorbar\":{\"outlinewidth\":0,\"ticks\":\"\"}}],\"scatter\":[{\"fillpattern\":{\"fillmode\":\"overlay\",\"size\":10,\"solidity\":0.2},\"type\":\"scatter\"}],\"parcoords\":[{\"type\":\"parcoords\",\"line\":{\"colorbar\":{\"outlinewidth\":0,\"ticks\":\"\"}}}],\"scatterpolargl\":[{\"type\":\"scatterpolargl\",\"marker\":{\"colorbar\":{\"outlinewidth\":0,\"ticks\":\"\"}}}],\"bar\":[{\"error_x\":{\"color\":\"#2a3f5f\"},\"error_y\":{\"color\":\"#2a3f5f\"},\"marker\":{\"line\":{\"color\":\"#E5ECF6\",\"width\":0.5},\"pattern\":{\"fillmode\":\"overlay\",\"size\":10,\"solidity\":0.2}},\"type\":\"bar\"}],\"scattergeo\":[{\"type\":\"scattergeo\",\"marker\":{\"colorbar\":{\"outlinewidth\":0,\"ticks\":\"\"}}}],\"scatterpolar\":[{\"type\":\"scatterpolar\",\"marker\":{\"colorbar\":{\"outlinewidth\":0,\"ticks\":\"\"}}}],\"histogram\":[{\"marker\":{\"pattern\":{\"fillmode\":\"overlay\",\"size\":10,\"solidity\":0.2}},\"type\":\"histogram\"}],\"scattergl\":[{\"type\":\"scattergl\",\"marker\":{\"colorbar\":{\"outlinewidth\":0,\"ticks\":\"\"}}}],\"scatter3d\":[{\"type\":\"scatter3d\",\"line\":{\"colorbar\":{\"outlinewidth\":0,\"ticks\":\"\"}},\"marker\":{\"colorbar\":{\"outlinewidth\":0,\"ticks\":\"\"}}}],\"scattermapbox\":[{\"type\":\"scattermapbox\",\"marker\":{\"colorbar\":{\"outlinewidth\":0,\"ticks\":\"\"}}}],\"scatterternary\":[{\"type\":\"scatterternary\",\"marker\":{\"colorbar\":{\"outlinewidth\":0,\"ticks\":\"\"}}}],\"scattercarpet\":[{\"type\":\"scattercarpet\",\"marker\":{\"colorbar\":{\"outlinewidth\":0,\"ticks\":\"\"}}}],\"carpet\":[{\"aaxis\":{\"endlinecolor\":\"#2a3f5f\",\"gridcolor\":\"white\",\"linecolor\":\"white\",\"minorgridcolor\":\"white\",\"startlinecolor\":\"#2a3f5f\"},\"baxis\":{\"endlinecolor\":\"#2a3f5f\",\"gridcolor\":\"white\",\"linecolor\":\"white\",\"minorgridcolor\":\"white\",\"startlinecolor\":\"#2a3f5f\"},\"type\":\"carpet\"}],\"table\":[{\"cells\":{\"fill\":{\"color\":\"#EBF0F8\"},\"line\":{\"color\":\"white\"}},\"header\":{\"fill\":{\"color\":\"#C8D4E3\"},\"line\":{\"color\":\"white\"}},\"type\":\"table\"}],\"barpolar\":[{\"marker\":{\"line\":{\"color\":\"#E5ECF6\",\"width\":0.5},\"pattern\":{\"fillmode\":\"overlay\",\"size\":10,\"solidity\":0.2}},\"type\":\"barpolar\"}],\"pie\":[{\"automargin\":true,\"type\":\"pie\"}]},\"layout\":{\"autotypenumbers\":\"strict\",\"colorway\":[\"#636efa\",\"#EF553B\",\"#00cc96\",\"#ab63fa\",\"#FFA15A\",\"#19d3f3\",\"#FF6692\",\"#B6E880\",\"#FF97FF\",\"#FECB52\"],\"font\":{\"color\":\"#2a3f5f\"},\"hovermode\":\"closest\",\"hoverlabel\":{\"align\":\"left\"},\"paper_bgcolor\":\"white\",\"plot_bgcolor\":\"#E5ECF6\",\"polar\":{\"bgcolor\":\"#E5ECF6\",\"angularaxis\":{\"gridcolor\":\"white\",\"linecolor\":\"white\",\"ticks\":\"\"},\"radialaxis\":{\"gridcolor\":\"white\",\"linecolor\":\"white\",\"ticks\":\"\"}},\"ternary\":{\"bgcolor\":\"#E5ECF6\",\"aaxis\":{\"gridcolor\":\"white\",\"linecolor\":\"white\",\"ticks\":\"\"},\"baxis\":{\"gridcolor\":\"white\",\"linecolor\":\"white\",\"ticks\":\"\"},\"caxis\":{\"gridcolor\":\"white\",\"linecolor\":\"white\",\"ticks\":\"\"}},\"coloraxis\":{\"colorbar\":{\"outlinewidth\":0,\"ticks\":\"\"}},\"colorscale\":{\"sequential\":[[0.0,\"#0d0887\"],[0.1111111111111111,\"#46039f\"],[0.2222222222222222,\"#7201a8\"],[0.3333333333333333,\"#9c179e\"],[0.4444444444444444,\"#bd3786\"],[0.5555555555555556,\"#d8576b\"],[0.6666666666666666,\"#ed7953\"],[0.7777777777777778,\"#fb9f3a\"],[0.8888888888888888,\"#fdca26\"],[1.0,\"#f0f921\"]],\"sequentialminus\":[[0.0,\"#0d0887\"],[0.1111111111111111,\"#46039f\"],[0.2222222222222222,\"#7201a8\"],[0.3333333333333333,\"#9c179e\"],[0.4444444444444444,\"#bd3786\"],[0.5555555555555556,\"#d8576b\"],[0.6666666666666666,\"#ed7953\"],[0.7777777777777778,\"#fb9f3a\"],[0.8888888888888888,\"#fdca26\"],[1.0,\"#f0f921\"]],\"diverging\":[[0,\"#8e0152\"],[0.1,\"#c51b7d\"],[0.2,\"#de77ae\"],[0.3,\"#f1b6da\"],[0.4,\"#fde0ef\"],[0.5,\"#f7f7f7\"],[0.6,\"#e6f5d0\"],[0.7,\"#b8e186\"],[0.8,\"#7fbc41\"],[0.9,\"#4d9221\"],[1,\"#276419\"]]},\"xaxis\":{\"gridcolor\":\"white\",\"linecolor\":\"white\",\"ticks\":\"\",\"title\":{\"standoff\":15},\"zerolinecolor\":\"white\",\"automargin\":true,\"zerolinewidth\":2},\"yaxis\":{\"gridcolor\":\"white\",\"linecolor\":\"white\",\"ticks\":\"\",\"title\":{\"standoff\":15},\"zerolinecolor\":\"white\",\"automargin\":true,\"zerolinewidth\":2},\"scene\":{\"xaxis\":{\"backgroundcolor\":\"#E5ECF6\",\"gridcolor\":\"white\",\"linecolor\":\"white\",\"showbackground\":true,\"ticks\":\"\",\"zerolinecolor\":\"white\",\"gridwidth\":2},\"yaxis\":{\"backgroundcolor\":\"#E5ECF6\",\"gridcolor\":\"white\",\"linecolor\":\"white\",\"showbackground\":true,\"ticks\":\"\",\"zerolinecolor\":\"white\",\"gridwidth\":2},\"zaxis\":{\"backgroundcolor\":\"#E5ECF6\",\"gridcolor\":\"white\",\"linecolor\":\"white\",\"showbackground\":true,\"ticks\":\"\",\"zerolinecolor\":\"white\",\"gridwidth\":2}},\"shapedefaults\":{\"line\":{\"color\":\"#2a3f5f\"}},\"annotationdefaults\":{\"arrowcolor\":\"#2a3f5f\",\"arrowhead\":0,\"arrowwidth\":1},\"geo\":{\"bgcolor\":\"white\",\"landcolor\":\"#E5ECF6\",\"subunitcolor\":\"white\",\"showland\":true,\"showlakes\":true,\"lakecolor\":\"white\"},\"title\":{\"x\":0.05},\"mapbox\":{\"style\":\"light\"}}},\"scene\":{\"xaxis\":{\"title\":{\"text\":\"Astrattezza\"},\"showspikes\":false},\"yaxis\":{\"title\":{\"text\":\"Emotività\"},\"showspikes\":false},\"zaxis\":{\"title\":{\"text\":\"Temporalità\"},\"showspikes\":false}},\"margin\":{\"l\":0,\"r\":0,\"b\":0,\"t\":50},\"title\":{\"text\":\"Word Embedding 3D: Astrattezza, Emotività, Temporalità (con Passato)\"}},                        {\"responsive\": true}                    ).then(function(){\n",
       "                            \n",
       "var gd = document.getElementById('17ad17f7-e6ce-431e-babe-f60bf52d5a58');\n",
       "var x = new MutationObserver(function (mutations, observer) {{\n",
       "        var display = window.getComputedStyle(gd).display;\n",
       "        if (!display || display === 'none') {{\n",
       "            console.log([gd, 'removed!']);\n",
       "            Plotly.purge(gd);\n",
       "            observer.disconnect();\n",
       "        }}\n",
       "}});\n",
       "\n",
       "// Listen for the removal of the full notebook cells\n",
       "var notebookContainer = gd.closest('#notebook-container');\n",
       "if (notebookContainer) {{\n",
       "    x.observe(notebookContainer, {childList: true});\n",
       "}}\n",
       "\n",
       "// Listen for the clearing of the current output cell\n",
       "var outputEl = gd.closest('.output');\n",
       "if (outputEl) {{\n",
       "    x.observe(outputEl, {childList: true});\n",
       "}}\n",
       "\n",
       "                        })                };                });            </script>        </div>"
      ]
     },
     "metadata": {},
     "output_type": "display_data"
    }
   ],
   "source": [
    "import plotly.graph_objects as go\n",
    "\n",
    "# Nuove parole e coordinate: (Astrattezza, Emotività, Temporalità)\n",
    "parole = {\n",
    "    \"amore\"     : (1, 1, 0.5),\n",
    "    \"macchina\"  : (0, 0, 0),\n",
    "    \"libertà\"   : (1, 1, 1),\n",
    "    \"scuola\"    : (0.5, 0.3, 0.6),\n",
    "    \"sogno\"     : (1, 0.8, 1),\n",
    "    \"pane\"      : (0, 0, 0),\n",
    "    \"nostalgia\" : (1, 0.9, -1),  # Valore temporale negativo per il passato\n",
    "}\n",
    "\n",
    "x = [v[0] for v in parole.values()]\n",
    "y = [v[1] for v in parole.values()]\n",
    "z = [v[2] for v in parole.values()]\n",
    "labels = list(parole.keys())\n",
    "\n",
    "# Assi evidenziati in nero\n",
    "assi = [\n",
    "    go.Scatter3d(x=[0, 1.2], y=[0, 0], z=[0, 0], mode='lines', line=dict(color='black', width=4), showlegend=False),\n",
    "    go.Scatter3d(x=[0, 0], y=[0, 1.2], z=[0, 0], mode='lines', line=dict(color='black', width=4), showlegend=False),\n",
    "    go.Scatter3d(x=[0, 0], y=[0, 0], z=[-1.2, 1.2], mode='lines', line=dict(color='black', width=4), showlegend=False)\n",
    "]\n",
    "\n",
    "# Punti e parole\n",
    "punti = go.Scatter3d(\n",
    "    x=x, y=y, z=z,\n",
    "    mode='markers+text',\n",
    "    text=labels,\n",
    "    textposition='top center',\n",
    "    marker=dict(size=6, color='lightcoral', line=dict(width=1, color='darkred'))\n",
    ")\n",
    "\n",
    "fig = go.Figure(data=assi + [punti])\n",
    "fig.update_layout(\n",
    "    title='Word Embedding 3D: Astrattezza, Emotività, Temporalità (con Passato)',\n",
    "    scene=dict(\n",
    "        xaxis_title='Astrattezza',\n",
    "        yaxis_title='Emotività',\n",
    "        zaxis_title='Temporalità',\n",
    "        xaxis=dict(showspikes=False),\n",
    "        yaxis=dict(showspikes=False),\n",
    "        zaxis=dict(showspikes=False)\n",
    "    ),\n",
    "    margin=dict(l=0, r=0, b=0, t=50)\n",
    ")\n",
    "\n",
    "fig.show()\n"
   ]
  },
  {
   "cell_type": "markdown",
   "id": "62d44094",
   "metadata": {},
   "source": [
    "**Esempio di Operazioni Vettoriali sullo spazio delle Parole**"
   ]
  },
  {
   "cell_type": "code",
   "execution_count": 6,
   "id": "6cb8f58b",
   "metadata": {},
   "outputs": [
    {
     "data": {
      "application/vnd.plotly.v1+json": {
       "config": {
        "plotlyServerURL": "https://plot.ly"
       },
       "data": [
        {
         "line": {
          "color": "black",
          "width": 4
         },
         "mode": "lines",
         "showlegend": false,
         "type": "scatter3d",
         "x": [
          0,
          1.1
         ],
         "y": [
          0,
          0
         ],
         "z": [
          0,
          0
         ]
        },
        {
         "line": {
          "color": "black",
          "width": 4
         },
         "mode": "lines",
         "showlegend": false,
         "type": "scatter3d",
         "x": [
          0,
          0
         ],
         "y": [
          0,
          1.1
         ],
         "z": [
          0,
          0
         ]
        },
        {
         "line": {
          "color": "black",
          "width": 4
         },
         "mode": "lines",
         "showlegend": false,
         "type": "scatter3d",
         "x": [
          0,
          0
         ],
         "y": [
          0,
          0
         ],
         "z": [
          0,
          1.1
         ]
        },
        {
         "marker": {
          "color": "lightblue",
          "line": {
           "color": "darkblue",
           "width": 1
          },
          "size": 6
         },
         "mode": "markers+text",
         "text": [
          "Italia",
          "Roma",
          "Francia",
          "Parigi",
          "USA",
          "Washington",
          "Russia",
          "Mosca",
          "Cina",
          "Pechino",
          "Giappone",
          "Tokyo",
          "Brasile",
          "Brasilia",
          "India",
          "Nuova Delhi"
         ],
         "textposition": "top center",
         "type": "scatter3d",
         "x": [
          0.6,
          0.413,
          0.5,
          0.366,
          0.2,
          0,
          0.9,
          0.529,
          1,
          0.893,
          1,
          1,
          0.3,
          0.134,
          0.95,
          0.711
         ],
         "y": [
          0.8,
          0.8,
          1,
          1,
          1,
          1,
          0.9,
          0.9,
          1,
          1,
          0.9,
          0.9,
          0.7,
          0.7,
          0.8,
          0.8
         ],
         "z": [
          0.9,
          0.88,
          1,
          0.98,
          1,
          0.98,
          0.6,
          0.58,
          0.4,
          0.38,
          0.7,
          0.68,
          0.8,
          0.78,
          0.5,
          0.48
         ]
        }
       ],
       "layout": {
        "margin": {
         "b": 0,
         "l": 0,
         "r": 0,
         "t": 50
        },
        "scene": {
         "xaxis": {
          "showspikes": false,
          "title": {
           "text": "Localizzazione Geografica (Ovest → Est)"
          }
         },
         "yaxis": {
          "showspikes": false,
          "title": {
           "text": "Influenza Politica/Economica"
          }
         },
         "zaxis": {
          "showspikes": false,
          "title": {
           "text": "Stile Culturale (Tradizionale → Occidentale)"
          }
         }
        },
        "template": {
         "data": {
          "bar": [
           {
            "error_x": {
             "color": "#2a3f5f"
            },
            "error_y": {
             "color": "#2a3f5f"
            },
            "marker": {
             "line": {
              "color": "#E5ECF6",
              "width": 0.5
             },
             "pattern": {
              "fillmode": "overlay",
              "size": 10,
              "solidity": 0.2
             }
            },
            "type": "bar"
           }
          ],
          "barpolar": [
           {
            "marker": {
             "line": {
              "color": "#E5ECF6",
              "width": 0.5
             },
             "pattern": {
              "fillmode": "overlay",
              "size": 10,
              "solidity": 0.2
             }
            },
            "type": "barpolar"
           }
          ],
          "carpet": [
           {
            "aaxis": {
             "endlinecolor": "#2a3f5f",
             "gridcolor": "white",
             "linecolor": "white",
             "minorgridcolor": "white",
             "startlinecolor": "#2a3f5f"
            },
            "baxis": {
             "endlinecolor": "#2a3f5f",
             "gridcolor": "white",
             "linecolor": "white",
             "minorgridcolor": "white",
             "startlinecolor": "#2a3f5f"
            },
            "type": "carpet"
           }
          ],
          "choropleth": [
           {
            "colorbar": {
             "outlinewidth": 0,
             "ticks": ""
            },
            "type": "choropleth"
           }
          ],
          "contour": [
           {
            "colorbar": {
             "outlinewidth": 0,
             "ticks": ""
            },
            "colorscale": [
             [
              0,
              "#0d0887"
             ],
             [
              0.1111111111111111,
              "#46039f"
             ],
             [
              0.2222222222222222,
              "#7201a8"
             ],
             [
              0.3333333333333333,
              "#9c179e"
             ],
             [
              0.4444444444444444,
              "#bd3786"
             ],
             [
              0.5555555555555556,
              "#d8576b"
             ],
             [
              0.6666666666666666,
              "#ed7953"
             ],
             [
              0.7777777777777778,
              "#fb9f3a"
             ],
             [
              0.8888888888888888,
              "#fdca26"
             ],
             [
              1,
              "#f0f921"
             ]
            ],
            "type": "contour"
           }
          ],
          "contourcarpet": [
           {
            "colorbar": {
             "outlinewidth": 0,
             "ticks": ""
            },
            "type": "contourcarpet"
           }
          ],
          "heatmap": [
           {
            "colorbar": {
             "outlinewidth": 0,
             "ticks": ""
            },
            "colorscale": [
             [
              0,
              "#0d0887"
             ],
             [
              0.1111111111111111,
              "#46039f"
             ],
             [
              0.2222222222222222,
              "#7201a8"
             ],
             [
              0.3333333333333333,
              "#9c179e"
             ],
             [
              0.4444444444444444,
              "#bd3786"
             ],
             [
              0.5555555555555556,
              "#d8576b"
             ],
             [
              0.6666666666666666,
              "#ed7953"
             ],
             [
              0.7777777777777778,
              "#fb9f3a"
             ],
             [
              0.8888888888888888,
              "#fdca26"
             ],
             [
              1,
              "#f0f921"
             ]
            ],
            "type": "heatmap"
           }
          ],
          "heatmapgl": [
           {
            "colorbar": {
             "outlinewidth": 0,
             "ticks": ""
            },
            "colorscale": [
             [
              0,
              "#0d0887"
             ],
             [
              0.1111111111111111,
              "#46039f"
             ],
             [
              0.2222222222222222,
              "#7201a8"
             ],
             [
              0.3333333333333333,
              "#9c179e"
             ],
             [
              0.4444444444444444,
              "#bd3786"
             ],
             [
              0.5555555555555556,
              "#d8576b"
             ],
             [
              0.6666666666666666,
              "#ed7953"
             ],
             [
              0.7777777777777778,
              "#fb9f3a"
             ],
             [
              0.8888888888888888,
              "#fdca26"
             ],
             [
              1,
              "#f0f921"
             ]
            ],
            "type": "heatmapgl"
           }
          ],
          "histogram": [
           {
            "marker": {
             "pattern": {
              "fillmode": "overlay",
              "size": 10,
              "solidity": 0.2
             }
            },
            "type": "histogram"
           }
          ],
          "histogram2d": [
           {
            "colorbar": {
             "outlinewidth": 0,
             "ticks": ""
            },
            "colorscale": [
             [
              0,
              "#0d0887"
             ],
             [
              0.1111111111111111,
              "#46039f"
             ],
             [
              0.2222222222222222,
              "#7201a8"
             ],
             [
              0.3333333333333333,
              "#9c179e"
             ],
             [
              0.4444444444444444,
              "#bd3786"
             ],
             [
              0.5555555555555556,
              "#d8576b"
             ],
             [
              0.6666666666666666,
              "#ed7953"
             ],
             [
              0.7777777777777778,
              "#fb9f3a"
             ],
             [
              0.8888888888888888,
              "#fdca26"
             ],
             [
              1,
              "#f0f921"
             ]
            ],
            "type": "histogram2d"
           }
          ],
          "histogram2dcontour": [
           {
            "colorbar": {
             "outlinewidth": 0,
             "ticks": ""
            },
            "colorscale": [
             [
              0,
              "#0d0887"
             ],
             [
              0.1111111111111111,
              "#46039f"
             ],
             [
              0.2222222222222222,
              "#7201a8"
             ],
             [
              0.3333333333333333,
              "#9c179e"
             ],
             [
              0.4444444444444444,
              "#bd3786"
             ],
             [
              0.5555555555555556,
              "#d8576b"
             ],
             [
              0.6666666666666666,
              "#ed7953"
             ],
             [
              0.7777777777777778,
              "#fb9f3a"
             ],
             [
              0.8888888888888888,
              "#fdca26"
             ],
             [
              1,
              "#f0f921"
             ]
            ],
            "type": "histogram2dcontour"
           }
          ],
          "mesh3d": [
           {
            "colorbar": {
             "outlinewidth": 0,
             "ticks": ""
            },
            "type": "mesh3d"
           }
          ],
          "parcoords": [
           {
            "line": {
             "colorbar": {
              "outlinewidth": 0,
              "ticks": ""
             }
            },
            "type": "parcoords"
           }
          ],
          "pie": [
           {
            "automargin": true,
            "type": "pie"
           }
          ],
          "scatter": [
           {
            "fillpattern": {
             "fillmode": "overlay",
             "size": 10,
             "solidity": 0.2
            },
            "type": "scatter"
           }
          ],
          "scatter3d": [
           {
            "line": {
             "colorbar": {
              "outlinewidth": 0,
              "ticks": ""
             }
            },
            "marker": {
             "colorbar": {
              "outlinewidth": 0,
              "ticks": ""
             }
            },
            "type": "scatter3d"
           }
          ],
          "scattercarpet": [
           {
            "marker": {
             "colorbar": {
              "outlinewidth": 0,
              "ticks": ""
             }
            },
            "type": "scattercarpet"
           }
          ],
          "scattergeo": [
           {
            "marker": {
             "colorbar": {
              "outlinewidth": 0,
              "ticks": ""
             }
            },
            "type": "scattergeo"
           }
          ],
          "scattergl": [
           {
            "marker": {
             "colorbar": {
              "outlinewidth": 0,
              "ticks": ""
             }
            },
            "type": "scattergl"
           }
          ],
          "scattermapbox": [
           {
            "marker": {
             "colorbar": {
              "outlinewidth": 0,
              "ticks": ""
             }
            },
            "type": "scattermapbox"
           }
          ],
          "scatterpolar": [
           {
            "marker": {
             "colorbar": {
              "outlinewidth": 0,
              "ticks": ""
             }
            },
            "type": "scatterpolar"
           }
          ],
          "scatterpolargl": [
           {
            "marker": {
             "colorbar": {
              "outlinewidth": 0,
              "ticks": ""
             }
            },
            "type": "scatterpolargl"
           }
          ],
          "scatterternary": [
           {
            "marker": {
             "colorbar": {
              "outlinewidth": 0,
              "ticks": ""
             }
            },
            "type": "scatterternary"
           }
          ],
          "surface": [
           {
            "colorbar": {
             "outlinewidth": 0,
             "ticks": ""
            },
            "colorscale": [
             [
              0,
              "#0d0887"
             ],
             [
              0.1111111111111111,
              "#46039f"
             ],
             [
              0.2222222222222222,
              "#7201a8"
             ],
             [
              0.3333333333333333,
              "#9c179e"
             ],
             [
              0.4444444444444444,
              "#bd3786"
             ],
             [
              0.5555555555555556,
              "#d8576b"
             ],
             [
              0.6666666666666666,
              "#ed7953"
             ],
             [
              0.7777777777777778,
              "#fb9f3a"
             ],
             [
              0.8888888888888888,
              "#fdca26"
             ],
             [
              1,
              "#f0f921"
             ]
            ],
            "type": "surface"
           }
          ],
          "table": [
           {
            "cells": {
             "fill": {
              "color": "#EBF0F8"
             },
             "line": {
              "color": "white"
             }
            },
            "header": {
             "fill": {
              "color": "#C8D4E3"
             },
             "line": {
              "color": "white"
             }
            },
            "type": "table"
           }
          ]
         },
         "layout": {
          "annotationdefaults": {
           "arrowcolor": "#2a3f5f",
           "arrowhead": 0,
           "arrowwidth": 1
          },
          "autotypenumbers": "strict",
          "coloraxis": {
           "colorbar": {
            "outlinewidth": 0,
            "ticks": ""
           }
          },
          "colorscale": {
           "diverging": [
            [
             0,
             "#8e0152"
            ],
            [
             0.1,
             "#c51b7d"
            ],
            [
             0.2,
             "#de77ae"
            ],
            [
             0.3,
             "#f1b6da"
            ],
            [
             0.4,
             "#fde0ef"
            ],
            [
             0.5,
             "#f7f7f7"
            ],
            [
             0.6,
             "#e6f5d0"
            ],
            [
             0.7,
             "#b8e186"
            ],
            [
             0.8,
             "#7fbc41"
            ],
            [
             0.9,
             "#4d9221"
            ],
            [
             1,
             "#276419"
            ]
           ],
           "sequential": [
            [
             0,
             "#0d0887"
            ],
            [
             0.1111111111111111,
             "#46039f"
            ],
            [
             0.2222222222222222,
             "#7201a8"
            ],
            [
             0.3333333333333333,
             "#9c179e"
            ],
            [
             0.4444444444444444,
             "#bd3786"
            ],
            [
             0.5555555555555556,
             "#d8576b"
            ],
            [
             0.6666666666666666,
             "#ed7953"
            ],
            [
             0.7777777777777778,
             "#fb9f3a"
            ],
            [
             0.8888888888888888,
             "#fdca26"
            ],
            [
             1,
             "#f0f921"
            ]
           ],
           "sequentialminus": [
            [
             0,
             "#0d0887"
            ],
            [
             0.1111111111111111,
             "#46039f"
            ],
            [
             0.2222222222222222,
             "#7201a8"
            ],
            [
             0.3333333333333333,
             "#9c179e"
            ],
            [
             0.4444444444444444,
             "#bd3786"
            ],
            [
             0.5555555555555556,
             "#d8576b"
            ],
            [
             0.6666666666666666,
             "#ed7953"
            ],
            [
             0.7777777777777778,
             "#fb9f3a"
            ],
            [
             0.8888888888888888,
             "#fdca26"
            ],
            [
             1,
             "#f0f921"
            ]
           ]
          },
          "colorway": [
           "#636efa",
           "#EF553B",
           "#00cc96",
           "#ab63fa",
           "#FFA15A",
           "#19d3f3",
           "#FF6692",
           "#B6E880",
           "#FF97FF",
           "#FECB52"
          ],
          "font": {
           "color": "#2a3f5f"
          },
          "geo": {
           "bgcolor": "white",
           "lakecolor": "white",
           "landcolor": "#E5ECF6",
           "showlakes": true,
           "showland": true,
           "subunitcolor": "white"
          },
          "hoverlabel": {
           "align": "left"
          },
          "hovermode": "closest",
          "mapbox": {
           "style": "light"
          },
          "paper_bgcolor": "white",
          "plot_bgcolor": "#E5ECF6",
          "polar": {
           "angularaxis": {
            "gridcolor": "white",
            "linecolor": "white",
            "ticks": ""
           },
           "bgcolor": "#E5ECF6",
           "radialaxis": {
            "gridcolor": "white",
            "linecolor": "white",
            "ticks": ""
           }
          },
          "scene": {
           "xaxis": {
            "backgroundcolor": "#E5ECF6",
            "gridcolor": "white",
            "gridwidth": 2,
            "linecolor": "white",
            "showbackground": true,
            "ticks": "",
            "zerolinecolor": "white"
           },
           "yaxis": {
            "backgroundcolor": "#E5ECF6",
            "gridcolor": "white",
            "gridwidth": 2,
            "linecolor": "white",
            "showbackground": true,
            "ticks": "",
            "zerolinecolor": "white"
           },
           "zaxis": {
            "backgroundcolor": "#E5ECF6",
            "gridcolor": "white",
            "gridwidth": 2,
            "linecolor": "white",
            "showbackground": true,
            "ticks": "",
            "zerolinecolor": "white"
           }
          },
          "shapedefaults": {
           "line": {
            "color": "#2a3f5f"
           }
          },
          "ternary": {
           "aaxis": {
            "gridcolor": "white",
            "linecolor": "white",
            "ticks": ""
           },
           "baxis": {
            "gridcolor": "white",
            "linecolor": "white",
            "ticks": ""
           },
           "bgcolor": "#E5ECF6",
           "caxis": {
            "gridcolor": "white",
            "linecolor": "white",
            "ticks": ""
           }
          },
          "title": {
           "x": 0.05
          },
          "xaxis": {
           "automargin": true,
           "gridcolor": "white",
           "linecolor": "white",
           "ticks": "",
           "title": {
            "standoff": 15
           },
           "zerolinecolor": "white",
           "zerolinewidth": 2
          },
          "yaxis": {
           "automargin": true,
           "gridcolor": "white",
           "linecolor": "white",
           "ticks": "",
           "title": {
            "standoff": 15
           },
           "zerolinecolor": "white",
           "zerolinewidth": 2
          }
         }
        },
        "title": {
         "text": "Embedding 3D di Nazioni e Capitali"
        }
       }
      },
      "text/html": [
       "<div>                            <div id=\"83b8fb52-f167-475e-b880-b3ed5481f0b2\" class=\"plotly-graph-div\" style=\"height:525px; width:100%;\"></div>            <script type=\"text/javascript\">                require([\"plotly\"], function(Plotly) {                    window.PLOTLYENV=window.PLOTLYENV || {};                                    if (document.getElementById(\"83b8fb52-f167-475e-b880-b3ed5481f0b2\")) {                    Plotly.newPlot(                        \"83b8fb52-f167-475e-b880-b3ed5481f0b2\",                        [{\"line\":{\"color\":\"black\",\"width\":4},\"mode\":\"lines\",\"showlegend\":false,\"x\":[0,1.1],\"y\":[0,0],\"z\":[0,0],\"type\":\"scatter3d\"},{\"line\":{\"color\":\"black\",\"width\":4},\"mode\":\"lines\",\"showlegend\":false,\"x\":[0,0],\"y\":[0,1.1],\"z\":[0,0],\"type\":\"scatter3d\"},{\"line\":{\"color\":\"black\",\"width\":4},\"mode\":\"lines\",\"showlegend\":false,\"x\":[0,0],\"y\":[0,0],\"z\":[0,1.1],\"type\":\"scatter3d\"},{\"marker\":{\"color\":\"lightblue\",\"line\":{\"color\":\"darkblue\",\"width\":1},\"size\":6},\"mode\":\"markers+text\",\"text\":[\"Italia\",\"Roma\",\"Francia\",\"Parigi\",\"USA\",\"Washington\",\"Russia\",\"Mosca\",\"Cina\",\"Pechino\",\"Giappone\",\"Tokyo\",\"Brasile\",\"Brasilia\",\"India\",\"Nuova Delhi\"],\"textposition\":\"top center\",\"x\":[0.6,0.413,0.5,0.366,0.2,0.0,0.9,0.529,1.0,0.893,1.0,1.0,0.3,0.134,0.95,0.711],\"y\":[0.8,0.8,1.0,1.0,1.0,1.0,0.9,0.9,1.0,1.0,0.9,0.9,0.7,0.7,0.8,0.8],\"z\":[0.9,0.88,1.0,0.98,1.0,0.98,0.6,0.58,0.4,0.38,0.7,0.68,0.8,0.78,0.5,0.48],\"type\":\"scatter3d\"}],                        {\"template\":{\"data\":{\"histogram2dcontour\":[{\"type\":\"histogram2dcontour\",\"colorbar\":{\"outlinewidth\":0,\"ticks\":\"\"},\"colorscale\":[[0.0,\"#0d0887\"],[0.1111111111111111,\"#46039f\"],[0.2222222222222222,\"#7201a8\"],[0.3333333333333333,\"#9c179e\"],[0.4444444444444444,\"#bd3786\"],[0.5555555555555556,\"#d8576b\"],[0.6666666666666666,\"#ed7953\"],[0.7777777777777778,\"#fb9f3a\"],[0.8888888888888888,\"#fdca26\"],[1.0,\"#f0f921\"]]}],\"choropleth\":[{\"type\":\"choropleth\",\"colorbar\":{\"outlinewidth\":0,\"ticks\":\"\"}}],\"histogram2d\":[{\"type\":\"histogram2d\",\"colorbar\":{\"outlinewidth\":0,\"ticks\":\"\"},\"colorscale\":[[0.0,\"#0d0887\"],[0.1111111111111111,\"#46039f\"],[0.2222222222222222,\"#7201a8\"],[0.3333333333333333,\"#9c179e\"],[0.4444444444444444,\"#bd3786\"],[0.5555555555555556,\"#d8576b\"],[0.6666666666666666,\"#ed7953\"],[0.7777777777777778,\"#fb9f3a\"],[0.8888888888888888,\"#fdca26\"],[1.0,\"#f0f921\"]]}],\"heatmap\":[{\"type\":\"heatmap\",\"colorbar\":{\"outlinewidth\":0,\"ticks\":\"\"},\"colorscale\":[[0.0,\"#0d0887\"],[0.1111111111111111,\"#46039f\"],[0.2222222222222222,\"#7201a8\"],[0.3333333333333333,\"#9c179e\"],[0.4444444444444444,\"#bd3786\"],[0.5555555555555556,\"#d8576b\"],[0.6666666666666666,\"#ed7953\"],[0.7777777777777778,\"#fb9f3a\"],[0.8888888888888888,\"#fdca26\"],[1.0,\"#f0f921\"]]}],\"heatmapgl\":[{\"type\":\"heatmapgl\",\"colorbar\":{\"outlinewidth\":0,\"ticks\":\"\"},\"colorscale\":[[0.0,\"#0d0887\"],[0.1111111111111111,\"#46039f\"],[0.2222222222222222,\"#7201a8\"],[0.3333333333333333,\"#9c179e\"],[0.4444444444444444,\"#bd3786\"],[0.5555555555555556,\"#d8576b\"],[0.6666666666666666,\"#ed7953\"],[0.7777777777777778,\"#fb9f3a\"],[0.8888888888888888,\"#fdca26\"],[1.0,\"#f0f921\"]]}],\"contourcarpet\":[{\"type\":\"contourcarpet\",\"colorbar\":{\"outlinewidth\":0,\"ticks\":\"\"}}],\"contour\":[{\"type\":\"contour\",\"colorbar\":{\"outlinewidth\":0,\"ticks\":\"\"},\"colorscale\":[[0.0,\"#0d0887\"],[0.1111111111111111,\"#46039f\"],[0.2222222222222222,\"#7201a8\"],[0.3333333333333333,\"#9c179e\"],[0.4444444444444444,\"#bd3786\"],[0.5555555555555556,\"#d8576b\"],[0.6666666666666666,\"#ed7953\"],[0.7777777777777778,\"#fb9f3a\"],[0.8888888888888888,\"#fdca26\"],[1.0,\"#f0f921\"]]}],\"surface\":[{\"type\":\"surface\",\"colorbar\":{\"outlinewidth\":0,\"ticks\":\"\"},\"colorscale\":[[0.0,\"#0d0887\"],[0.1111111111111111,\"#46039f\"],[0.2222222222222222,\"#7201a8\"],[0.3333333333333333,\"#9c179e\"],[0.4444444444444444,\"#bd3786\"],[0.5555555555555556,\"#d8576b\"],[0.6666666666666666,\"#ed7953\"],[0.7777777777777778,\"#fb9f3a\"],[0.8888888888888888,\"#fdca26\"],[1.0,\"#f0f921\"]]}],\"mesh3d\":[{\"type\":\"mesh3d\",\"colorbar\":{\"outlinewidth\":0,\"ticks\":\"\"}}],\"scatter\":[{\"fillpattern\":{\"fillmode\":\"overlay\",\"size\":10,\"solidity\":0.2},\"type\":\"scatter\"}],\"parcoords\":[{\"type\":\"parcoords\",\"line\":{\"colorbar\":{\"outlinewidth\":0,\"ticks\":\"\"}}}],\"scatterpolargl\":[{\"type\":\"scatterpolargl\",\"marker\":{\"colorbar\":{\"outlinewidth\":0,\"ticks\":\"\"}}}],\"bar\":[{\"error_x\":{\"color\":\"#2a3f5f\"},\"error_y\":{\"color\":\"#2a3f5f\"},\"marker\":{\"line\":{\"color\":\"#E5ECF6\",\"width\":0.5},\"pattern\":{\"fillmode\":\"overlay\",\"size\":10,\"solidity\":0.2}},\"type\":\"bar\"}],\"scattergeo\":[{\"type\":\"scattergeo\",\"marker\":{\"colorbar\":{\"outlinewidth\":0,\"ticks\":\"\"}}}],\"scatterpolar\":[{\"type\":\"scatterpolar\",\"marker\":{\"colorbar\":{\"outlinewidth\":0,\"ticks\":\"\"}}}],\"histogram\":[{\"marker\":{\"pattern\":{\"fillmode\":\"overlay\",\"size\":10,\"solidity\":0.2}},\"type\":\"histogram\"}],\"scattergl\":[{\"type\":\"scattergl\",\"marker\":{\"colorbar\":{\"outlinewidth\":0,\"ticks\":\"\"}}}],\"scatter3d\":[{\"type\":\"scatter3d\",\"line\":{\"colorbar\":{\"outlinewidth\":0,\"ticks\":\"\"}},\"marker\":{\"colorbar\":{\"outlinewidth\":0,\"ticks\":\"\"}}}],\"scattermapbox\":[{\"type\":\"scattermapbox\",\"marker\":{\"colorbar\":{\"outlinewidth\":0,\"ticks\":\"\"}}}],\"scatterternary\":[{\"type\":\"scatterternary\",\"marker\":{\"colorbar\":{\"outlinewidth\":0,\"ticks\":\"\"}}}],\"scattercarpet\":[{\"type\":\"scattercarpet\",\"marker\":{\"colorbar\":{\"outlinewidth\":0,\"ticks\":\"\"}}}],\"carpet\":[{\"aaxis\":{\"endlinecolor\":\"#2a3f5f\",\"gridcolor\":\"white\",\"linecolor\":\"white\",\"minorgridcolor\":\"white\",\"startlinecolor\":\"#2a3f5f\"},\"baxis\":{\"endlinecolor\":\"#2a3f5f\",\"gridcolor\":\"white\",\"linecolor\":\"white\",\"minorgridcolor\":\"white\",\"startlinecolor\":\"#2a3f5f\"},\"type\":\"carpet\"}],\"table\":[{\"cells\":{\"fill\":{\"color\":\"#EBF0F8\"},\"line\":{\"color\":\"white\"}},\"header\":{\"fill\":{\"color\":\"#C8D4E3\"},\"line\":{\"color\":\"white\"}},\"type\":\"table\"}],\"barpolar\":[{\"marker\":{\"line\":{\"color\":\"#E5ECF6\",\"width\":0.5},\"pattern\":{\"fillmode\":\"overlay\",\"size\":10,\"solidity\":0.2}},\"type\":\"barpolar\"}],\"pie\":[{\"automargin\":true,\"type\":\"pie\"}]},\"layout\":{\"autotypenumbers\":\"strict\",\"colorway\":[\"#636efa\",\"#EF553B\",\"#00cc96\",\"#ab63fa\",\"#FFA15A\",\"#19d3f3\",\"#FF6692\",\"#B6E880\",\"#FF97FF\",\"#FECB52\"],\"font\":{\"color\":\"#2a3f5f\"},\"hovermode\":\"closest\",\"hoverlabel\":{\"align\":\"left\"},\"paper_bgcolor\":\"white\",\"plot_bgcolor\":\"#E5ECF6\",\"polar\":{\"bgcolor\":\"#E5ECF6\",\"angularaxis\":{\"gridcolor\":\"white\",\"linecolor\":\"white\",\"ticks\":\"\"},\"radialaxis\":{\"gridcolor\":\"white\",\"linecolor\":\"white\",\"ticks\":\"\"}},\"ternary\":{\"bgcolor\":\"#E5ECF6\",\"aaxis\":{\"gridcolor\":\"white\",\"linecolor\":\"white\",\"ticks\":\"\"},\"baxis\":{\"gridcolor\":\"white\",\"linecolor\":\"white\",\"ticks\":\"\"},\"caxis\":{\"gridcolor\":\"white\",\"linecolor\":\"white\",\"ticks\":\"\"}},\"coloraxis\":{\"colorbar\":{\"outlinewidth\":0,\"ticks\":\"\"}},\"colorscale\":{\"sequential\":[[0.0,\"#0d0887\"],[0.1111111111111111,\"#46039f\"],[0.2222222222222222,\"#7201a8\"],[0.3333333333333333,\"#9c179e\"],[0.4444444444444444,\"#bd3786\"],[0.5555555555555556,\"#d8576b\"],[0.6666666666666666,\"#ed7953\"],[0.7777777777777778,\"#fb9f3a\"],[0.8888888888888888,\"#fdca26\"],[1.0,\"#f0f921\"]],\"sequentialminus\":[[0.0,\"#0d0887\"],[0.1111111111111111,\"#46039f\"],[0.2222222222222222,\"#7201a8\"],[0.3333333333333333,\"#9c179e\"],[0.4444444444444444,\"#bd3786\"],[0.5555555555555556,\"#d8576b\"],[0.6666666666666666,\"#ed7953\"],[0.7777777777777778,\"#fb9f3a\"],[0.8888888888888888,\"#fdca26\"],[1.0,\"#f0f921\"]],\"diverging\":[[0,\"#8e0152\"],[0.1,\"#c51b7d\"],[0.2,\"#de77ae\"],[0.3,\"#f1b6da\"],[0.4,\"#fde0ef\"],[0.5,\"#f7f7f7\"],[0.6,\"#e6f5d0\"],[0.7,\"#b8e186\"],[0.8,\"#7fbc41\"],[0.9,\"#4d9221\"],[1,\"#276419\"]]},\"xaxis\":{\"gridcolor\":\"white\",\"linecolor\":\"white\",\"ticks\":\"\",\"title\":{\"standoff\":15},\"zerolinecolor\":\"white\",\"automargin\":true,\"zerolinewidth\":2},\"yaxis\":{\"gridcolor\":\"white\",\"linecolor\":\"white\",\"ticks\":\"\",\"title\":{\"standoff\":15},\"zerolinecolor\":\"white\",\"automargin\":true,\"zerolinewidth\":2},\"scene\":{\"xaxis\":{\"backgroundcolor\":\"#E5ECF6\",\"gridcolor\":\"white\",\"linecolor\":\"white\",\"showbackground\":true,\"ticks\":\"\",\"zerolinecolor\":\"white\",\"gridwidth\":2},\"yaxis\":{\"backgroundcolor\":\"#E5ECF6\",\"gridcolor\":\"white\",\"linecolor\":\"white\",\"showbackground\":true,\"ticks\":\"\",\"zerolinecolor\":\"white\",\"gridwidth\":2},\"zaxis\":{\"backgroundcolor\":\"#E5ECF6\",\"gridcolor\":\"white\",\"linecolor\":\"white\",\"showbackground\":true,\"ticks\":\"\",\"zerolinecolor\":\"white\",\"gridwidth\":2}},\"shapedefaults\":{\"line\":{\"color\":\"#2a3f5f\"}},\"annotationdefaults\":{\"arrowcolor\":\"#2a3f5f\",\"arrowhead\":0,\"arrowwidth\":1},\"geo\":{\"bgcolor\":\"white\",\"landcolor\":\"#E5ECF6\",\"subunitcolor\":\"white\",\"showland\":true,\"showlakes\":true,\"lakecolor\":\"white\"},\"title\":{\"x\":0.05},\"mapbox\":{\"style\":\"light\"}}},\"scene\":{\"xaxis\":{\"title\":{\"text\":\"Localizzazione Geografica (Ovest → Est)\"},\"showspikes\":false},\"yaxis\":{\"title\":{\"text\":\"Influenza Politica\\u002fEconomica\"},\"showspikes\":false},\"zaxis\":{\"title\":{\"text\":\"Stile Culturale (Tradizionale → Occidentale)\"},\"showspikes\":false}},\"margin\":{\"l\":0,\"r\":0,\"b\":0,\"t\":50},\"title\":{\"text\":\"Embedding 3D di Nazioni e Capitali\"}},                        {\"responsive\": true}                    ).then(function(){\n",
       "                            \n",
       "var gd = document.getElementById('83b8fb52-f167-475e-b880-b3ed5481f0b2');\n",
       "var x = new MutationObserver(function (mutations, observer) {{\n",
       "        var display = window.getComputedStyle(gd).display;\n",
       "        if (!display || display === 'none') {{\n",
       "            console.log([gd, 'removed!']);\n",
       "            Plotly.purge(gd);\n",
       "            observer.disconnect();\n",
       "        }}\n",
       "}});\n",
       "\n",
       "// Listen for the removal of the full notebook cells\n",
       "var notebookContainer = gd.closest('#notebook-container');\n",
       "if (notebookContainer) {{\n",
       "    x.observe(notebookContainer, {childList: true});\n",
       "}}\n",
       "\n",
       "// Listen for the clearing of the current output cell\n",
       "var outputEl = gd.closest('.output');\n",
       "if (outputEl) {{\n",
       "    x.observe(outputEl, {childList: true});\n",
       "}}\n",
       "\n",
       "                        })                };                });            </script>        </div>"
      ]
     },
     "metadata": {},
     "output_type": "display_data"
    }
   ],
   "source": [
    "import plotly.graph_objects as go\n",
    "\n",
    "# Vettori (Longitudine, Influenza, Cultura)\n",
    "'''\n",
    "punti = {\n",
    "    \"Italia\": (0.6, 0.8, 0.9),\n",
    "    \"Roma\": (0.6, 0.8, 0.88),\n",
    "    \"Francia\": (0.5, 1.0, 1.0),\n",
    "    \"Parigi\": (0.5, 1.0, 0.98),\n",
    "    \"USA\": (0.2, 1.0, 1.0),\n",
    "    \"Washington\": (0.2, 1.0, 0.98),\n",
    "    \"Russia\": (0.9, 0.9, 0.6),\n",
    "    \"Mosca\": (0.9, 0.9, 0.58),\n",
    "    \"Cina\": (1.0, 1.0, 0.4),\n",
    "    \"Pechino\": (1.0, 1.0, 0.38),\n",
    "    \"Giappone\": (1.0, 0.9, 0.7),\n",
    "    \"Tokyo\": (1.0, 0.9, 0.68),\n",
    "    \"Brasile\": (0.3, 0.7, 0.8),\n",
    "    \"Brasilia\": (0.3, 0.7, 0.78),\n",
    "    \"India\": (0.95, 0.8, 0.5),\n",
    "    \"Nuova Delhi\": (0.95, 0.8, 0.48)\n",
    "}\n",
    "'''\n",
    "\n",
    "# longitudini normalizzate\n",
    "\n",
    "punti = {\n",
    "    \"Italia\": (0.6, 0.8, 0.9),\n",
    "    \"Roma\": (0.413, 0.8, 0.88),\n",
    "    \"Francia\": (0.5, 1.0, 1.0),\n",
    "    \"Parigi\": (0.366, 1.0, 0.98),\n",
    "    \"USA\": (0.2, 1.0, 1.0),\n",
    "    \"Washington\": (0.0, 1.0, 0.98),\n",
    "    \"Russia\": (0.9, 0.9, 0.6),\n",
    "    \"Mosca\": (0.529, 0.9, 0.58),\n",
    "    \"Cina\": (1.0, 1.0, 0.4),\n",
    "    \"Pechino\": (0.893, 1.0, 0.38),\n",
    "    \"Giappone\": (1.0, 0.9, 0.7),\n",
    "    \"Tokyo\": (1.0, 0.9, 0.68),\n",
    "    \"Brasile\": (0.3, 0.7, 0.8),\n",
    "    \"Brasilia\": (0.134, 0.7, 0.78),\n",
    "    \"India\": (0.95, 0.8, 0.5),\n",
    "    \"Nuova Delhi\": (0.711, 0.8, 0.48)\n",
    "}\n",
    "\n",
    "x = [v[0] for v in punti.values()]\n",
    "y = [v[1] for v in punti.values()]\n",
    "z = [v[2] for v in punti.values()]\n",
    "labels = list(punti.keys())\n",
    "\n",
    "# Assi evidenziati\n",
    "assi = [\n",
    "    go.Scatter3d(x=[0, 1.1], y=[0, 0], z=[0, 0], mode='lines', line=dict(color='black', width=4), showlegend=False),\n",
    "    go.Scatter3d(x=[0, 0], y=[0, 1.1], z=[0, 0], mode='lines', line=dict(color='black', width=4), showlegend=False),\n",
    "    go.Scatter3d(x=[0, 0], y=[0, 0], z=[0, 1.1], mode='lines', line=dict(color='black', width=4), showlegend=False)\n",
    "]\n",
    "\n",
    "punti_fig = go.Scatter3d(\n",
    "    x=x, y=y, z=z,\n",
    "    mode='markers+text',\n",
    "    text=labels,\n",
    "    textposition='top center',\n",
    "    marker=dict(size=6, color='lightblue', line=dict(width=1, color='darkblue'))\n",
    ")\n",
    "\n",
    "fig = go.Figure(data=assi + [punti_fig])\n",
    "fig.update_layout(\n",
    "    title='Embedding 3D di Nazioni e Capitali',\n",
    "    scene=dict(\n",
    "        xaxis_title='Localizzazione Geografica (Ovest → Est)',\n",
    "        yaxis_title='Influenza Politica/Economica',\n",
    "        zaxis_title='Stile Culturale (Tradizionale → Occidentale)',\n",
    "        xaxis=dict(showspikes=False),\n",
    "        yaxis=dict(showspikes=False),\n",
    "        zaxis=dict(showspikes=False)\n",
    "    ),\n",
    "    margin=dict(l=0, r=0, b=0, t=50)\n",
    ")\n",
    "\n",
    "fig.show()\n"
   ]
  },
  {
   "cell_type": "code",
   "execution_count": null,
   "id": "73df9953",
   "metadata": {},
   "outputs": [],
   "source": []
  },
  {
   "cell_type": "markdown",
   "id": "936a8a2e",
   "metadata": {},
   "source": [
    "**Addizione e Sottrazione di Vettori**"
   ]
  },
  {
   "cell_type": "markdown",
   "id": "18b5d34f",
   "metadata": {},
   "source": [
    "$$Francia - Parigi = Italia - Roma$$"
   ]
  },
  {
   "cell_type": "code",
   "execution_count": 7,
   "id": "e57640b1",
   "metadata": {},
   "outputs": [],
   "source": [
    "import numpy as np"
   ]
  },
  {
   "cell_type": "code",
   "execution_count": 8,
   "id": "da82dfb3",
   "metadata": {},
   "outputs": [
    {
     "data": {
      "text/plain": [
       "array([0.6, 0.8, 0.9])"
      ]
     },
     "execution_count": 8,
     "metadata": {},
     "output_type": "execute_result"
    }
   ],
   "source": [
    "Italia = np.array(punti['Italia'])\n",
    "Italia"
   ]
  },
  {
   "cell_type": "code",
   "execution_count": 9,
   "id": "453cabc7",
   "metadata": {},
   "outputs": [
    {
     "data": {
      "text/plain": [
       "array([0.413, 0.8  , 0.88 ])"
      ]
     },
     "execution_count": 9,
     "metadata": {},
     "output_type": "execute_result"
    }
   ],
   "source": [
    "Roma = np.array(punti['Roma'])\n",
    "Roma"
   ]
  },
  {
   "cell_type": "code",
   "execution_count": 10,
   "id": "4f673e09",
   "metadata": {},
   "outputs": [
    {
     "data": {
      "text/plain": [
       "array([0.5, 1. , 1. ])"
      ]
     },
     "execution_count": 10,
     "metadata": {},
     "output_type": "execute_result"
    }
   ],
   "source": [
    "Francia = np.array(punti['Francia'])\n",
    "Francia"
   ]
  },
  {
   "cell_type": "code",
   "execution_count": 11,
   "id": "b8bcc6fa",
   "metadata": {},
   "outputs": [
    {
     "data": {
      "text/plain": [
       "array([0.313, 1.   , 0.98 ])"
      ]
     },
     "execution_count": 11,
     "metadata": {},
     "output_type": "execute_result"
    }
   ],
   "source": [
    "Francia + (Roma - Italia)"
   ]
  },
  {
   "cell_type": "code",
   "execution_count": 12,
   "id": "747264b6",
   "metadata": {},
   "outputs": [
    {
     "name": "stdout",
     "output_type": "stream",
     "text": [
      "[0.366 1.    0.98 ]\n"
     ]
    }
   ],
   "source": [
    "print(np.array(punti['Parigi']))"
   ]
  },
  {
   "cell_type": "markdown",
   "id": "69136461",
   "metadata": {},
   "source": [
    "**Prodotto di Vettori**"
   ]
  },
  {
   "cell_type": "markdown",
   "id": "710646e3",
   "metadata": {},
   "source": [
    "Il prodotto fra vettori può essere in qualche modo relazionato al concetto di similarità. Geometricamente il prodotto scalare misura quanto due vettori sono ***allineati***. Un prodotto scalare pari a zero indica che i vettori sono perpendicolari mentre un valore maggiore di zero indica un certo grado di allineamento nella stessa direzione e un numero minore di zero indica che sono più o meno allineati ma puntano in direzioni opposte. "
   ]
  },
  {
   "cell_type": "markdown",
   "id": "238b65b4",
   "metadata": {},
   "source": []
  },
  {
   "cell_type": "markdown",
   "id": "c5c5129e",
   "metadata": {},
   "source": []
  },
  {
   "cell_type": "markdown",
   "id": "01201591",
   "metadata": {},
   "source": [
    "## Word2Vec"
   ]
  },
  {
   "cell_type": "markdown",
   "id": "87ebaed2",
   "metadata": {},
   "source": [
    "Un modello come **word2vec** impara gli embeddings (rappresentazioni numeriche delle parole) basandosi su un principio semplice:\n",
    "\n",
    "> \"**parole simili appaiono in contesti simili**\".\n",
    "\n",
    "Per esempio, le parole \"gatto\" e \"cane\" spesso compaiono vicine a parole come \"animale\", \"cibo\" o \"giocare\", mentre \"auto\" e \"bicicletta\" appaiono vicine a parole come \"guidare\", \"strada\", \"velocità\".\n",
    "\n",
    "Ecco, passo per passo, come funziona in maniera molto semplificata:\n",
    "\n",
    "1. **Scansione di un testo**:  \n",
    "   Il modello legge tantissime frasi e osserva quali parole si trovano spesso vicine tra loro.\n",
    "\n",
    "2. **Addestramento**:  \n",
    "   Il modello cerca di prevedere, data una parola, quali parole tendono ad apparire vicine. Ad esempio, data la parola \"gatto\", il modello cerca di indovinare parole come \"miagolare\" o \"croccantini\".\n",
    "\n",
    "3. **Conversione in numeri (embeddings)**:  \n",
    "   Durante questo allenamento, il modello assegna automaticamente a ogni parola dei valori numerici (chiamati embedding) che catturano queste relazioni. Parole con significati o usi simili avranno embeddings numerici molto simili tra loro.\n",
    "\n",
    "Alla fine, ogni parola è rappresentata da una sequenza di numeri (un vettore), che racchiude in sé il suo significato e i suoi rapporti con tutte le altre parole osservate.\n",
    "\n",
    "Questo permette ai modelli di usare direttamente questi vettori numerici per calcolare similarità e analogie tra le parole, facendo operazioni matematiche molto semplici."
   ]
  },
  {
   "cell_type": "markdown",
   "id": "3d36eebb",
   "metadata": {},
   "source": [
    "Il modello **word2vec** assegna a ciascuna parola dei valori numerici (embeddings) attraverso una procedura molto semplice, che si basa su tentativi ed errori e piccoli aggiustamenti continui:\n",
    "\n",
    "Ecco, spiegato passo-passo con parole semplici:\n",
    "\n",
    "### 1. **Inizia in modo casuale**\n",
    "- All’inizio, ogni parola viene associata a una sequenza di numeri casuali.\n",
    "\n",
    "### 2. **Gioco di \"indovina la parola\"**\n",
    "- Il modello prende una parola dal testo, ad esempio *\"gatto\"*, e prova a prevedere quali altre parole spesso compaiono vicino ad essa (ad esempio \"mangia\", \"gioca\", \"miagola\").\n",
    "- Se il modello riesce a prevedere correttamente le parole vicine, allora i numeri (embeddings) assegnati sono buoni. Se sbaglia, vuol dire che i numeri devono essere modificati.\n",
    "\n",
    "### 3. **Impara dagli errori**\n",
    "- Quando il modello sbaglia, cambia leggermente i valori numerici delle parole coinvolte per migliorare la previsione futura.\n",
    "- Le parole che compaiono spesso insieme nel testo, progressivamente, avranno valori numerici sempre più simili tra loro.\n",
    "\n",
    "### 4. **Ripeti molte volte**\n",
    "- Il modello ripete questo processo moltissime volte, su milioni di frasi e parole.\n",
    "- A ogni ripetizione, i valori numerici si aggiustano leggermente fino a diventare sempre più precisi.\n",
    "\n",
    "### Alla fine del processo:\n",
    "- Parole che appaiono in contesti simili finiscono per avere valori numerici molto vicini tra loro.\n",
    "- Parole con significati molto diversi avranno valori numerici più distanti.\n",
    "\n",
    "Questo meccanismo è ciò che permette a **word2vec** di catturare e rappresentare numericamente i significati e le relazioni tra le parole."
   ]
  },
  {
   "cell_type": "markdown",
   "id": "09823a6b",
   "metadata": {},
   "source": [
    "Certamente! Vediamo in modo più approfondito e intuitivo come funziona questa parte centrale del modello **word2vec**:\n",
    "\n",
    "---\n",
    "\n",
    "## 🟢 **Fase iniziale: parole e numeri casuali**\n",
    "\n",
    "Immagina che ogni parola, all'inizio, sia associata a una sequenza casuale di numeri (un \"embedding iniziale\").\n",
    "\n",
    "Ad esempio, semplificando:\n",
    "\n",
    "- **gatto** → `[0.2, 0.6, 0.3]`\n",
    "- **mangia** → `[0.8, 0.1, 0.5]`\n",
    "- **cane** → `[0.4, 0.9, 0.7]`\n",
    "- **miagola** → `[0.3, 0.2, 0.4]`\n",
    "\n",
    "Questi numeri, inizialmente casuali, non significano ancora niente.\n",
    "\n",
    "---\n",
    "\n",
    "## 🔵 **Come funziona il gioco della previsione (training)**\n",
    "\n",
    "Word2vec utilizza principalmente due strategie: vediamo la più comune, chiamata **skip-gram**.\n",
    "\n",
    "Con la tecnica **skip-gram**, il modello segue questi passi:\n",
    "\n",
    "### ① **Prende una parola centrale dal testo** (ad esempio \"gatto\").\n",
    "\n",
    "Immagina la frase:\n",
    "\n",
    "> \"il **gatto** mangia e poi miagola\"\n",
    "\n",
    "La parola centrale scelta è **gatto**.\n",
    "\n",
    "### ② **Prova a indovinare le parole vicine** (contesto).\n",
    "\n",
    "In questa frase, intorno alla parola \"gatto\", ci sono parole vicine:  \n",
    "- \"il\"  \n",
    "- \"mangia\"  \n",
    "- \"e\"  \n",
    "\n",
    "Queste parole costituiscono il \"contesto\" di \"gatto\".\n",
    "\n",
    "Il modello prende il vettore numerico (embedding) di **gatto** e cerca di predire (indovinare) gli embedding delle parole vicine.\n",
    "\n",
    "### ③ **Calcola se ha indovinato o no (calcolo dell’errore)**.\n",
    "\n",
    "In pratica, il modello converte gli embeddings in probabilità che ciascuna parola appaia nel contesto:\n",
    "\n",
    "- se il modello dice correttamente che \"mangia\" o \"miagola\" sono vicine a \"gatto\", riceve un errore basso.\n",
    "- se sbaglia (ad esempio dice che \"automobile\" o \"televisore\" sono vicine a \"gatto\"), l'errore è alto.\n",
    "\n",
    "In questo passaggio, il modello utilizza una funzione matematica (solitamente una funzione chiamata \"softmax\" o versioni semplificate) per calcolare la probabilità di ogni parola di apparire vicino alla parola \"gatto\".\n",
    "\n",
    "---\n",
    "\n",
    "## 🟣 **Aggiornamento degli embeddings (apprendimento dagli errori)**\n",
    "\n",
    "Una volta che il modello calcola quanto ha sbagliato, usa questo errore per modificare leggermente i numeri associati a \"gatto\" e alle parole vicine, per migliorare la prossima previsione.\n",
    "\n",
    "- **Se ha predetto bene**: i numeri (embeddings) restano simili o subiscono modifiche piccolissime.\n",
    "- **Se ha predetto male**: gli embeddings vengono modificati significativamente, per avvicinare \"gatto\" alle parole corrette e allontanarlo dalle parole sbagliate.\n",
    "\n",
    "Ad esempio, se inizialmente \"gatto\" e \"miagola\" avevano numeri molto diversi tra loro, il modello, dopo aver notato che appaiono spesso insieme, modificherà i numeri per avvicinarli.\n",
    "\n",
    "**Così, lentamente, embeddings casuali iniziali evolvono in embeddings significativi.**\n",
    "\n",
    "---\n",
    "\n",
    "## 🔴 **Iterazione del processo**\n",
    "\n",
    "Questo processo viene ripetuto **milioni di volte**, passando attraverso un grande numero di parole e frasi diverse.\n",
    "\n",
    "Ogni volta:\n",
    "\n",
    "- il modello prende una nuova parola centrale.\n",
    "- prova a indovinare le parole vicine.\n",
    "- calcola l’errore.\n",
    "- modifica gli embeddings in base a quell’errore.\n",
    "\n",
    "Col passare del tempo, questo meccanismo produce embeddings numerici sempre più precisi e capaci di catturare il significato e la relazione tra parole.\n",
    "\n",
    "---\n",
    "\n",
    "## 🎯 **Cosa succede alla fine (risultato finale)?**\n",
    "\n",
    "Alla fine dell’addestramento avrai una situazione tipo:\n",
    "\n",
    "- **gatto** → `[0.2, 0.5, 0.4]`\n",
    "- **miagola** → `[0.21, 0.51, 0.39]`\n",
    "- **cane** → `[0.22, 0.52, 0.41]`\n",
    "\n",
    "Noterai che \"gatto\", \"miagola\" e \"cane\" ora hanno numeri molto più simili tra loro, rispetto a parole diverse come \"automobile\" o \"computer\", che avranno numeri diversi.\n",
    "\n",
    "Questi valori finali (\"embeddings addestrati\") rappresentano dunque il significato delle parole e i loro rapporti reciproci, **pronti per essere utilizzati per altre applicazioni** (ad esempio confrontare il significato di due parole o trovare sinonimi).\n",
    "\n",
    "---\n",
    "\n",
    "Questa è, in modo più dettagliato ma semplice, la procedura che permette al modello word2vec di assegnare a ogni parola valori numerici che catturano relazioni e significato."
   ]
  },
  {
   "cell_type": "markdown",
   "id": "692ba370",
   "metadata": {},
   "source": []
  },
  {
   "cell_type": "markdown",
   "id": "9957a792",
   "metadata": {},
   "source": [
    "## Uso degli embeddings"
   ]
  },
  {
   "cell_type": "markdown",
   "id": "b3c94453",
   "metadata": {},
   "source": [
    "Come vengono utilizzati gli embeddings nel mondo dell'IA Generativa?\n",
    "\n",
    "Partiamo con ChatGPT, che usa gli embeddings per capire il significato delle parole. Parola per parola, frase per frase per poi generare del testo. Noi abbiamo parlato di embeddings semplici a poche dimensioni, abbiamo parlato di Word2Vec che usa 300 dimensioni, ma giusto per darvi un'idea gli *embeddings* usati da ChatGPT usano **12888 dimensioni!**"
   ]
  },
  {
   "cell_type": "markdown",
   "id": "1bc9cdea",
   "metadata": {},
   "source": []
  },
  {
   "cell_type": "markdown",
   "id": "9ff32bea",
   "metadata": {},
   "source": []
  },
  {
   "cell_type": "markdown",
   "id": "f279d8c2",
   "metadata": {},
   "source": []
  },
  {
   "cell_type": "code",
   "execution_count": null,
   "id": "25d01b66",
   "metadata": {},
   "outputs": [],
   "source": []
  }
 ],
 "metadata": {
  "kernelspec": {
   "display_name": "Python 3 (ipykernel)",
   "language": "python",
   "name": "python3"
  },
  "language_info": {
   "codemirror_mode": {
    "name": "ipython",
    "version": 3
   },
   "file_extension": ".py",
   "mimetype": "text/x-python",
   "name": "python",
   "nbconvert_exporter": "python",
   "pygments_lexer": "ipython3",
   "version": "3.10.9"
  },
  "toc": {
   "base_numbering": 1,
   "nav_menu": {},
   "number_sections": true,
   "sideBar": true,
   "skip_h1_title": false,
   "title_cell": "Table of Contents",
   "title_sidebar": "Contents",
   "toc_cell": false,
   "toc_position": {},
   "toc_section_display": true,
   "toc_window_display": false
  }
 },
 "nbformat": 4,
 "nbformat_minor": 5
}
