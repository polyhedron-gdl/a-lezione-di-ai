{
 "cells": [
  {
   "cell_type": "markdown",
   "id": "bd2b47f7",
   "metadata": {},
   "source": [
    "# Tutto comincia con una retta"
   ]
  },
  {
   "cell_type": "markdown",
   "id": "f19fb32f",
   "metadata": {},
   "source": [
    "## Regressione Lineare"
   ]
  },
  {
   "cell_type": "code",
   "execution_count": 1,
   "id": "129c134a",
   "metadata": {},
   "outputs": [
    {
     "data": {
      "application/vnd.jupyter.widget-view+json": {
       "model_id": "ec7087f995dd4921afaaff4dcb82d0ee",
       "version_major": 2,
       "version_minor": 0
      },
      "text/plain": [
       "interactive(children=(FloatSlider(value=-2.0, description='m', max=5.0, min=-5.0), FloatSlider(value=0.0, desc…"
      ]
     },
     "metadata": {},
     "output_type": "display_data"
    },
    {
     "data": {
      "text/plain": [
       "<function __main__.plot_retta(m=2, b=0)>"
      ]
     },
     "execution_count": 1,
     "metadata": {},
     "output_type": "execute_result"
    }
   ],
   "source": [
    "import matplotlib.pyplot as plt\n",
    "from ipywidgets import interact, FloatSlider\n",
    "import numpy as np\n",
    "\n",
    "# Dati stimati dalla tua immagine\n",
    "X = np.array([70,  75,  85,  90,  95, 100, 105, 110, 120, 130, 140])\n",
    "Y = np.array([95, 130, 210, 205, 250, 215, 260, 265, 285, 207, 224])\n",
    "\n",
    "# Funzione per il plot interattivo\n",
    "def plot_retta(m=2, b=0):\n",
    "    plt.figure(figsize=(8, 4))\n",
    "    plt.scatter(X, Y, color='black', s=10, label='Dati reali')\n",
    "    x_line = np.linspace(0, 145, 100)\n",
    "    y_line = m * x_line + b\n",
    "    plt.plot(x_line, y_line, color='red', label=f'y = {m:.1f}x + {b:.1f}')\n",
    "    plt.xlim(0, 145)\n",
    "    plt.ylim(-300, 300)\n",
    "    plt.xlabel(\"superficie (m²)\")\n",
    "    plt.ylabel(\"costo (€)\")\n",
    "    plt.title(\"Regressione lineare interattiva\")\n",
    "    plt.grid(True)\n",
    "    plt.legend()\n",
    "    plt.show()\n",
    "\n",
    "# Slider interattivi per m e b\n",
    "interact(\n",
    "    plot_retta,\n",
    "    m=FloatSlider(min=-5, max=5, step=0.1,   value=-2),\n",
    "    b=FloatSlider(min=-100, max=100, step=5, value=0)\n",
    ")\n"
   ]
  },
  {
   "cell_type": "markdown",
   "id": "d1d81754",
   "metadata": {},
   "source": [
    "## Regressione Lineare con Errore Visualizzato "
   ]
  },
  {
   "cell_type": "code",
   "execution_count": 2,
   "id": "f4684bff",
   "metadata": {},
   "outputs": [
    {
     "data": {
      "application/vnd.jupyter.widget-view+json": {
       "model_id": "462edf5b56d740a8b328654b4a887be2",
       "version_major": 2,
       "version_minor": 0
      },
      "text/plain": [
       "interactive(children=(FloatSlider(value=2.0, description='m', max=5.0), FloatSlider(value=0.0, description='b'…"
      ]
     },
     "metadata": {},
     "output_type": "display_data"
    },
    {
     "data": {
      "text/plain": [
       "<function __main__.plot_retta(m=2, b=0)>"
      ]
     },
     "execution_count": 2,
     "metadata": {},
     "output_type": "execute_result"
    }
   ],
   "source": [
    "import matplotlib.pyplot as plt\n",
    "from ipywidgets import interact, FloatSlider\n",
    "import numpy as np\n",
    "\n",
    "# Dati stimati visivamente dall'immagine del libro\n",
    "X = np.array([70, 75, 85, 90, 100, 110, 120, 130, 140])\n",
    "Y = np.array([95, 130, 210, 205, 250, 215, 260, 265, 285])\n",
    "\n",
    "# Funzione di plotting interattivo\n",
    "def plot_retta(m=2, b=0):\n",
    "    plt.figure(figsize=(8, 4))\n",
    "    \n",
    "    # Punti reali\n",
    "    plt.scatter(X, Y, color='black', s=10, label='Dati reali')\n",
    "\n",
    "    # Retta ipotizzata\n",
    "    x_line = np.linspace(65, 145, 100)\n",
    "    y_line = m * x_line + b\n",
    "    plt.plot(x_line, y_line, color='red', label=f'Retta: y = {m:.1f}x + {b:.1f}')\n",
    "\n",
    "    # Linee verticali di errore (gialle tratteggiate)\n",
    "    for x_i, y_i in zip(X, Y):\n",
    "        y_pred = m * x_i + b\n",
    "        plt.plot([x_i, x_i], [y_i, y_pred], color='gold', linestyle='--', linewidth=2)\n",
    "\n",
    "    plt.xlim(65, 145)\n",
    "    plt.ylim(80, 300)\n",
    "    plt.xlabel(\"Superficie (m²)\")\n",
    "    plt.ylabel(\"Costo (€)\")\n",
    "    plt.title(\"Regressione lineare interattiva con errore visualizzato\")\n",
    "    plt.grid(True)\n",
    "    plt.legend()\n",
    "    plt.show()\n",
    "\n",
    "# Slider interattivi per m e b\n",
    "interact(\n",
    "    plot_retta,\n",
    "    m=FloatSlider(min=0, max=5, step=0.1, value=2),\n",
    "    b=FloatSlider(min=0, max=100, step=5, value=0)\n",
    ")\n"
   ]
  },
  {
   "cell_type": "markdown",
   "id": "9c362e67",
   "metadata": {},
   "source": [
    "## Regressione Lineare con Errore e MSE Visualizzato"
   ]
  },
  {
   "cell_type": "code",
   "execution_count": 3,
   "id": "57368331",
   "metadata": {},
   "outputs": [
    {
     "data": {
      "application/vnd.jupyter.widget-view+json": {
       "model_id": "7c1437a2bd1f432484a44b56cc0b5f5b",
       "version_major": 2,
       "version_minor": 0
      },
      "text/plain": [
       "interactive(children=(FloatSlider(value=2.0, description='m', max=5.0), FloatSlider(value=0.0, description='b'…"
      ]
     },
     "metadata": {},
     "output_type": "display_data"
    },
    {
     "data": {
      "text/plain": [
       "<function __main__.plot_retta(m=2, b=0)>"
      ]
     },
     "execution_count": 3,
     "metadata": {},
     "output_type": "execute_result"
    }
   ],
   "source": [
    "import matplotlib.pyplot as plt\n",
    "from ipywidgets import interact, FloatSlider\n",
    "import numpy as np\n",
    "\n",
    "# Dati estratti visivamente dall'immagine del libro\n",
    "X = np.array([70, 75, 85, 90, 100, 110, 120, 130, 140])\n",
    "Y = np.array([95, 130, 210, 205, 250, 215, 260, 265, 285])\n",
    "\n",
    "# Funzione interattiva con MSE\n",
    "def plot_retta(m=2, b=0):\n",
    "    plt.figure(figsize=(8, 4))\n",
    "\n",
    "    # Retta stimata\n",
    "    Y_pred = m * X + b\n",
    "    mse = np.mean((Y - Y_pred) ** 2)\n",
    "\n",
    "    # Punti reali\n",
    "    plt.scatter(X, Y, color='black', s=10, label='Dati reali')\n",
    "\n",
    "    # Retta stimata\n",
    "    x_line = np.linspace(65, 145, 100)\n",
    "    y_line = m * x_line + b\n",
    "    plt.plot(x_line, y_line, color='red', label=f'Retta: y = {m:.1f}x + {b:.1f}')\n",
    "\n",
    "    # Linee verticali gialle per visualizzare l'errore\n",
    "    for x_i, y_i in zip(X, Y):\n",
    "        y_hat = m * x_i + b\n",
    "        plt.plot([x_i, x_i], [y_i, y_hat], color='gold', linestyle='--', linewidth=2)\n",
    "\n",
    "    # Aggiunta del valore MSE sul grafico\n",
    "    plt.text(70, 90, f'MSE: {mse:.2f}', fontsize=12, color='darkgreen', bbox=dict(facecolor='white', edgecolor='gray'))\n",
    "\n",
    "    plt.xlim(65, 145)\n",
    "    plt.ylim(80, 300)\n",
    "    plt.xlabel(\"Superficie (m²)\")\n",
    "    plt.ylabel(\"Costo (€)\")\n",
    "    plt.title(\"Regressione lineare interattiva con errore e MSE\")\n",
    "    plt.grid(True)\n",
    "    plt.legend()\n",
    "    plt.show()\n",
    "\n",
    "# Slider per modificare m e b\n",
    "interact(\n",
    "    plot_retta,\n",
    "    m=FloatSlider(min=0, max=5, step=0.1, value=2),\n",
    "    b=FloatSlider(min=0, max=100, step=5, value=0)\n",
    ")\n"
   ]
  },
  {
   "cell_type": "markdown",
   "id": "f3d55212",
   "metadata": {},
   "source": [
    "## Regressione Lineare con Errore e MSE Visualizzato e Plottato"
   ]
  },
  {
   "cell_type": "code",
   "execution_count": 4,
   "id": "4c1e1b30",
   "metadata": {},
   "outputs": [
    {
     "data": {
      "application/vnd.jupyter.widget-view+json": {
       "model_id": "d19db2227ee843069bc48a500aae8d32",
       "version_major": 2,
       "version_minor": 0
      },
      "text/plain": [
       "interactive(children=(FloatSlider(value=2.0, description='m', max=5.0, min=-5.0), FloatSlider(value=0.0, descr…"
      ]
     },
     "metadata": {},
     "output_type": "display_data"
    },
    {
     "data": {
      "text/plain": [
       "<function __main__.plot_all(m=2, b=0)>"
      ]
     },
     "execution_count": 4,
     "metadata": {},
     "output_type": "execute_result"
    }
   ],
   "source": [
    "import numpy as np\n",
    "import matplotlib.pyplot as plt\n",
    "from ipywidgets import interact, FloatSlider\n",
    "from mpl_toolkits.mplot3d import Axes3D\n",
    "\n",
    "# Dati\n",
    "X = np.array([70, 75, 85, 90, 100, 110, 120, 130, 140])\n",
    "X = np.array([70, 75, 85, 90, 100, 110, 120, 130, 140])\n",
    "#Y = np.array([95, 130, 210, 205, 250, 215, 260, 265, 285])\n",
    "\n",
    "# Griglia di valori per m e b\n",
    "#m_vals = np.linspace(0, 5, 50)\n",
    "#b_vals = np.linspace(0, 100, 50)\n",
    "\n",
    "m_vals = np.linspace(-5, 5, 50)\n",
    "b_vals = np.linspace(-100, 100, 50)\n",
    "\n",
    "M, B = np.meshgrid(m_vals, b_vals)\n",
    "\n",
    "# Calcolo della superficie MSE\n",
    "def compute_mse_surface(X, Y, M, B):\n",
    "    mse_vals = np.zeros_like(M)\n",
    "    for i in range(M.shape[0]):\n",
    "        for j in range(M.shape[1]):\n",
    "            m = M[i, j]\n",
    "            b = B[i, j]\n",
    "            Y_pred = m * X + b\n",
    "            mse = np.mean((Y - Y_pred) ** 2)\n",
    "            mse_vals[i, j] = mse\n",
    "    return mse_vals\n",
    "\n",
    "MSE_vals = compute_mse_surface(X, Y, M, B)\n",
    "\n",
    "# Funzione di plotting interattivo\n",
    "def plot_all(m=2, b=0):\n",
    "    fig = plt.figure(figsize=(14, 5))\n",
    "    \n",
    "    # Primo grafico: regressione lineare\n",
    "    ax1 = fig.add_subplot(1, 2, 1)\n",
    "    Y_pred = m * X + b\n",
    "    mse = np.mean((Y - Y_pred) ** 2)\n",
    "    \n",
    "    ax1.scatter(X, Y, color='black', s=25, label='Dati reali')\n",
    "    x_line = np.linspace(0, 145, 100)\n",
    "    y_line = m * x_line + b\n",
    "    ax1.plot(x_line, y_line, color='red', label=f'Retta: y = {m:.1f}x + {b:.1f}')\n",
    "    \n",
    "    for x_i, y_i in zip(X, Y):\n",
    "        y_hat = m * x_i + b\n",
    "        ax1.plot([x_i, x_i], [y_i, y_hat], color='gold', linestyle='--', linewidth=1.5)\n",
    "    \n",
    "    ax1.text(70, 90, f'MSE: {mse:.2f}', fontsize=12, color='darkgreen',\n",
    "             bbox=dict(facecolor='white', edgecolor='gray'))\n",
    "    \n",
    "    ax1.set_xlim(0, 145)\n",
    "    ax1.set_ylim(-100, 300)\n",
    "    ax1.set_xlabel(\"Superficie (m²)\")\n",
    "    ax1.set_ylabel(\"Costo (€)\")\n",
    "    ax1.set_title(\"Regressione lineare con errore\")\n",
    "    ax1.grid(True)\n",
    "    ax1.legend()\n",
    "\n",
    "    # Secondo grafico: superficie MSE 3D\n",
    "    ax2 = fig.add_subplot(1, 2, 2, projection='3d')\n",
    "    ax2.plot_surface(M, B, MSE_vals, cmap='viridis', alpha=0.8)\n",
    "    ax2.scatter(m, b, mse, color='red', s=50, label=\"Punto corrente\")  # punto attuale\n",
    "    ax2.set_xlabel(\"m (pendenza)\")\n",
    "    ax2.set_ylabel(\"b (intercetta)\")\n",
    "    ax2.set_zlabel(\"MSE\")\n",
    "    ax2.set_title(\"Superficie dell'errore MSE\")\n",
    "    ax2.view_init(elev=30, azim=45)\n",
    "    ax2.legend()\n",
    "\n",
    "    plt.tight_layout()\n",
    "    plt.show()\n",
    "\n",
    "# Interfaccia interattiva\n",
    "interact(\n",
    "    plot_all,\n",
    "    m=FloatSlider(min=-5  , max=5, step=0.1, value=2, description=\"m\"),\n",
    "    b=FloatSlider(min=-100, max=100, step=1, value=0, description=\"b\")\n",
    ")\n"
   ]
  },
  {
   "cell_type": "code",
   "execution_count": null,
   "id": "dfc58141",
   "metadata": {},
   "outputs": [],
   "source": []
  }
 ],
 "metadata": {
  "kernelspec": {
   "display_name": "Python 3 (ipykernel)",
   "language": "python",
   "name": "python3"
  },
  "language_info": {
   "codemirror_mode": {
    "name": "ipython",
    "version": 3
   },
   "file_extension": ".py",
   "mimetype": "text/x-python",
   "name": "python",
   "nbconvert_exporter": "python",
   "pygments_lexer": "ipython3",
   "version": "3.10.9"
  },
  "toc": {
   "base_numbering": 1,
   "nav_menu": {},
   "number_sections": true,
   "sideBar": true,
   "skip_h1_title": false,
   "title_cell": "Table of Contents",
   "title_sidebar": "Contents",
   "toc_cell": false,
   "toc_position": {},
   "toc_section_display": true,
   "toc_window_display": false
  }
 },
 "nbformat": 4,
 "nbformat_minor": 5
}
